{
 "cells": [
  {
   "cell_type": "code",
   "execution_count": 1,
   "id": "d2893c70",
   "metadata": {
    "_kg_hide-input": false,
    "_kg_hide-output": true,
    "execution": {
     "iopub.execute_input": "2024-07-15T18:59:13.081103Z",
     "iopub.status.busy": "2024-07-15T18:59:13.080352Z",
     "iopub.status.idle": "2024-07-15T18:59:48.064912Z",
     "shell.execute_reply": "2024-07-15T18:59:48.063962Z"
    },
    "papermill": {
     "duration": 35.004305,
     "end_time": "2024-07-15T18:59:48.067189",
     "exception": false,
     "start_time": "2024-07-15T18:59:13.062884",
     "status": "completed"
    },
    "scrolled": true,
    "tags": []
   },
   "outputs": [
    {
     "name": "stdout",
     "output_type": "stream",
     "text": [
      "Looking in links: /kaggle/input/lmsys-wheel-files\r\n",
      "Requirement already satisfied: transformers in /opt/conda/lib/python3.10/site-packages (4.41.2)\r\n",
      "Processing /kaggle/input/lmsys-wheel-files/transformers-4.42.3-py3-none-any.whl\r\n",
      "Processing /kaggle/input/lmsys-wheel-files/peft-0.11.1-py3-none-any.whl\r\n",
      "Requirement already satisfied: accelerate in /opt/conda/lib/python3.10/site-packages (0.30.1)\r\n",
      "Processing /kaggle/input/lmsys-wheel-files/accelerate-0.32.1-py3-none-any.whl\r\n",
      "Processing /kaggle/input/lmsys-wheel-files/bitsandbytes-0.43.1-py3-none-manylinux_2_24_x86_64.whl\r\n",
      "Requirement already satisfied: filelock in /opt/conda/lib/python3.10/site-packages (from transformers) (3.13.1)\r\n",
      "Requirement already satisfied: huggingface-hub<1.0,>=0.23.2 in /opt/conda/lib/python3.10/site-packages (from transformers) (0.23.2)\r\n",
      "Requirement already satisfied: numpy<2.0,>=1.17 in /opt/conda/lib/python3.10/site-packages (from transformers) (1.26.4)\r\n",
      "Requirement already satisfied: packaging>=20.0 in /opt/conda/lib/python3.10/site-packages (from transformers) (21.3)\r\n",
      "Requirement already satisfied: pyyaml>=5.1 in /opt/conda/lib/python3.10/site-packages (from transformers) (6.0.1)\r\n",
      "Requirement already satisfied: regex!=2019.12.17 in /opt/conda/lib/python3.10/site-packages (from transformers) (2023.12.25)\r\n",
      "Requirement already satisfied: requests in /opt/conda/lib/python3.10/site-packages (from transformers) (2.32.3)\r\n",
      "Requirement already satisfied: safetensors>=0.4.1 in /opt/conda/lib/python3.10/site-packages (from transformers) (0.4.3)\r\n",
      "Requirement already satisfied: tokenizers<0.20,>=0.19 in /opt/conda/lib/python3.10/site-packages (from transformers) (0.19.1)\r\n",
      "Requirement already satisfied: tqdm>=4.27 in /opt/conda/lib/python3.10/site-packages (from transformers) (4.66.4)\r\n",
      "Requirement already satisfied: psutil in /opt/conda/lib/python3.10/site-packages (from peft) (5.9.3)\r\n",
      "Requirement already satisfied: torch>=1.13.0 in /opt/conda/lib/python3.10/site-packages (from peft) (2.1.2)\r\n",
      "Requirement already satisfied: fsspec>=2023.5.0 in /opt/conda/lib/python3.10/site-packages (from huggingface-hub<1.0,>=0.23.2->transformers) (2024.3.1)\r\n",
      "Requirement already satisfied: typing-extensions>=3.7.4.3 in /opt/conda/lib/python3.10/site-packages (from huggingface-hub<1.0,>=0.23.2->transformers) (4.9.0)\r\n",
      "Requirement already satisfied: pyparsing!=3.0.5,>=2.0.2 in /opt/conda/lib/python3.10/site-packages (from packaging>=20.0->transformers) (3.1.1)\r\n",
      "Requirement already satisfied: sympy in /opt/conda/lib/python3.10/site-packages (from torch>=1.13.0->peft) (1.12.1)\r\n",
      "Requirement already satisfied: networkx in /opt/conda/lib/python3.10/site-packages (from torch>=1.13.0->peft) (3.2.1)\r\n",
      "Requirement already satisfied: jinja2 in /opt/conda/lib/python3.10/site-packages (from torch>=1.13.0->peft) (3.1.2)\r\n",
      "Requirement already satisfied: charset-normalizer<4,>=2 in /opt/conda/lib/python3.10/site-packages (from requests->transformers) (3.3.2)\r\n",
      "Requirement already satisfied: idna<4,>=2.5 in /opt/conda/lib/python3.10/site-packages (from requests->transformers) (3.6)\r\n",
      "Requirement already satisfied: urllib3<3,>=1.21.1 in /opt/conda/lib/python3.10/site-packages (from requests->transformers) (1.26.18)\r\n",
      "Requirement already satisfied: certifi>=2017.4.17 in /opt/conda/lib/python3.10/site-packages (from requests->transformers) (2024.2.2)\r\n",
      "Requirement already satisfied: MarkupSafe>=2.0 in /opt/conda/lib/python3.10/site-packages (from jinja2->torch>=1.13.0->peft) (2.1.3)\r\n",
      "Requirement already satisfied: mpmath<1.4.0,>=1.1.0 in /opt/conda/lib/python3.10/site-packages (from sympy->torch>=1.13.0->peft) (1.3.0)\r\n",
      "Installing collected packages: bitsandbytes, accelerate, transformers, peft\r\n",
      "  Attempting uninstall: accelerate\r\n",
      "    Found existing installation: accelerate 0.30.1\r\n",
      "    Uninstalling accelerate-0.30.1:\r\n",
      "      Successfully uninstalled accelerate-0.30.1\r\n",
      "  Attempting uninstall: transformers\r\n",
      "    Found existing installation: transformers 4.41.2\r\n",
      "    Uninstalling transformers-4.41.2:\r\n",
      "      Successfully uninstalled transformers-4.41.2\r\n",
      "Successfully installed accelerate-0.32.1 bitsandbytes-0.43.1 peft-0.11.1 transformers-4.42.3\r\n"
     ]
    }
   ],
   "source": [
    "!pip install transformers peft accelerate bitsandbytes \\\n",
    "    -U --no-index --find-links /kaggle/input/lmsys-wheel-files"
   ]
  },
  {
   "cell_type": "code",
   "execution_count": 2,
   "id": "da1061a6",
   "metadata": {
    "execution": {
     "iopub.execute_input": "2024-07-15T18:59:48.106269Z",
     "iopub.status.busy": "2024-07-15T18:59:48.105923Z",
     "iopub.status.idle": "2024-07-15T19:00:17.598684Z",
     "shell.execute_reply": "2024-07-15T19:00:17.597668Z"
    },
    "papermill": {
     "duration": 29.515549,
     "end_time": "2024-07-15T19:00:17.601047",
     "exception": false,
     "start_time": "2024-07-15T18:59:48.085498",
     "status": "completed"
    },
    "tags": []
   },
   "outputs": [
    {
     "name": "stderr",
     "output_type": "stream",
     "text": [
      "2024-07-15 19:00:02.579326: E external/local_xla/xla/stream_executor/cuda/cuda_dnn.cc:9261] Unable to register cuDNN factory: Attempting to register factory for plugin cuDNN when one has already been registered\n",
      "2024-07-15 19:00:02.579429: E external/local_xla/xla/stream_executor/cuda/cuda_fft.cc:607] Unable to register cuFFT factory: Attempting to register factory for plugin cuFFT when one has already been registered\n",
      "2024-07-15 19:00:02.856741: E external/local_xla/xla/stream_executor/cuda/cuda_blas.cc:1515] Unable to register cuBLAS factory: Attempting to register factory for plugin cuBLAS when one has already been registered\n"
     ]
    }
   ],
   "source": [
    "import time\n",
    "from dataclasses import dataclass\n",
    "from concurrent.futures import ThreadPoolExecutor\n",
    "import gc\n",
    "import torch\n",
    "import sklearn\n",
    "import numpy as np\n",
    "import pandas as pd\n",
    "from transformers import Gemma2ForSequenceClassification, GemmaTokenizerFast, BitsAndBytesConfig\n",
    "from transformers.data.data_collator import pad_without_fast_tokenizer_warning\n",
    "from peft import PeftModel"
   ]
  },
  {
   "cell_type": "code",
   "execution_count": 3,
   "id": "8a58aa8f",
   "metadata": {
    "execution": {
     "iopub.execute_input": "2024-07-15T19:00:17.639824Z",
     "iopub.status.busy": "2024-07-15T19:00:17.638739Z",
     "iopub.status.idle": "2024-07-15T19:00:17.671361Z",
     "shell.execute_reply": "2024-07-15T19:00:17.670518Z"
    },
    "papermill": {
     "duration": 0.053723,
     "end_time": "2024-07-15T19:00:17.673323",
     "exception": false,
     "start_time": "2024-07-15T19:00:17.619600",
     "status": "completed"
    },
    "tags": []
   },
   "outputs": [],
   "source": [
    "assert torch.cuda.device_count() == 2"
   ]
  },
  {
   "cell_type": "markdown",
   "id": "5a983983",
   "metadata": {
    "papermill": {
     "duration": 0.017674,
     "end_time": "2024-07-15T19:00:17.709356",
     "exception": false,
     "start_time": "2024-07-15T19:00:17.691682",
     "status": "completed"
    },
    "tags": []
   },
   "source": [
    "## Configurations"
   ]
  },
  {
   "cell_type": "code",
   "execution_count": null,
   "id": "65f92b66",
   "metadata": {
    "execution": {
     "iopub.execute_input": "2024-07-15T19:00:17.746770Z",
     "iopub.status.busy": "2024-07-15T19:00:17.746470Z",
     "iopub.status.idle": "2024-07-15T19:00:17.751651Z",
     "shell.execute_reply": "2024-07-15T19:00:17.750916Z"
    },
    "papermill": {
     "duration": 0.025781,
     "end_time": "2024-07-15T19:00:17.753413",
     "exception": false,
     "start_time": "2024-07-15T19:00:17.727632",
     "status": "completed"
    },
    "tags": []
   },
   "outputs": [],
   "source": [
    "@dataclass\n",
    "class Config:\n",
    "    gemma_dir = '/kaggle/input/gemma-2/transformers/gemma-2-9b-it-4bit/1/gemma-2-9b-it-4bit'\n",
    "    lora_dir = '/kaggle/input/73zap2gx/checkpoint-5748'\n",
    "    max_length = 2048\n",
    "    batch_size = 4\n",
    "    device = torch.device(\"cuda\")    \n",
    "    tta = False\n",
    "    spread_max_length = False\n",
    "\n",
    "cfg = Config()"
   ]
  },
  {
   "cell_type": "markdown",
   "id": "0f6702a1",
   "metadata": {
    "papermill": {
     "duration": 0.017653,
     "end_time": "2024-07-15T19:00:17.788947",
     "exception": false,
     "start_time": "2024-07-15T19:00:17.771294",
     "status": "completed"
    },
    "tags": []
   },
   "source": [
    "# Load & pre-process Data "
   ]
  },
  {
   "cell_type": "code",
   "execution_count": 5,
   "id": "7493bdaa",
   "metadata": {
    "execution": {
     "iopub.execute_input": "2024-07-15T19:00:17.826004Z",
     "iopub.status.busy": "2024-07-15T19:00:17.825732Z",
     "iopub.status.idle": "2024-07-15T19:00:17.847050Z",
     "shell.execute_reply": "2024-07-15T19:00:17.846167Z"
    },
    "papermill": {
     "duration": 0.042401,
     "end_time": "2024-07-15T19:00:17.849181",
     "exception": false,
     "start_time": "2024-07-15T19:00:17.806780",
     "status": "completed"
    },
    "tags": []
   },
   "outputs": [],
   "source": [
    "test = pd.read_csv('/kaggle/input/lmsys-chatbot-arena/test.csv')\n",
    "#test = pd.read_csv('/kaggle/input/lmsys-dataset-altered/filtered_test.csv')"
   ]
  },
  {
   "cell_type": "code",
   "execution_count": 6,
   "id": "9aec6189",
   "metadata": {
    "execution": {
     "iopub.execute_input": "2024-07-15T19:00:17.886403Z",
     "iopub.status.busy": "2024-07-15T19:00:17.886125Z",
     "iopub.status.idle": "2024-07-15T19:00:17.915545Z",
     "shell.execute_reply": "2024-07-15T19:00:17.914650Z"
    },
    "papermill": {
     "duration": 0.049933,
     "end_time": "2024-07-15T19:00:17.917461",
     "exception": false,
     "start_time": "2024-07-15T19:00:17.867528",
     "status": "completed"
    },
    "tags": []
   },
   "outputs": [
    {
     "data": {
      "text/html": [
       "<div>\n",
       "<style scoped>\n",
       "    .dataframe tbody tr th:only-of-type {\n",
       "        vertical-align: middle;\n",
       "    }\n",
       "\n",
       "    .dataframe tbody tr th {\n",
       "        vertical-align: top;\n",
       "    }\n",
       "\n",
       "    .dataframe thead th {\n",
       "        text-align: right;\n",
       "    }\n",
       "</style>\n",
       "<table border=\"1\" class=\"dataframe\">\n",
       "  <thead>\n",
       "    <tr style=\"text-align: right;\">\n",
       "      <th></th>\n",
       "      <th>id</th>\n",
       "      <th>prompt</th>\n",
       "      <th>response_a</th>\n",
       "      <th>response_b</th>\n",
       "    </tr>\n",
       "  </thead>\n",
       "  <tbody>\n",
       "    <tr>\n",
       "      <th>0</th>\n",
       "      <td>136060</td>\n",
       "      <td>I have three oranges today, I ate an orange ye...</td>\n",
       "      <td>You have two oranges today.</td>\n",
       "      <td>You still have three oranges. Eating an orange...</td>\n",
       "    </tr>\n",
       "    <tr>\n",
       "      <th>1</th>\n",
       "      <td>211333</td>\n",
       "      <td>You are a mediator in a heated political debat...</td>\n",
       "      <td>Thank you for sharing the details of the situa...</td>\n",
       "      <td>Mr Reddy and Ms Blue both have valid points in...</td>\n",
       "    </tr>\n",
       "    <tr>\n",
       "      <th>2</th>\n",
       "      <td>1233961</td>\n",
       "      <td>How to initialize the classification head when...</td>\n",
       "      <td>When you want to initialize the classification...</td>\n",
       "      <td>To initialize the classification head when per...</td>\n",
       "    </tr>\n",
       "  </tbody>\n",
       "</table>\n",
       "</div>"
      ],
      "text/plain": [
       "        id                                             prompt  \\\n",
       "0   136060  I have three oranges today, I ate an orange ye...   \n",
       "1   211333  You are a mediator in a heated political debat...   \n",
       "2  1233961  How to initialize the classification head when...   \n",
       "\n",
       "                                          response_a  \\\n",
       "0                        You have two oranges today.   \n",
       "1  Thank you for sharing the details of the situa...   \n",
       "2  When you want to initialize the classification...   \n",
       "\n",
       "                                          response_b  \n",
       "0  You still have three oranges. Eating an orange...  \n",
       "1  Mr Reddy and Ms Blue both have valid points in...  \n",
       "2  To initialize the classification head when per...  "
      ]
     },
     "metadata": {},
     "output_type": "display_data"
    }
   ],
   "source": [
    "def process_text(text: str) -> str:\n",
    "    return \" \".join(eval(text, {\"null\": \"\"}))\n",
    "\n",
    "test.loc[:, 'prompt'] = test['prompt'].apply(process_text)\n",
    "test.loc[:, 'response_a'] = test['response_a'].apply(process_text)\n",
    "test.loc[:, 'response_b'] = test['response_b'].apply(process_text)\n",
    "\n",
    "display(test.head(5))"
   ]
  },
  {
   "cell_type": "markdown",
   "id": "e5a94970",
   "metadata": {
    "papermill": {
     "duration": 0.018036,
     "end_time": "2024-07-15T19:00:17.953584",
     "exception": false,
     "start_time": "2024-07-15T19:00:17.935548",
     "status": "completed"
    },
    "tags": []
   },
   "source": [
    "# Tokenize"
   ]
  },
  {
   "cell_type": "code",
   "execution_count": 7,
   "id": "8aec38a8",
   "metadata": {
    "execution": {
     "iopub.execute_input": "2024-07-15T19:00:17.991223Z",
     "iopub.status.busy": "2024-07-15T19:00:17.990961Z",
     "iopub.status.idle": "2024-07-15T19:00:17.999081Z",
     "shell.execute_reply": "2024-07-15T19:00:17.998243Z"
    },
    "papermill": {
     "duration": 0.029241,
     "end_time": "2024-07-15T19:00:18.000928",
     "exception": false,
     "start_time": "2024-07-15T19:00:17.971687",
     "status": "completed"
    },
    "tags": []
   },
   "outputs": [],
   "source": [
    "def tokenize(\n",
    "    tokenizer, prompt, response_a, response_b, max_length=cfg.max_length, spread_max_length=cfg.spread_max_length\n",
    "):\n",
    "    prompt = [\"<prompt>: \" + p for p in prompt]\n",
    "    response_a = [\"\\n\\n<response_a>: \" + r_a for r_a in response_a]\n",
    "    response_b = [\"\\n\\n<response_b>: \" + r_b for r_b in response_b]\n",
    "    if spread_max_length:\n",
    "        prompt = tokenizer(prompt, max_length=max_length//3, truncation=True, padding=False).input_ids\n",
    "        response_a = tokenizer(response_a, max_length=max_length//3, truncation=True, padding=False).input_ids\n",
    "        response_b = tokenizer(response_b, max_length=max_length//3, truncation=True, padding=False).input_ids\n",
    "        input_ids = [p + r_a + r_b for p, r_a, r_b in zip(prompt, response_a, response_b)]\n",
    "        attention_mask = [[1]* len(i) for i in input_ids]\n",
    "    else:\n",
    "        text = [p + r_a + r_b for p, r_a, r_b in zip(prompt, response_a, response_b)]\n",
    "        tokenized = tokenizer(text, max_length=max_length, truncation=True, padding=False)\n",
    "        input_ids = tokenized.input_ids\n",
    "        attention_mask = tokenized.attention_mask\n",
    "    return input_ids, attention_mask"
   ]
  },
  {
   "cell_type": "code",
   "execution_count": null,
   "id": "fe654faa",
   "metadata": {
    "execution": {
     "iopub.execute_input": "2024-07-15T19:00:18.038468Z",
     "iopub.status.busy": "2024-07-15T19:00:18.038143Z",
     "iopub.status.idle": "2024-07-15T19:00:19.053602Z",
     "shell.execute_reply": "2024-07-15T19:00:19.052615Z"
    },
    "papermill": {
     "duration": 1.037424,
     "end_time": "2024-07-15T19:00:19.056400",
     "exception": false,
     "start_time": "2024-07-15T19:00:18.018976",
     "status": "completed"
    },
    "tags": []
   },
   "outputs": [
    {
     "name": "stdout",
     "output_type": "stream",
     "text": [
      "CPU times: user 685 ms, sys: 133 ms, total: 818 ms\n",
      "Wall time: 1.01 s\n"
     ]
    }
   ],
   "source": [
    "%%time\n",
    "\n",
    "tokenizer = GemmaTokenizerFast.from_pretrained(cfg.gemma_dir)\n",
    "tokenizer.add_eos_token = True\n",
    "tokenizer.padding_side = \"right\"\n",
    "\n",
    "data = pd.DataFrame()\n",
    "data[\"id\"] = test[\"id\"]\n",
    "data[\"input_ids\"], data[\"attention_mask\"] = tokenize(tokenizer, test[\"prompt\"], test[\"response_a\"], test[\"response_b\"])\n",
    "data[\"length\"] = data[\"input_ids\"].apply(len)\n",
    "\n",
    "aug_data = pd.DataFrame()\n",
    "aug_data[\"id\"] = test[\"id\"]\n",
    "\n",
    "aug_data['input_ids'], aug_data['attention_mask'] = tokenize(tokenizer, test[\"prompt\"], test[\"response_b\"], test[\"response_a\"])\n",
    "aug_data[\"length\"] = aug_data[\"input_ids\"].apply(len)"
   ]
  },
  {
   "cell_type": "code",
   "execution_count": 9,
   "id": "edcd25cb",
   "metadata": {
    "execution": {
     "iopub.execute_input": "2024-07-15T19:00:19.119267Z",
     "iopub.status.busy": "2024-07-15T19:00:19.118740Z",
     "iopub.status.idle": "2024-07-15T19:00:19.124612Z",
     "shell.execute_reply": "2024-07-15T19:00:19.123771Z"
    },
    "papermill": {
     "duration": 0.028471,
     "end_time": "2024-07-15T19:00:19.126812",
     "exception": false,
     "start_time": "2024-07-15T19:00:19.098341",
     "status": "completed"
    },
    "tags": []
   },
   "outputs": [
    {
     "name": "stdout",
     "output_type": "stream",
     "text": [
      "<bos><prompt>: I have three oranges today, I ate an orange yesterday. How many oranges do I have?\n",
      "\n",
      "<response_a>: You have two oranges today.\n",
      "\n",
      "<response_b>: You still have three oranges. Eating an orange yesterday does not affect the number of oranges you have today.<eos>\n"
     ]
    }
   ],
   "source": [
    "print(tokenizer.decode(data[\"input_ids\"][0]))"
   ]
  },
  {
   "cell_type": "code",
   "execution_count": 10,
   "id": "1883b736",
   "metadata": {
    "execution": {
     "iopub.execute_input": "2024-07-15T19:00:19.164756Z",
     "iopub.status.busy": "2024-07-15T19:00:19.164491Z",
     "iopub.status.idle": "2024-07-15T19:00:19.170155Z",
     "shell.execute_reply": "2024-07-15T19:00:19.169380Z"
    },
    "papermill": {
     "duration": 0.026709,
     "end_time": "2024-07-15T19:00:19.172233",
     "exception": false,
     "start_time": "2024-07-15T19:00:19.145524",
     "status": "completed"
    },
    "tags": []
   },
   "outputs": [
    {
     "name": "stdout",
     "output_type": "stream",
     "text": [
      "<bos><prompt>: I have three oranges today, I ate an orange yesterday. How many oranges do I have?\n",
      "\n",
      "<response_a>: You still have three oranges. Eating an orange yesterday does not affect the number of oranges you have today.\n",
      "\n",
      "<response_b>: You have two oranges today.<eos>\n"
     ]
    }
   ],
   "source": [
    "print(tokenizer.decode(aug_data[\"input_ids\"][0]))"
   ]
  },
  {
   "cell_type": "markdown",
   "id": "0d086851",
   "metadata": {
    "papermill": {
     "duration": 0.019133,
     "end_time": "2024-07-15T19:00:19.209583",
     "exception": false,
     "start_time": "2024-07-15T19:00:19.190450",
     "status": "completed"
    },
    "tags": []
   },
   "source": [
    "# Load model"
   ]
  },
  {
   "cell_type": "code",
   "execution_count": 11,
   "id": "78fd6f70",
   "metadata": {
    "execution": {
     "iopub.execute_input": "2024-07-15T19:00:19.247067Z",
     "iopub.status.busy": "2024-07-15T19:00:19.246808Z",
     "iopub.status.idle": "2024-07-15T19:01:54.102635Z",
     "shell.execute_reply": "2024-07-15T19:01:54.101853Z"
    },
    "papermill": {
     "duration": 94.876993,
     "end_time": "2024-07-15T19:01:54.104721",
     "exception": false,
     "start_time": "2024-07-15T19:00:19.227728",
     "status": "completed"
    },
    "tags": []
   },
   "outputs": [
    {
     "name": "stderr",
     "output_type": "stream",
     "text": [
      "Unused kwargs: ['_load_in_4bit', '_load_in_8bit', 'quant_method']. These kwargs are not used in <class 'transformers.utils.quantization_config.BitsAndBytesConfig'>.\n"
     ]
    },
    {
     "data": {
      "application/vnd.jupyter.widget-view+json": {
       "model_id": "08825df4b1bb4baa90d05f7ec594e857",
       "version_major": 2,
       "version_minor": 0
      },
      "text/plain": [
       "Loading checkpoint shards:   0%|          | 0/2 [00:00<?, ?it/s]"
      ]
     },
     "metadata": {},
     "output_type": "display_data"
    },
    {
     "name": "stderr",
     "output_type": "stream",
     "text": [
      "Unused kwargs: ['_load_in_4bit', '_load_in_8bit', 'quant_method']. These kwargs are not used in <class 'transformers.utils.quantization_config.BitsAndBytesConfig'>.\n"
     ]
    },
    {
     "data": {
      "application/vnd.jupyter.widget-view+json": {
       "model_id": "4eccb0d76314422bb250edc7e48d1dfa",
       "version_major": 2,
       "version_minor": 0
      },
      "text/plain": [
       "Loading checkpoint shards:   0%|          | 0/2 [00:00<?, ?it/s]"
      ]
     },
     "metadata": {},
     "output_type": "display_data"
    }
   ],
   "source": [
    "# Load base model on GPU 0\n",
    "device_0 = torch.device('cuda:0')\n",
    "model_0 = Gemma2ForSequenceClassification.from_pretrained(\n",
    "    cfg.gemma_dir,\n",
    "    device_map=device_0,\n",
    "    use_cache=False,\n",
    ")\n",
    "\n",
    "# Load base model on GPU 1\n",
    "device_1 = torch.device('cuda:1')\n",
    "model_1 = Gemma2ForSequenceClassification.from_pretrained(\n",
    "    cfg.gemma_dir,\n",
    "    device_map=device_1,\n",
    "    use_cache=False,\n",
    ")"
   ]
  },
  {
   "cell_type": "markdown",
   "id": "aea547ee",
   "metadata": {
    "papermill": {
     "duration": 0.018659,
     "end_time": "2024-07-15T19:01:54.143285",
     "exception": false,
     "start_time": "2024-07-15T19:01:54.124626",
     "status": "completed"
    },
    "tags": []
   },
   "source": [
    "#### Load LoRA adapter"
   ]
  },
  {
   "cell_type": "code",
   "execution_count": 12,
   "id": "e638fad6",
   "metadata": {
    "execution": {
     "iopub.execute_input": "2024-07-15T19:01:54.181919Z",
     "iopub.status.busy": "2024-07-15T19:01:54.181623Z",
     "iopub.status.idle": "2024-07-15T19:01:55.595842Z",
     "shell.execute_reply": "2024-07-15T19:01:55.594841Z"
    },
    "papermill": {
     "duration": 1.436453,
     "end_time": "2024-07-15T19:01:55.598414",
     "exception": false,
     "start_time": "2024-07-15T19:01:54.161961",
     "status": "completed"
    },
    "tags": []
   },
   "outputs": [],
   "source": [
    "model_0 = PeftModel.from_pretrained(model_0, cfg.lora_dir)\n",
    "model_1 = PeftModel.from_pretrained(model_1, cfg.lora_dir)"
   ]
  },
  {
   "cell_type": "markdown",
   "id": "60d480a4",
   "metadata": {
    "papermill": {
     "duration": 0.019713,
     "end_time": "2024-07-15T19:01:55.638019",
     "exception": false,
     "start_time": "2024-07-15T19:01:55.618306",
     "status": "completed"
    },
    "tags": []
   },
   "source": [
    "# Inference\n"
   ]
  },
  {
   "cell_type": "code",
   "execution_count": 13,
   "id": "3b3e5230",
   "metadata": {
    "execution": {
     "iopub.execute_input": "2024-07-15T19:01:55.718408Z",
     "iopub.status.busy": "2024-07-15T19:01:55.717702Z",
     "iopub.status.idle": "2024-07-15T19:01:55.727163Z",
     "shell.execute_reply": "2024-07-15T19:01:55.726404Z"
    },
    "papermill": {
     "duration": 0.031471,
     "end_time": "2024-07-15T19:01:55.729152",
     "exception": false,
     "start_time": "2024-07-15T19:01:55.697681",
     "status": "completed"
    },
    "tags": []
   },
   "outputs": [],
   "source": [
    "@torch.no_grad()\n",
    "@torch.cuda.amp.autocast()\n",
    "def inference(df, model, device, batch_size=cfg.batch_size, max_length=cfg.max_length):\n",
    "    a_win, b_win, tie = [], [], []\n",
    "    \n",
    "    for start_idx in range(0, len(df), batch_size):\n",
    "        end_idx = min(start_idx + batch_size, len(df))\n",
    "        tmp = df.iloc[start_idx:end_idx]\n",
    "        input_ids = tmp[\"input_ids\"].to_list()\n",
    "        attention_mask = tmp[\"attention_mask\"].to_list()\n",
    "        inputs = pad_without_fast_tokenizer_warning(\n",
    "            tokenizer,\n",
    "            {\"input_ids\": input_ids, \"attention_mask\": attention_mask},\n",
    "            padding=\"longest\",\n",
    "            pad_to_multiple_of=None,\n",
    "            return_tensors=\"pt\",\n",
    "        )\n",
    "        outputs = model(**inputs.to(device))\n",
    "        proba = outputs.logits.softmax(-1).cpu()\n",
    "        \n",
    "        a_win.extend(proba[:, 0].tolist())\n",
    "        b_win.extend(proba[:, 1].tolist())\n",
    "        tie.extend(proba[:, 2].tolist())\n",
    "    \n",
    "    df[\"winner_model_a\"] = a_win\n",
    "    df[\"winner_model_b\"] = b_win\n",
    "    df[\"winner_tie\"] = tie\n",
    "    \n",
    "    return df"
   ]
  },
  {
   "cell_type": "code",
   "execution_count": null,
   "id": "47f2062e",
   "metadata": {
    "execution": {
     "iopub.execute_input": "2024-07-15T19:01:55.767929Z",
     "iopub.status.busy": "2024-07-15T19:01:55.767645Z",
     "iopub.status.idle": "2024-07-15T19:02:00.546766Z",
     "shell.execute_reply": "2024-07-15T19:02:00.545813Z"
    },
    "papermill": {
     "duration": 4.801042,
     "end_time": "2024-07-15T19:02:00.549092",
     "exception": false,
     "start_time": "2024-07-15T19:01:55.748050",
     "status": "completed"
    },
    "tags": []
   },
   "outputs": [
    {
     "name": "stdout",
     "output_type": "stream",
     "text": [
      "elapsed time: 4.772804498672485\n"
     ]
    }
   ],
   "source": [
    "st = time.time()\n",
    "\n",
    "\n",
    "data = data.sort_values(\"length\", ascending=False)\n",
    "\n",
    "sub_1 = data.iloc[0::2].copy()\n",
    "sub_2 = data.iloc[1::2].copy()\n",
    "\n",
    "with ThreadPoolExecutor(max_workers=2) as executor:\n",
    "    results = executor.map(inference, (sub_1, sub_2), (model_0, model_1), (device_0, device_1))\n",
    "\n",
    "result_df = pd.concat(list(results), axis=0)\n",
    "proba = result_df[[\"winner_model_a\", \"winner_model_b\", \"winner_tie\"]].values\n",
    "\n",
    "print(f\"elapsed time: {time.time() - st}\")"
   ]
  },
  {
   "cell_type": "code",
   "execution_count": null,
   "id": "9d570ecd",
   "metadata": {
    "execution": {
     "iopub.execute_input": "2024-07-15T19:02:00.591714Z",
     "iopub.status.busy": "2024-07-15T19:02:00.591395Z",
     "iopub.status.idle": "2024-07-15T19:02:00.598504Z",
     "shell.execute_reply": "2024-07-15T19:02:00.597604Z"
    },
    "papermill": {
     "duration": 0.029757,
     "end_time": "2024-07-15T19:02:00.600792",
     "exception": false,
     "start_time": "2024-07-15T19:02:00.571035",
     "status": "completed"
    },
    "tags": []
   },
   "outputs": [
    {
     "name": "stdout",
     "output_type": "stream",
     "text": [
      "elapsed time: 0.00018739700317382812\n"
     ]
    }
   ],
   "source": [
    "st = time.time()\n",
    "\n",
    "if cfg.tta:\n",
    "    data = aug_data.sort_values(\"length\", ascending=False)  # sort by input length to boost speed\n",
    "    sub_1 = data.iloc[0::2].copy()\n",
    "    sub_2 = data.iloc[1::2].copy()\n",
    "\n",
    "    with ThreadPoolExecutor(max_workers=2) as executor:\n",
    "        results = executor.map(inference, (sub_1, sub_2), (model_0, model_1), (device_0, device_1))\n",
    "\n",
    "    tta_result_df = pd.concat(list(results), axis=0)\n",
    "    \n",
    "    tta_proba = tta_result_df[[\"winner_model_b\", \"winner_model_a\", \"winner_tie\"]].values \n",
    "    \n",
    "    proba = (proba + tta_proba) / 2\n",
    "\n",
    "print(f\"elapsed time: {time.time() - st}\")"
   ]
  },
  {
   "cell_type": "markdown",
   "id": "32a732e8",
   "metadata": {
    "papermill": {
     "duration": 0.019778,
     "end_time": "2024-07-15T19:02:00.639645",
     "exception": false,
     "start_time": "2024-07-15T19:02:00.619867",
     "status": "completed"
    },
    "tags": []
   },
   "source": [
    "# lbgm tfidf"
   ]
  },
  {
   "cell_type": "code",
   "execution_count": 16,
   "id": "8cad5d6a",
   "metadata": {
    "execution": {
     "iopub.execute_input": "2024-07-15T19:02:00.678848Z",
     "iopub.status.busy": "2024-07-15T19:02:00.678547Z",
     "iopub.status.idle": "2024-07-15T19:02:00.683809Z",
     "shell.execute_reply": "2024-07-15T19:02:00.682827Z"
    },
    "papermill": {
     "duration": 0.027234,
     "end_time": "2024-07-15T19:02:00.685801",
     "exception": false,
     "start_time": "2024-07-15T19:02:00.658567",
     "status": "completed"
    },
    "tags": []
   },
   "outputs": [
    {
     "name": "stdout",
     "output_type": "stream",
     "text": [
      "kaggle\n"
     ]
    }
   ],
   "source": [
    "TAG = 'lmsys-chatbot-arena'\n",
    "\n",
    "import os\n",
    "RUNPOD = os.path.exists('/workspace/')\n",
    "KAGGLE = not RUNPOD\n",
    "if KAGGLE: print('kaggle')"
   ]
  },
  {
   "cell_type": "code",
   "execution_count": 17,
   "id": "a4d1154f",
   "metadata": {
    "execution": {
     "iopub.execute_input": "2024-07-15T19:02:00.725697Z",
     "iopub.status.busy": "2024-07-15T19:02:00.725046Z",
     "iopub.status.idle": "2024-07-15T19:02:00.732366Z",
     "shell.execute_reply": "2024-07-15T19:02:00.731517Z"
    },
    "papermill": {
     "duration": 0.029292,
     "end_time": "2024-07-15T19:02:00.734301",
     "exception": false,
     "start_time": "2024-07-15T19:02:00.705009",
     "status": "completed"
    },
    "tags": []
   },
   "outputs": [],
   "source": [
    "try:\n",
    "    import pandas as pd\n",
    "except:\n",
    "    !pip install -q kaggle\n",
    "    !pip install -q pandas matplotlib scipy joblib scikit-learn lightgbm \n",
    "    !pip install -q protobuf \n",
    "    !pip install -q numba"
   ]
  },
  {
   "cell_type": "code",
   "execution_count": 18,
   "id": "a3fbe591",
   "metadata": {
    "execution": {
     "iopub.execute_input": "2024-07-15T19:02:00.773711Z",
     "iopub.status.busy": "2024-07-15T19:02:00.773467Z",
     "iopub.status.idle": "2024-07-15T19:02:00.777461Z",
     "shell.execute_reply": "2024-07-15T19:02:00.776637Z"
    },
    "papermill": {
     "duration": 0.025916,
     "end_time": "2024-07-15T19:02:00.779349",
     "exception": false,
     "start_time": "2024-07-15T19:02:00.753433",
     "status": "completed"
    },
    "tags": []
   },
   "outputs": [],
   "source": [
    "DATA = '/data/' if RUNPOD else 'data/' \\\n",
    "        if not os.path.exists('/kaggle/') \\\n",
    "            else '/kaggle/input/{}/'.format(TAG)"
   ]
  },
  {
   "cell_type": "code",
   "execution_count": null,
   "id": "3c46fa1b",
   "metadata": {
    "execution": {
     "iopub.execute_input": "2024-07-15T19:02:00.818358Z",
     "iopub.status.busy": "2024-07-15T19:02:00.818092Z",
     "iopub.status.idle": "2024-07-15T19:02:00.823912Z",
     "shell.execute_reply": "2024-07-15T19:02:00.823001Z"
    },
    "papermill": {
     "duration": 0.027351,
     "end_time": "2024-07-15T19:02:00.825821",
     "exception": false,
     "start_time": "2024-07-15T19:02:00.798470",
     "status": "completed"
    },
    "tags": []
   },
   "outputs": [
    {
     "name": "stdout",
     "output_type": "stream",
     "text": [
      "/kaggle/input/lsys-models-4/\n"
     ]
    }
   ],
   "source": [
    "INPUT_PATH = '/kaggle/input/'  \n",
    "MODEL_PATH = '/workspace/models/'; LOGITS_PATH = '/workspace/logits/'\n",
    "MODEL_PATH = MODEL_PATH if not KAGGLE else '/kaggle/input/' \\\n",
    "                + [e for e in os.listdir('/kaggle/input') if 'lsys-models' in e][0] + '/'\n",
    "\n",
    "print(MODEL_PATH)\n",
    "\n",
    "CODE_PATH = MODEL_PATH if KAGGLE else '/workspace/'\n",
    "SAVE_PATH = MODEL_PATH if not KAGGLE else ''"
   ]
  },
  {
   "cell_type": "code",
   "execution_count": 20,
   "id": "e457ad16",
   "metadata": {
    "execution": {
     "iopub.execute_input": "2024-07-15T19:02:00.864791Z",
     "iopub.status.busy": "2024-07-15T19:02:00.864521Z",
     "iopub.status.idle": "2024-07-15T19:02:00.868243Z",
     "shell.execute_reply": "2024-07-15T19:02:00.867381Z"
    },
    "papermill": {
     "duration": 0.025132,
     "end_time": "2024-07-15T19:02:00.870032",
     "exception": false,
     "start_time": "2024-07-15T19:02:00.844900",
     "status": "completed"
    },
    "tags": []
   },
   "outputs": [],
   "source": [
    "\n",
    "os.environ['TOKENIZERS_PARALLELISM'] = 'false'"
   ]
  },
  {
   "cell_type": "code",
   "execution_count": null,
   "id": "c2fbe25b",
   "metadata": {
    "execution": {
     "iopub.execute_input": "2024-07-15T19:02:00.909089Z",
     "iopub.status.busy": "2024-07-15T19:02:00.908813Z",
     "iopub.status.idle": "2024-07-15T19:02:00.917286Z",
     "shell.execute_reply": "2024-07-15T19:02:00.916618Z"
    },
    "papermill": {
     "duration": 0.030493,
     "end_time": "2024-07-15T19:02:00.919531",
     "exception": false,
     "start_time": "2024-07-15T19:02:00.889038",
     "status": "completed"
    },
    "tags": []
   },
   "outputs": [],
   "source": [
    "test=pd.read_csv('/kaggle/input/lmsys-chatbot-arena/test.csv')\n",
    "#test=pd.read_csv('/kaggle/input/lmsys-dataset-altered/filtered_test.csv')"
   ]
  },
  {
   "cell_type": "code",
   "execution_count": null,
   "id": "60c01a95",
   "metadata": {
    "execution": {
     "iopub.execute_input": "2024-07-15T19:02:00.969807Z",
     "iopub.status.busy": "2024-07-15T19:02:00.969520Z",
     "iopub.status.idle": "2024-07-15T19:02:00.974264Z",
     "shell.execute_reply": "2024-07-15T19:02:00.973470Z"
    },
    "papermill": {
     "duration": 0.029928,
     "end_time": "2024-07-15T19:02:00.976089",
     "exception": false,
     "start_time": "2024-07-15T19:02:00.946161",
     "status": "completed"
    },
    "tags": []
   },
   "outputs": [],
   "source": [
    "params = {}\n",
    "\n",
    "params['fold'] = -1\n",
    "params['n_epochs'] = 1\n",
    "params['n_lgb'] = 1\n",
    "params['model'] = 'microsoft/deberta-v3-small'"
   ]
  },
  {
   "cell_type": "code",
   "execution_count": null,
   "id": "87ec653e",
   "metadata": {
    "execution": {
     "iopub.execute_input": "2024-07-15T19:02:01.015440Z",
     "iopub.status.busy": "2024-07-15T19:02:01.015144Z",
     "iopub.status.idle": "2024-07-15T19:02:01.020717Z",
     "shell.execute_reply": "2024-07-15T19:02:01.019881Z"
    },
    "papermill": {
     "duration": 0.027024,
     "end_time": "2024-07-15T19:02:01.022617",
     "exception": false,
     "start_time": "2024-07-15T19:02:00.995593",
     "status": "completed"
    },
    "tags": []
   },
   "outputs": [
    {
     "name": "stdout",
     "output_type": "stream",
     "text": [
      "3 -1 3 1\n"
     ]
    }
   ],
   "source": [
    "\n",
    "FULL = params.get('fold', 0) < 0\n",
    "N_FOLDS = int(params.get('n_folds', 3)); \n",
    "FOLD = int(params.get('fold', 0))\n",
    "SEED = int(params.get('seed', 3))\n",
    "SS = int(params.get('subsample', 1))\n",
    "\n",
    "print(N_FOLDS, FOLD, SEED, SS)"
   ]
  },
  {
   "cell_type": "code",
   "execution_count": null,
   "id": "f7267ddb",
   "metadata": {
    "execution": {
     "iopub.execute_input": "2024-07-15T19:02:01.063053Z",
     "iopub.status.busy": "2024-07-15T19:02:01.062318Z",
     "iopub.status.idle": "2024-07-15T19:02:01.089826Z",
     "shell.execute_reply": "2024-07-15T19:02:01.088850Z"
    },
    "papermill": {
     "duration": 0.050211,
     "end_time": "2024-07-15T19:02:01.092263",
     "exception": false,
     "start_time": "2024-07-15T19:02:01.042052",
     "status": "completed"
    },
    "tags": []
   },
   "outputs": [],
   "source": [
    "from sklearn.model_selection import StratifiedKFold\n",
    "\n",
    "def get_folds(train): \n",
    "    return list(StratifiedKFold(N_FOLDS, random_state = SEED, shuffle = True)\\\n",
    "                    .split(X = np.zeros(len(train)), y = train.iloc[:, -3:].idxmax(1)))"
   ]
  },
  {
   "cell_type": "code",
   "execution_count": 25,
   "id": "b5f5616e",
   "metadata": {
    "execution": {
     "iopub.execute_input": "2024-07-15T19:02:01.142505Z",
     "iopub.status.busy": "2024-07-15T19:02:01.142104Z",
     "iopub.status.idle": "2024-07-15T19:02:01.147101Z",
     "shell.execute_reply": "2024-07-15T19:02:01.146261Z"
    },
    "papermill": {
     "duration": 0.031528,
     "end_time": "2024-07-15T19:02:01.149098",
     "exception": false,
     "start_time": "2024-07-15T19:02:01.117570",
     "status": "completed"
    },
    "tags": []
   },
   "outputs": [],
   "source": [
    "def join_strings(x, ):\n",
    "    x = ' '.join(['' if e is None else e for e in x]) if isinstance(x, list) else x\n",
    "    return x"
   ]
  },
  {
   "cell_type": "code",
   "execution_count": 26,
   "id": "d772c65f",
   "metadata": {
    "execution": {
     "iopub.execute_input": "2024-07-15T19:02:01.188678Z",
     "iopub.status.busy": "2024-07-15T19:02:01.188420Z",
     "iopub.status.idle": "2024-07-15T19:02:01.192469Z",
     "shell.execute_reply": "2024-07-15T19:02:01.191744Z"
    },
    "papermill": {
     "duration": 0.0259,
     "end_time": "2024-07-15T19:02:01.194201",
     "exception": false,
     "start_time": "2024-07-15T19:02:01.168301",
     "status": "completed"
    },
    "tags": []
   },
   "outputs": [],
   "source": [
    "def len_join_strings(x, ):\n",
    "    return len(join_strings(x).split())"
   ]
  },
  {
   "cell_type": "code",
   "execution_count": 27,
   "id": "85126c23",
   "metadata": {
    "execution": {
     "iopub.execute_input": "2024-07-15T19:02:01.233043Z",
     "iopub.status.busy": "2024-07-15T19:02:01.232785Z",
     "iopub.status.idle": "2024-07-15T19:02:01.236720Z",
     "shell.execute_reply": "2024-07-15T19:02:01.235899Z"
    },
    "papermill": {
     "duration": 0.02539,
     "end_time": "2024-07-15T19:02:01.238581",
     "exception": false,
     "start_time": "2024-07-15T19:02:01.213191",
     "status": "completed"
    },
    "tags": []
   },
   "outputs": [],
   "source": [
    "def len_join_strings_j(x):\n",
    "    x = json.loads(x)\n",
    "    return len_join_strings(x)"
   ]
  },
  {
   "cell_type": "code",
   "execution_count": 28,
   "id": "4fefa21e",
   "metadata": {
    "execution": {
     "iopub.execute_input": "2024-07-15T19:02:01.277915Z",
     "iopub.status.busy": "2024-07-15T19:02:01.277624Z",
     "iopub.status.idle": "2024-07-15T19:02:01.282299Z",
     "shell.execute_reply": "2024-07-15T19:02:01.281494Z"
    },
    "papermill": {
     "duration": 0.026269,
     "end_time": "2024-07-15T19:02:01.284095",
     "exception": false,
     "start_time": "2024-07-15T19:02:01.257826",
     "status": "completed"
    },
    "tags": []
   },
   "outputs": [],
   "source": [
    "import random\n",
    "import datetime\n",
    "torch.manual_seed(datetime.datetime.now().microsecond)\n",
    "random.seed(datetime.datetime.now().microsecond)\n",
    "np.random.seed(datetime.datetime.now().microsecond)"
   ]
  },
  {
   "cell_type": "code",
   "execution_count": 29,
   "id": "e5e42986",
   "metadata": {
    "execution": {
     "iopub.execute_input": "2024-07-15T19:02:01.323348Z",
     "iopub.status.busy": "2024-07-15T19:02:01.323062Z",
     "iopub.status.idle": "2024-07-15T19:02:01.326910Z",
     "shell.execute_reply": "2024-07-15T19:02:01.325959Z"
    },
    "papermill": {
     "duration": 0.025511,
     "end_time": "2024-07-15T19:02:01.328816",
     "exception": false,
     "start_time": "2024-07-15T19:02:01.303305",
     "status": "completed"
    },
    "tags": []
   },
   "outputs": [],
   "source": [
    "# TRAIN = True and not KAGGLE\n",
    "TRAIN = False\n",
    "INFER = True # or KAGGLE \n",
    "SAVE = False"
   ]
  },
  {
   "cell_type": "code",
   "execution_count": 30,
   "id": "adce2e0f",
   "metadata": {
    "execution": {
     "iopub.execute_input": "2024-07-15T19:02:01.367840Z",
     "iopub.status.busy": "2024-07-15T19:02:01.367578Z",
     "iopub.status.idle": "2024-07-15T19:02:05.210745Z",
     "shell.execute_reply": "2024-07-15T19:02:05.209976Z"
    },
    "papermill": {
     "duration": 3.865074,
     "end_time": "2024-07-15T19:02:05.212917",
     "exception": false,
     "start_time": "2024-07-15T19:02:01.347843",
     "status": "completed"
    },
    "tags": []
   },
   "outputs": [],
   "source": [
    "import lightgbm as lgb\n",
    "from sklearn.feature_extraction.text import CountVectorizer"
   ]
  },
  {
   "cell_type": "code",
   "execution_count": 31,
   "id": "be7453a7",
   "metadata": {
    "execution": {
     "iopub.execute_input": "2024-07-15T19:02:05.253358Z",
     "iopub.status.busy": "2024-07-15T19:02:05.252709Z",
     "iopub.status.idle": "2024-07-15T19:02:05.257389Z",
     "shell.execute_reply": "2024-07-15T19:02:05.256548Z"
    },
    "papermill": {
     "duration": 0.026599,
     "end_time": "2024-07-15T19:02:05.259386",
     "exception": false,
     "start_time": "2024-07-15T19:02:05.232787",
     "status": "completed"
    },
    "tags": []
   },
   "outputs": [],
   "source": [
    "LGB = True\n",
    "TRAIN_LGB = TRAIN and LGB and params.get('n_lgb', 1) > 0\n",
    "INFER_LGB = not TRAIN and LGB"
   ]
  },
  {
   "cell_type": "code",
   "execution_count": 32,
   "id": "88077d2b",
   "metadata": {
    "execution": {
     "iopub.execute_input": "2024-07-15T19:02:05.298840Z",
     "iopub.status.busy": "2024-07-15T19:02:05.298561Z",
     "iopub.status.idle": "2024-07-15T19:02:15.779797Z",
     "shell.execute_reply": "2024-07-15T19:02:15.778730Z"
    },
    "papermill": {
     "duration": 10.503735,
     "end_time": "2024-07-15T19:02:15.782127",
     "exception": false,
     "start_time": "2024-07-15T19:02:05.278392",
     "status": "completed"
    },
    "tags": []
   },
   "outputs": [
    {
     "name": "stderr",
     "output_type": "stream",
     "text": [
      "/opt/conda/lib/python3.10/site-packages/sklearn/base.py:318: UserWarning: Trying to unpickle estimator CountVectorizer from version 1.4.2 when using version 1.2.2. This might lead to breaking code or invalid results. Use at your own risk. For more info please refer to:\n",
      "https://scikit-learn.org/stable/model_persistence.html#security-maintainability-limitations\n",
      "  warnings.warn(\n"
     ]
    }
   ],
   "source": [
    "import pickle\n",
    "cvec  = pickle.load(open(MODEL_PATH + 'cvec.pkl', 'rb'))\n",
    "ccvec = pickle.load(open(MODEL_PATH + 'ccvec.pkl', 'rb'))"
   ]
  },
  {
   "cell_type": "code",
   "execution_count": null,
   "id": "38b2e13a",
   "metadata": {
    "execution": {
     "iopub.execute_input": "2024-07-15T19:02:15.823194Z",
     "iopub.status.busy": "2024-07-15T19:02:15.822839Z",
     "iopub.status.idle": "2024-07-15T19:02:16.999643Z",
     "shell.execute_reply": "2024-07-15T19:02:16.998876Z"
    },
    "papermill": {
     "duration": 1.199463,
     "end_time": "2024-07-15T19:02:17.001652",
     "exception": false,
     "start_time": "2024-07-15T19:02:15.802189",
     "status": "completed"
    },
    "tags": []
   },
   "outputs": [],
   "source": [
    "def symlog(x): return (np.sign(x) * np.log1p(np.abs(x))).astype(np.float32)\n",
    "\n",
    "def dense(x):\n",
    "    x = np.asarray(x.astype(np.float32).todense())\n",
    "    x = symlog(x)\n",
    "    return x\n",
    "\n",
    "def get_features(df):\n",
    "    pfeat = np.hstack([dense(v.transform(df[c])) \n",
    "                for v in [cvec, ccvec]\n",
    "                    for c in ['prompt', ]])\n",
    "    afeat = np.hstack([dense(v.transform(df[c])) \n",
    "                for c in ['response_a', ]\n",
    "                    for v in [cvec, ccvec]\n",
    "                ])\n",
    "    bfeat = np.hstack([dense(v.transform(df[c])) \n",
    "                for c in ['response_b', ]\n",
    "                    for v in [cvec, ccvec]\n",
    "                ])\n",
    "    \n",
    "    v = np.hstack([\n",
    "          afeat - bfeat, np.abs(afeat - bfeat), \n",
    "    \n",
    "        ])\n",
    "    try: \n",
    "        v = v / (len(all_vote_models) if len(df) < len(train) else 1)\n",
    "    except: pass\n",
    "\n",
    "    extras = []\n",
    "    EXTRAS = ['\\n', '\\n\\n', '.', ' ', '\",\"']\n",
    "    for e in EXTRAS:\n",
    "        for c in ['prompt', 'response_a', 'response_b']:\n",
    "            extras.append(df[c].str.count(e).values)\n",
    "            \n",
    "    extras.append(df[c].str.len())\n",
    "    extras.append(df[c].str.split().apply(lambda x: len(x)))\n",
    "    \n",
    "    extras = np.stack(extras, axis = 1)\n",
    "    extras = np.hstack([extras ** 0.5, np.log1p(extras)])\n",
    "    return np.hstack([v, extras])\n"
   ]
  },
  {
   "cell_type": "code",
   "execution_count": 34,
   "id": "b686aed0",
   "metadata": {
    "execution": {
     "iopub.execute_input": "2024-07-15T19:02:17.042200Z",
     "iopub.status.busy": "2024-07-15T19:02:17.041929Z",
     "iopub.status.idle": "2024-07-15T19:02:17.191163Z",
     "shell.execute_reply": "2024-07-15T19:02:17.190251Z"
    },
    "papermill": {
     "duration": 0.171578,
     "end_time": "2024-07-15T19:02:17.193200",
     "exception": false,
     "start_time": "2024-07-15T19:02:17.021622",
     "status": "completed"
    },
    "tags": []
   },
   "outputs": [
    {
     "name": "stderr",
     "output_type": "stream",
     "text": [
      "/opt/conda/lib/python3.10/site-packages/sklearn/base.py:318: UserWarning: Trying to unpickle estimator LabelEncoder from version 1.4.2 when using version 1.2.2. This might lead to breaking code or invalid results. Use at your own risk. For more info please refer to:\n",
      "https://scikit-learn.org/stable/model_persistence.html#security-maintainability-limitations\n",
      "  warnings.warn(\n"
     ]
    }
   ],
   "source": [
    "lgb_models = pickle.load(open(MODEL_PATH + 'lgb_models.pkl', 'rb'))"
   ]
  },
  {
   "cell_type": "code",
   "execution_count": 35,
   "id": "04c03be4",
   "metadata": {
    "execution": {
     "iopub.execute_input": "2024-07-15T19:02:17.233982Z",
     "iopub.status.busy": "2024-07-15T19:02:17.233692Z",
     "iopub.status.idle": "2024-07-15T19:02:17.290048Z",
     "shell.execute_reply": "2024-07-15T19:02:17.289008Z"
    },
    "papermill": {
     "duration": 0.078561,
     "end_time": "2024-07-15T19:02:17.291975",
     "exception": false,
     "start_time": "2024-07-15T19:02:17.213414",
     "status": "completed"
    },
    "tags": []
   },
   "outputs": [
    {
     "name": "stdout",
     "output_type": "stream",
     "text": [
      ".\n"
     ]
    }
   ],
   "source": [
    "if INFER and params.get('n_lgb', 1) > 0:\n",
    "    df = test\n",
    "    yps = []; b = 1000\n",
    "    for i in range(0, len(df), b):\n",
    "        arr = get_features(df.iloc[i: i + b])\n",
    "        ypms = []\n",
    "        for model in lgb_models:\n",
    "            ypms.append(model.predict_proba(arr))\n",
    "        yps.append(np.stack(ypms).mean(0))\n",
    "        # break;\n",
    "        print('.', end = '')\n",
    "        \n",
    "        if len(yps) % 2 == 0:\n",
    "            gc.collect()\n",
    "    print()\n",
    "\n",
    "    yp = np.concatenate(yps)"
   ]
  },
  {
   "cell_type": "code",
   "execution_count": 36,
   "id": "20d5e29f",
   "metadata": {
    "execution": {
     "iopub.execute_input": "2024-07-15T19:02:17.331881Z",
     "iopub.status.busy": "2024-07-15T19:02:17.331620Z",
     "iopub.status.idle": "2024-07-15T19:02:17.335544Z",
     "shell.execute_reply": "2024-07-15T19:02:17.334665Z"
    },
    "papermill": {
     "duration": 0.026105,
     "end_time": "2024-07-15T19:02:17.337472",
     "exception": false,
     "start_time": "2024-07-15T19:02:17.311367",
     "status": "completed"
    },
    "tags": []
   },
   "outputs": [],
   "source": [
    "lgb_preds = yp"
   ]
  },
  {
   "cell_type": "code",
   "execution_count": null,
   "id": "8ef4f572",
   "metadata": {
    "execution": {
     "iopub.execute_input": "2024-07-15T19:02:17.376927Z",
     "iopub.status.busy": "2024-07-15T19:02:17.376681Z",
     "iopub.status.idle": "2024-07-15T19:02:17.403649Z",
     "shell.execute_reply": "2024-07-15T19:02:17.402413Z"
    },
    "papermill": {
     "duration": 0.049217,
     "end_time": "2024-07-15T19:02:17.405851",
     "exception": false,
     "start_time": "2024-07-15T19:02:17.356634",
     "status": "completed"
    },
    "tags": []
   },
   "outputs": [
    {
     "name": "stdout",
     "output_type": "stream",
     "text": [
      "        id                                          input_ids  \\\n",
      "0   136060  [2, 235322, 39038, 78880, 590, 791, 2149, 7263...   \n",
      "1   211333  [2, 235322, 39038, 78880, 1646, 708, 476, 9876...   \n",
      "2  1233961  [2, 235322, 39038, 78880, 2250, 577, 23414, 57...   \n",
      "\n",
      "                                      attention_mask  length  winner_model_a  \\\n",
      "0  [1, 1, 1, 1, 1, 1, 1, 1, 1, 1, 1, 1, 1, 1, 1, ...      63        0.006395   \n",
      "1  [1, 1, 1, 1, 1, 1, 1, 1, 1, 1, 1, 1, 1, 1, 1, ...     452        0.340726   \n",
      "2  [1, 1, 1, 1, 1, 1, 1, 1, 1, 1, 1, 1, 1, 1, 1, ...    1699        0.146055   \n",
      "\n",
      "   winner_model_b  winner_tie  \n",
      "0        0.962159    0.031446  \n",
      "1        0.243892    0.415382  \n",
      "2        0.644424    0.209521  \n",
      "        id                                             prompt  \\\n",
      "0   136060  [\"I have three oranges today, I ate an orange ...   \n",
      "1   211333  [\"You are a mediator in a heated political deb...   \n",
      "2  1233961  [\"How to initialize the classification head wh...   \n",
      "\n",
      "                                          response_a  \\\n",
      "0                    [\"You have two oranges today.\"]   \n",
      "1  [\"Thank you for sharing the details of the sit...   \n",
      "2  [\"When you want to initialize the classificati...   \n",
      "\n",
      "                                          response_b  winner_model_a  \\\n",
      "0  [\"You still have three oranges. Eating an oran...        0.248656   \n",
      "1  [\"Mr Reddy and Ms Blue both have valid points ...        0.521066   \n",
      "2  [\"To initialize the classification head when p...        0.274698   \n",
      "\n",
      "   winner_model_b  winner_tie  \n",
      "0        0.340130    0.411214  \n",
      "1        0.232522    0.246412  \n",
      "2        0.446410    0.278892  \n",
      "[[0.24865567 0.34012985 0.41121448]\n",
      " [0.52106601 0.23252226 0.24641173]\n",
      " [0.27469777 0.44641026 0.27889197]]\n"
     ]
    }
   ],
   "source": [
    "test_df=pd.read_csv('/kaggle/input/lmsys-chatbot-arena/test.csv')\n",
    "#test_df=pd.read_csv('/kaggle/input/lmsys-dataset-altered/filtered_test.csv')\n",
    "## Resort to gemma probabilities\n",
    "result_df.loc[:, \"winner_model_a\"] = proba[:, 0]\n",
    "result_df.loc[:, \"winner_model_b\"] = proba[:, 1]\n",
    "result_df.loc[:, \"winner_tie\"] = proba[:, 2]\n",
    "\n",
    "test_df.loc[:,'winner_model_a']=lgb_preds[:,0]\n",
    "test_df.loc[:,'winner_model_b']=lgb_preds[:,1]\n",
    "test_df.loc[:,'winner_tie']=lgb_preds[:,2]\n",
    "\n",
    "result_df.sort_index(inplace=True)\n",
    "print(result_df)\n",
    "print(test_df)\n",
    "\n",
    "print(lgb_preds)\n"
   ]
  },
  {
   "cell_type": "code",
   "execution_count": 38,
   "id": "5cb6ce5f",
   "metadata": {
    "execution": {
     "iopub.execute_input": "2024-07-15T19:02:17.446437Z",
     "iopub.status.busy": "2024-07-15T19:02:17.446128Z",
     "iopub.status.idle": "2024-07-15T19:02:17.452462Z",
     "shell.execute_reply": "2024-07-15T19:02:17.451354Z"
    },
    "papermill": {
     "duration": 0.028647,
     "end_time": "2024-07-15T19:02:17.454419",
     "exception": false,
     "start_time": "2024-07-15T19:02:17.425772",
     "status": "completed"
    },
    "tags": []
   },
   "outputs": [],
   "source": [
    "new_proba=result_df[[\"winner_model_a\", \"winner_model_b\", \"winner_tie\"]].values\n",
    "lgb_preds=test_df[[\"winner_model_a\", \"winner_model_b\", \"winner_tie\"]].values "
   ]
  },
  {
   "cell_type": "code",
   "execution_count": 39,
   "id": "bdaf5a67",
   "metadata": {
    "execution": {
     "iopub.execute_input": "2024-07-15T19:02:17.504847Z",
     "iopub.status.busy": "2024-07-15T19:02:17.504256Z",
     "iopub.status.idle": "2024-07-15T19:02:17.510943Z",
     "shell.execute_reply": "2024-07-15T19:02:17.509893Z"
    },
    "papermill": {
     "duration": 0.036704,
     "end_time": "2024-07-15T19:02:17.513832",
     "exception": false,
     "start_time": "2024-07-15T19:02:17.477128",
     "status": "completed"
    },
    "tags": []
   },
   "outputs": [
    {
     "name": "stdout",
     "output_type": "stream",
     "text": [
      "[1. 1. 1.]\n"
     ]
    }
   ],
   "source": [
    "coeff_gem=0.91\n",
    "\n",
    "res_proba=coeff_gem*new_proba + (1-coeff_gem)*lgb_preds\n",
    "res_proba=res_proba.astype(np.float32)\n",
    "print(np.sum(res_proba,axis=1))\n"
   ]
  },
  {
   "cell_type": "code",
   "execution_count": 40,
   "id": "941f6a7d",
   "metadata": {
    "execution": {
     "iopub.execute_input": "2024-07-15T19:02:17.568231Z",
     "iopub.status.busy": "2024-07-15T19:02:17.567944Z",
     "iopub.status.idle": "2024-07-15T19:02:18.788349Z",
     "shell.execute_reply": "2024-07-15T19:02:18.787450Z"
    },
    "papermill": {
     "duration": 1.250722,
     "end_time": "2024-07-15T19:02:18.790526",
     "exception": false,
     "start_time": "2024-07-15T19:02:17.539804",
     "status": "completed"
    },
    "tags": []
   },
   "outputs": [
    {
     "data": {
      "text/html": [
       "<div>\n",
       "<style scoped>\n",
       "    .dataframe tbody tr th:only-of-type {\n",
       "        vertical-align: middle;\n",
       "    }\n",
       "\n",
       "    .dataframe tbody tr th {\n",
       "        vertical-align: top;\n",
       "    }\n",
       "\n",
       "    .dataframe thead th {\n",
       "        text-align: right;\n",
       "    }\n",
       "</style>\n",
       "<table border=\"1\" class=\"dataframe\">\n",
       "  <thead>\n",
       "    <tr style=\"text-align: right;\">\n",
       "      <th></th>\n",
       "      <th>id</th>\n",
       "      <th>winner_model_a</th>\n",
       "      <th>winner_model_b</th>\n",
       "      <th>winner_tie</th>\n",
       "    </tr>\n",
       "  </thead>\n",
       "  <tbody>\n",
       "    <tr>\n",
       "      <th>0</th>\n",
       "      <td>136060</td>\n",
       "      <td>0.028198</td>\n",
       "      <td>0.906176</td>\n",
       "      <td>0.065625</td>\n",
       "    </tr>\n",
       "    <tr>\n",
       "      <th>1</th>\n",
       "      <td>211333</td>\n",
       "      <td>0.356956</td>\n",
       "      <td>0.242869</td>\n",
       "      <td>0.400174</td>\n",
       "    </tr>\n",
       "    <tr>\n",
       "      <th>2</th>\n",
       "      <td>1233961</td>\n",
       "      <td>0.157633</td>\n",
       "      <td>0.626603</td>\n",
       "      <td>0.215764</td>\n",
       "    </tr>\n",
       "  </tbody>\n",
       "</table>\n",
       "</div>"
      ],
      "text/plain": [
       "        id  winner_model_a  winner_model_b  winner_tie\n",
       "0   136060        0.028198        0.906176    0.065625\n",
       "1   211333        0.356956        0.242869    0.400174\n",
       "2  1233961        0.157633        0.626603    0.215764"
      ]
     },
     "metadata": {},
     "output_type": "display_data"
    },
    {
     "name": "stdout",
     "output_type": "stream",
     "text": [
      "        id  winner_model_a  winner_model_b  winner_tie\n",
      "0   136060        0.028198        0.906176    0.065625\n",
      "1   211333        0.356956        0.242869    0.400174\n",
      "2  1233961        0.157633        0.626603    0.215764\n"
     ]
    }
   ],
   "source": [
    "result_df.loc[:, \"winner_model_a\"] = res_proba[:, 0]\n",
    "result_df.loc[:, \"winner_model_b\"] = res_proba[:, 1]\n",
    "result_df.loc[:, \"winner_tie\"] = res_proba[:, 2]\n",
    "submission_df = result_df[[\"id\", 'winner_model_a', 'winner_model_b', 'winner_tie']]\n",
    "submission_df.to_csv('submission.csv', index=False)\n",
    "display(submission_df)\n",
    "print(submission_df.head(50))\n",
    "\n"
   ]
  }
 ],
 "metadata": {
  "kaggle": {
   "accelerator": "nvidiaTeslaT4",
   "dataSources": [
    {
     "databundleVersionId": 8346466,
     "sourceId": 66631,
     "sourceType": "competition"
    },
    {
     "datasetId": 4946449,
     "sourceId": 8330401,
     "sourceType": "datasetVersion"
    },
    {
     "datasetId": 5297895,
     "sourceId": 8897601,
     "sourceType": "datasetVersion"
    },
    {
     "datasetId": 5363894,
     "sourceId": 8918811,
     "sourceType": "datasetVersion"
    },
    {
     "datasetId": 5369301,
     "sourceId": 8926343,
     "sourceType": "datasetVersion"
    },
    {
     "modelInstanceId": 63082,
     "sourceId": 75103,
     "sourceType": "modelInstanceVersion"
    }
   ],
   "dockerImageVersionId": 30733,
   "isGpuEnabled": true,
   "isInternetEnabled": false,
   "language": "python",
   "sourceType": "notebook"
  },
  "kernelspec": {
   "display_name": "Python 3",
   "language": "python",
   "name": "python3"
  },
  "language_info": {
   "codemirror_mode": {
    "name": "ipython",
    "version": 3
   },
   "file_extension": ".py",
   "mimetype": "text/x-python",
   "name": "python",
   "nbconvert_exporter": "python",
   "pygments_lexer": "ipython3",
   "version": "3.10.13"
  },
  "papermill": {
   "default_parameters": {},
   "duration": 192.716074,
   "end_time": "2024-07-15T19:02:21.731597",
   "environment_variables": {},
   "exception": null,
   "input_path": "__notebook__.ipynb",
   "output_path": "__notebook__.ipynb",
   "parameters": {},
   "start_time": "2024-07-15T18:59:09.015523",
   "version": "2.5.0"
  },
  "widgets": {
   "application/vnd.jupyter.widget-state+json": {
    "state": {
     "08825df4b1bb4baa90d05f7ec594e857": {
      "model_module": "@jupyter-widgets/controls",
      "model_module_version": "1.5.0",
      "model_name": "HBoxModel",
      "state": {
       "_dom_classes": [],
       "_model_module": "@jupyter-widgets/controls",
       "_model_module_version": "1.5.0",
       "_model_name": "HBoxModel",
       "_view_count": null,
       "_view_module": "@jupyter-widgets/controls",
       "_view_module_version": "1.5.0",
       "_view_name": "HBoxView",
       "box_style": "",
       "children": [
        "IPY_MODEL_fd66df83436f4c3b877abb49544bdb34",
        "IPY_MODEL_17c8841eb8cd49209b95acf49420d954",
        "IPY_MODEL_4815986e31df49c0851385e51884b910"
       ],
       "layout": "IPY_MODEL_c34976d03ba64f279d9114edf6700dea"
      }
     },
     "139e5d1638cb4fce923091d8404997df": {
      "model_module": "@jupyter-widgets/controls",
      "model_module_version": "1.5.0",
      "model_name": "DescriptionStyleModel",
      "state": {
       "_model_module": "@jupyter-widgets/controls",
       "_model_module_version": "1.5.0",
       "_model_name": "DescriptionStyleModel",
       "_view_count": null,
       "_view_module": "@jupyter-widgets/base",
       "_view_module_version": "1.2.0",
       "_view_name": "StyleView",
       "description_width": ""
      }
     },
     "17c8841eb8cd49209b95acf49420d954": {
      "model_module": "@jupyter-widgets/controls",
      "model_module_version": "1.5.0",
      "model_name": "FloatProgressModel",
      "state": {
       "_dom_classes": [],
       "_model_module": "@jupyter-widgets/controls",
       "_model_module_version": "1.5.0",
       "_model_name": "FloatProgressModel",
       "_view_count": null,
       "_view_module": "@jupyter-widgets/controls",
       "_view_module_version": "1.5.0",
       "_view_name": "ProgressView",
       "bar_style": "success",
       "description": "",
       "description_tooltip": null,
       "layout": "IPY_MODEL_fddec4a4ced6422b884cf335e606b4a9",
       "max": 2,
       "min": 0,
       "orientation": "horizontal",
       "style": "IPY_MODEL_7de3e198c05a42f7bdd5d34d432011eb",
       "value": 2
      }
     },
     "1c21a132a08d4eaea5610b8e69a47820": {
      "model_module": "@jupyter-widgets/base",
      "model_module_version": "1.2.0",
      "model_name": "LayoutModel",
      "state": {
       "_model_module": "@jupyter-widgets/base",
       "_model_module_version": "1.2.0",
       "_model_name": "LayoutModel",
       "_view_count": null,
       "_view_module": "@jupyter-widgets/base",
       "_view_module_version": "1.2.0",
       "_view_name": "LayoutView",
       "align_content": null,
       "align_items": null,
       "align_self": null,
       "border": null,
       "bottom": null,
       "display": null,
       "flex": null,
       "flex_flow": null,
       "grid_area": null,
       "grid_auto_columns": null,
       "grid_auto_flow": null,
       "grid_auto_rows": null,
       "grid_column": null,
       "grid_gap": null,
       "grid_row": null,
       "grid_template_areas": null,
       "grid_template_columns": null,
       "grid_template_rows": null,
       "height": null,
       "justify_content": null,
       "justify_items": null,
       "left": null,
       "margin": null,
       "max_height": null,
       "max_width": null,
       "min_height": null,
       "min_width": null,
       "object_fit": null,
       "object_position": null,
       "order": null,
       "overflow": null,
       "overflow_x": null,
       "overflow_y": null,
       "padding": null,
       "right": null,
       "top": null,
       "visibility": null,
       "width": null
      }
     },
     "3e6ae1ae91bb43adba692af25e9137bf": {
      "model_module": "@jupyter-widgets/controls",
      "model_module_version": "1.5.0",
      "model_name": "HTMLModel",
      "state": {
       "_dom_classes": [],
       "_model_module": "@jupyter-widgets/controls",
       "_model_module_version": "1.5.0",
       "_model_name": "HTMLModel",
       "_view_count": null,
       "_view_module": "@jupyter-widgets/controls",
       "_view_module_version": "1.5.0",
       "_view_name": "HTMLView",
       "description": "",
       "description_tooltip": null,
       "layout": "IPY_MODEL_1c21a132a08d4eaea5610b8e69a47820",
       "placeholder": "​",
       "style": "IPY_MODEL_628f2ace74aa45f1a82f909a457dae8b",
       "value": "Loading checkpoint shards: 100%"
      }
     },
     "4511ea5f1a6141c9a0559d2ff6ea706b": {
      "model_module": "@jupyter-widgets/base",
      "model_module_version": "1.2.0",
      "model_name": "LayoutModel",
      "state": {
       "_model_module": "@jupyter-widgets/base",
       "_model_module_version": "1.2.0",
       "_model_name": "LayoutModel",
       "_view_count": null,
       "_view_module": "@jupyter-widgets/base",
       "_view_module_version": "1.2.0",
       "_view_name": "LayoutView",
       "align_content": null,
       "align_items": null,
       "align_self": null,
       "border": null,
       "bottom": null,
       "display": null,
       "flex": null,
       "flex_flow": null,
       "grid_area": null,
       "grid_auto_columns": null,
       "grid_auto_flow": null,
       "grid_auto_rows": null,
       "grid_column": null,
       "grid_gap": null,
       "grid_row": null,
       "grid_template_areas": null,
       "grid_template_columns": null,
       "grid_template_rows": null,
       "height": null,
       "justify_content": null,
       "justify_items": null,
       "left": null,
       "margin": null,
       "max_height": null,
       "max_width": null,
       "min_height": null,
       "min_width": null,
       "object_fit": null,
       "object_position": null,
       "order": null,
       "overflow": null,
       "overflow_x": null,
       "overflow_y": null,
       "padding": null,
       "right": null,
       "top": null,
       "visibility": null,
       "width": null
      }
     },
     "45510e4c719841a58d8dbd168441ed2a": {
      "model_module": "@jupyter-widgets/base",
      "model_module_version": "1.2.0",
      "model_name": "LayoutModel",
      "state": {
       "_model_module": "@jupyter-widgets/base",
       "_model_module_version": "1.2.0",
       "_model_name": "LayoutModel",
       "_view_count": null,
       "_view_module": "@jupyter-widgets/base",
       "_view_module_version": "1.2.0",
       "_view_name": "LayoutView",
       "align_content": null,
       "align_items": null,
       "align_self": null,
       "border": null,
       "bottom": null,
       "display": null,
       "flex": null,
       "flex_flow": null,
       "grid_area": null,
       "grid_auto_columns": null,
       "grid_auto_flow": null,
       "grid_auto_rows": null,
       "grid_column": null,
       "grid_gap": null,
       "grid_row": null,
       "grid_template_areas": null,
       "grid_template_columns": null,
       "grid_template_rows": null,
       "height": null,
       "justify_content": null,
       "justify_items": null,
       "left": null,
       "margin": null,
       "max_height": null,
       "max_width": null,
       "min_height": null,
       "min_width": null,
       "object_fit": null,
       "object_position": null,
       "order": null,
       "overflow": null,
       "overflow_x": null,
       "overflow_y": null,
       "padding": null,
       "right": null,
       "top": null,
       "visibility": null,
       "width": null
      }
     },
     "4815986e31df49c0851385e51884b910": {
      "model_module": "@jupyter-widgets/controls",
      "model_module_version": "1.5.0",
      "model_name": "HTMLModel",
      "state": {
       "_dom_classes": [],
       "_model_module": "@jupyter-widgets/controls",
       "_model_module_version": "1.5.0",
       "_model_name": "HTMLModel",
       "_view_count": null,
       "_view_module": "@jupyter-widgets/controls",
       "_view_module_version": "1.5.0",
       "_view_name": "HTMLView",
       "description": "",
       "description_tooltip": null,
       "layout": "IPY_MODEL_4511ea5f1a6141c9a0559d2ff6ea706b",
       "placeholder": "​",
       "style": "IPY_MODEL_139e5d1638cb4fce923091d8404997df",
       "value": " 2/2 [01:29&lt;00:00, 39.83s/it]"
      }
     },
     "4eccb0d76314422bb250edc7e48d1dfa": {
      "model_module": "@jupyter-widgets/controls",
      "model_module_version": "1.5.0",
      "model_name": "HBoxModel",
      "state": {
       "_dom_classes": [],
       "_model_module": "@jupyter-widgets/controls",
       "_model_module_version": "1.5.0",
       "_model_name": "HBoxModel",
       "_view_count": null,
       "_view_module": "@jupyter-widgets/controls",
       "_view_module_version": "1.5.0",
       "_view_name": "HBoxView",
       "box_style": "",
       "children": [
        "IPY_MODEL_3e6ae1ae91bb43adba692af25e9137bf",
        "IPY_MODEL_5bb31943e66c4173b280a39c3c5c746c",
        "IPY_MODEL_8edb72b31881454f8a768ed7b2238eb1"
       ],
       "layout": "IPY_MODEL_c0125d18d3d746a9bec48770dcac7303"
      }
     },
     "5bb31943e66c4173b280a39c3c5c746c": {
      "model_module": "@jupyter-widgets/controls",
      "model_module_version": "1.5.0",
      "model_name": "FloatProgressModel",
      "state": {
       "_dom_classes": [],
       "_model_module": "@jupyter-widgets/controls",
       "_model_module_version": "1.5.0",
       "_model_name": "FloatProgressModel",
       "_view_count": null,
       "_view_module": "@jupyter-widgets/controls",
       "_view_module_version": "1.5.0",
       "_view_name": "ProgressView",
       "bar_style": "success",
       "description": "",
       "description_tooltip": null,
       "layout": "IPY_MODEL_5e365ee92402470fb9d6273f34488876",
       "max": 2,
       "min": 0,
       "orientation": "horizontal",
       "style": "IPY_MODEL_f0015787b83b47b2979ead5db4b7082d",
       "value": 2
      }
     },
     "5e365ee92402470fb9d6273f34488876": {
      "model_module": "@jupyter-widgets/base",
      "model_module_version": "1.2.0",
      "model_name": "LayoutModel",
      "state": {
       "_model_module": "@jupyter-widgets/base",
       "_model_module_version": "1.2.0",
       "_model_name": "LayoutModel",
       "_view_count": null,
       "_view_module": "@jupyter-widgets/base",
       "_view_module_version": "1.2.0",
       "_view_name": "LayoutView",
       "align_content": null,
       "align_items": null,
       "align_self": null,
       "border": null,
       "bottom": null,
       "display": null,
       "flex": null,
       "flex_flow": null,
       "grid_area": null,
       "grid_auto_columns": null,
       "grid_auto_flow": null,
       "grid_auto_rows": null,
       "grid_column": null,
       "grid_gap": null,
       "grid_row": null,
       "grid_template_areas": null,
       "grid_template_columns": null,
       "grid_template_rows": null,
       "height": null,
       "justify_content": null,
       "justify_items": null,
       "left": null,
       "margin": null,
       "max_height": null,
       "max_width": null,
       "min_height": null,
       "min_width": null,
       "object_fit": null,
       "object_position": null,
       "order": null,
       "overflow": null,
       "overflow_x": null,
       "overflow_y": null,
       "padding": null,
       "right": null,
       "top": null,
       "visibility": null,
       "width": null
      }
     },
     "628f2ace74aa45f1a82f909a457dae8b": {
      "model_module": "@jupyter-widgets/controls",
      "model_module_version": "1.5.0",
      "model_name": "DescriptionStyleModel",
      "state": {
       "_model_module": "@jupyter-widgets/controls",
       "_model_module_version": "1.5.0",
       "_model_name": "DescriptionStyleModel",
       "_view_count": null,
       "_view_module": "@jupyter-widgets/base",
       "_view_module_version": "1.2.0",
       "_view_name": "StyleView",
       "description_width": ""
      }
     },
     "6a757c7a78fa4d4ebb60886f0b092f45": {
      "model_module": "@jupyter-widgets/base",
      "model_module_version": "1.2.0",
      "model_name": "LayoutModel",
      "state": {
       "_model_module": "@jupyter-widgets/base",
       "_model_module_version": "1.2.0",
       "_model_name": "LayoutModel",
       "_view_count": null,
       "_view_module": "@jupyter-widgets/base",
       "_view_module_version": "1.2.0",
       "_view_name": "LayoutView",
       "align_content": null,
       "align_items": null,
       "align_self": null,
       "border": null,
       "bottom": null,
       "display": null,
       "flex": null,
       "flex_flow": null,
       "grid_area": null,
       "grid_auto_columns": null,
       "grid_auto_flow": null,
       "grid_auto_rows": null,
       "grid_column": null,
       "grid_gap": null,
       "grid_row": null,
       "grid_template_areas": null,
       "grid_template_columns": null,
       "grid_template_rows": null,
       "height": null,
       "justify_content": null,
       "justify_items": null,
       "left": null,
       "margin": null,
       "max_height": null,
       "max_width": null,
       "min_height": null,
       "min_width": null,
       "object_fit": null,
       "object_position": null,
       "order": null,
       "overflow": null,
       "overflow_x": null,
       "overflow_y": null,
       "padding": null,
       "right": null,
       "top": null,
       "visibility": null,
       "width": null
      }
     },
     "7de3e198c05a42f7bdd5d34d432011eb": {
      "model_module": "@jupyter-widgets/controls",
      "model_module_version": "1.5.0",
      "model_name": "ProgressStyleModel",
      "state": {
       "_model_module": "@jupyter-widgets/controls",
       "_model_module_version": "1.5.0",
       "_model_name": "ProgressStyleModel",
       "_view_count": null,
       "_view_module": "@jupyter-widgets/base",
       "_view_module_version": "1.2.0",
       "_view_name": "StyleView",
       "bar_color": null,
       "description_width": ""
      }
     },
     "8edb72b31881454f8a768ed7b2238eb1": {
      "model_module": "@jupyter-widgets/controls",
      "model_module_version": "1.5.0",
      "model_name": "HTMLModel",
      "state": {
       "_dom_classes": [],
       "_model_module": "@jupyter-widgets/controls",
       "_model_module_version": "1.5.0",
       "_model_name": "HTMLModel",
       "_view_count": null,
       "_view_module": "@jupyter-widgets/controls",
       "_view_module_version": "1.5.0",
       "_view_name": "HTMLView",
       "description": "",
       "description_tooltip": null,
       "layout": "IPY_MODEL_45510e4c719841a58d8dbd168441ed2a",
       "placeholder": "​",
       "style": "IPY_MODEL_a6ecba06d9614743ae0bf7915a19c115",
       "value": " 2/2 [00:03&lt;00:00,  1.44s/it]"
      }
     },
     "a6ecba06d9614743ae0bf7915a19c115": {
      "model_module": "@jupyter-widgets/controls",
      "model_module_version": "1.5.0",
      "model_name": "DescriptionStyleModel",
      "state": {
       "_model_module": "@jupyter-widgets/controls",
       "_model_module_version": "1.5.0",
       "_model_name": "DescriptionStyleModel",
       "_view_count": null,
       "_view_module": "@jupyter-widgets/base",
       "_view_module_version": "1.2.0",
       "_view_name": "StyleView",
       "description_width": ""
      }
     },
     "c0125d18d3d746a9bec48770dcac7303": {
      "model_module": "@jupyter-widgets/base",
      "model_module_version": "1.2.0",
      "model_name": "LayoutModel",
      "state": {
       "_model_module": "@jupyter-widgets/base",
       "_model_module_version": "1.2.0",
       "_model_name": "LayoutModel",
       "_view_count": null,
       "_view_module": "@jupyter-widgets/base",
       "_view_module_version": "1.2.0",
       "_view_name": "LayoutView",
       "align_content": null,
       "align_items": null,
       "align_self": null,
       "border": null,
       "bottom": null,
       "display": null,
       "flex": null,
       "flex_flow": null,
       "grid_area": null,
       "grid_auto_columns": null,
       "grid_auto_flow": null,
       "grid_auto_rows": null,
       "grid_column": null,
       "grid_gap": null,
       "grid_row": null,
       "grid_template_areas": null,
       "grid_template_columns": null,
       "grid_template_rows": null,
       "height": null,
       "justify_content": null,
       "justify_items": null,
       "left": null,
       "margin": null,
       "max_height": null,
       "max_width": null,
       "min_height": null,
       "min_width": null,
       "object_fit": null,
       "object_position": null,
       "order": null,
       "overflow": null,
       "overflow_x": null,
       "overflow_y": null,
       "padding": null,
       "right": null,
       "top": null,
       "visibility": null,
       "width": null
      }
     },
     "c34976d03ba64f279d9114edf6700dea": {
      "model_module": "@jupyter-widgets/base",
      "model_module_version": "1.2.0",
      "model_name": "LayoutModel",
      "state": {
       "_model_module": "@jupyter-widgets/base",
       "_model_module_version": "1.2.0",
       "_model_name": "LayoutModel",
       "_view_count": null,
       "_view_module": "@jupyter-widgets/base",
       "_view_module_version": "1.2.0",
       "_view_name": "LayoutView",
       "align_content": null,
       "align_items": null,
       "align_self": null,
       "border": null,
       "bottom": null,
       "display": null,
       "flex": null,
       "flex_flow": null,
       "grid_area": null,
       "grid_auto_columns": null,
       "grid_auto_flow": null,
       "grid_auto_rows": null,
       "grid_column": null,
       "grid_gap": null,
       "grid_row": null,
       "grid_template_areas": null,
       "grid_template_columns": null,
       "grid_template_rows": null,
       "height": null,
       "justify_content": null,
       "justify_items": null,
       "left": null,
       "margin": null,
       "max_height": null,
       "max_width": null,
       "min_height": null,
       "min_width": null,
       "object_fit": null,
       "object_position": null,
       "order": null,
       "overflow": null,
       "overflow_x": null,
       "overflow_y": null,
       "padding": null,
       "right": null,
       "top": null,
       "visibility": null,
       "width": null
      }
     },
     "e9fc7ebff646480389df0bb8e7992920": {
      "model_module": "@jupyter-widgets/controls",
      "model_module_version": "1.5.0",
      "model_name": "DescriptionStyleModel",
      "state": {
       "_model_module": "@jupyter-widgets/controls",
       "_model_module_version": "1.5.0",
       "_model_name": "DescriptionStyleModel",
       "_view_count": null,
       "_view_module": "@jupyter-widgets/base",
       "_view_module_version": "1.2.0",
       "_view_name": "StyleView",
       "description_width": ""
      }
     },
     "f0015787b83b47b2979ead5db4b7082d": {
      "model_module": "@jupyter-widgets/controls",
      "model_module_version": "1.5.0",
      "model_name": "ProgressStyleModel",
      "state": {
       "_model_module": "@jupyter-widgets/controls",
       "_model_module_version": "1.5.0",
       "_model_name": "ProgressStyleModel",
       "_view_count": null,
       "_view_module": "@jupyter-widgets/base",
       "_view_module_version": "1.2.0",
       "_view_name": "StyleView",
       "bar_color": null,
       "description_width": ""
      }
     },
     "fd66df83436f4c3b877abb49544bdb34": {
      "model_module": "@jupyter-widgets/controls",
      "model_module_version": "1.5.0",
      "model_name": "HTMLModel",
      "state": {
       "_dom_classes": [],
       "_model_module": "@jupyter-widgets/controls",
       "_model_module_version": "1.5.0",
       "_model_name": "HTMLModel",
       "_view_count": null,
       "_view_module": "@jupyter-widgets/controls",
       "_view_module_version": "1.5.0",
       "_view_name": "HTMLView",
       "description": "",
       "description_tooltip": null,
       "layout": "IPY_MODEL_6a757c7a78fa4d4ebb60886f0b092f45",
       "placeholder": "​",
       "style": "IPY_MODEL_e9fc7ebff646480389df0bb8e7992920",
       "value": "Loading checkpoint shards: 100%"
      }
     },
     "fddec4a4ced6422b884cf335e606b4a9": {
      "model_module": "@jupyter-widgets/base",
      "model_module_version": "1.2.0",
      "model_name": "LayoutModel",
      "state": {
       "_model_module": "@jupyter-widgets/base",
       "_model_module_version": "1.2.0",
       "_model_name": "LayoutModel",
       "_view_count": null,
       "_view_module": "@jupyter-widgets/base",
       "_view_module_version": "1.2.0",
       "_view_name": "LayoutView",
       "align_content": null,
       "align_items": null,
       "align_self": null,
       "border": null,
       "bottom": null,
       "display": null,
       "flex": null,
       "flex_flow": null,
       "grid_area": null,
       "grid_auto_columns": null,
       "grid_auto_flow": null,
       "grid_auto_rows": null,
       "grid_column": null,
       "grid_gap": null,
       "grid_row": null,
       "grid_template_areas": null,
       "grid_template_columns": null,
       "grid_template_rows": null,
       "height": null,
       "justify_content": null,
       "justify_items": null,
       "left": null,
       "margin": null,
       "max_height": null,
       "max_width": null,
       "min_height": null,
       "min_width": null,
       "object_fit": null,
       "object_position": null,
       "order": null,
       "overflow": null,
       "overflow_x": null,
       "overflow_y": null,
       "padding": null,
       "right": null,
       "top": null,
       "visibility": null,
       "width": null
      }
     }
    },
    "version_major": 2,
    "version_minor": 0
   }
  }
 },
 "nbformat": 4,
 "nbformat_minor": 5
}
