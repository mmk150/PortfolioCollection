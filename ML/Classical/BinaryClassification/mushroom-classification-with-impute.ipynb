{
 "cells": [
  {
   "cell_type": "code",
   "execution_count": 1,
   "id": "fef77d5c",
   "metadata": {
    "execution": {
     "iopub.execute_input": "2024-08-29T22:06:21.291561Z",
     "iopub.status.busy": "2024-08-29T22:06:21.291040Z",
     "iopub.status.idle": "2024-08-29T22:07:08.296792Z",
     "shell.execute_reply": "2024-08-29T22:07:08.295049Z"
    },
    "papermill": {
     "duration": 47.026991,
     "end_time": "2024-08-29T22:07:08.299899",
     "exception": false,
     "start_time": "2024-08-29T22:06:21.272908",
     "status": "completed"
    },
    "tags": []
   },
   "outputs": [
    {
     "name": "stdout",
     "output_type": "stream",
     "text": [
      "Requirement already satisfied: yellowbrick in /opt/conda/lib/python3.10/site-packages (1.5)\r\n",
      "Requirement already satisfied: matplotlib!=3.0.0,>=2.0.2 in /opt/conda/lib/python3.10/site-packages (from yellowbrick) (3.7.5)\r\n",
      "Requirement already satisfied: scipy>=1.0.0 in /opt/conda/lib/python3.10/site-packages (from yellowbrick) (1.11.4)\r\n",
      "Requirement already satisfied: scikit-learn>=1.0.0 in /opt/conda/lib/python3.10/site-packages (from yellowbrick) (1.2.2)\r\n",
      "Requirement already satisfied: numpy>=1.16.0 in /opt/conda/lib/python3.10/site-packages (from yellowbrick) (1.26.4)\r\n",
      "Requirement already satisfied: cycler>=0.10.0 in /opt/conda/lib/python3.10/site-packages (from yellowbrick) (0.12.1)\r\n",
      "Requirement already satisfied: contourpy>=1.0.1 in /opt/conda/lib/python3.10/site-packages (from matplotlib!=3.0.0,>=2.0.2->yellowbrick) (1.2.0)\r\n",
      "Requirement already satisfied: fonttools>=4.22.0 in /opt/conda/lib/python3.10/site-packages (from matplotlib!=3.0.0,>=2.0.2->yellowbrick) (4.47.0)\r\n",
      "Requirement already satisfied: kiwisolver>=1.0.1 in /opt/conda/lib/python3.10/site-packages (from matplotlib!=3.0.0,>=2.0.2->yellowbrick) (1.4.5)\r\n",
      "Requirement already satisfied: packaging>=20.0 in /opt/conda/lib/python3.10/site-packages (from matplotlib!=3.0.0,>=2.0.2->yellowbrick) (21.3)\r\n",
      "Requirement already satisfied: pillow>=6.2.0 in /opt/conda/lib/python3.10/site-packages (from matplotlib!=3.0.0,>=2.0.2->yellowbrick) (9.5.0)\r\n",
      "Requirement already satisfied: pyparsing>=2.3.1 in /opt/conda/lib/python3.10/site-packages (from matplotlib!=3.0.0,>=2.0.2->yellowbrick) (3.1.1)\r\n",
      "Requirement already satisfied: python-dateutil>=2.7 in /opt/conda/lib/python3.10/site-packages (from matplotlib!=3.0.0,>=2.0.2->yellowbrick) (2.9.0.post0)\r\n",
      "Requirement already satisfied: joblib>=1.1.1 in /opt/conda/lib/python3.10/site-packages (from scikit-learn>=1.0.0->yellowbrick) (1.4.2)\r\n",
      "Requirement already satisfied: threadpoolctl>=2.0.0 in /opt/conda/lib/python3.10/site-packages (from scikit-learn>=1.0.0->yellowbrick) (3.2.0)\r\n",
      "Requirement already satisfied: six>=1.5 in /opt/conda/lib/python3.10/site-packages (from python-dateutil>=2.7->matplotlib!=3.0.0,>=2.0.2->yellowbrick) (1.16.0)\r\n",
      "Requirement already satisfied: scikit-learn in /opt/conda/lib/python3.10/site-packages (1.2.2)\r\n",
      "Collecting scikit-learn\r\n",
      "  Downloading scikit_learn-1.5.1-cp310-cp310-manylinux_2_17_x86_64.manylinux2014_x86_64.whl.metadata (12 kB)\r\n",
      "Requirement already satisfied: numpy>=1.19.5 in /opt/conda/lib/python3.10/site-packages (from scikit-learn) (1.26.4)\r\n",
      "Requirement already satisfied: scipy>=1.6.0 in /opt/conda/lib/python3.10/site-packages (from scikit-learn) (1.11.4)\r\n",
      "Requirement already satisfied: joblib>=1.2.0 in /opt/conda/lib/python3.10/site-packages (from scikit-learn) (1.4.2)\r\n",
      "Requirement already satisfied: threadpoolctl>=3.1.0 in /opt/conda/lib/python3.10/site-packages (from scikit-learn) (3.2.0)\r\n",
      "Downloading scikit_learn-1.5.1-cp310-cp310-manylinux_2_17_x86_64.manylinux2014_x86_64.whl (13.4 MB)\r\n",
      "\u001b[2K   \u001b[90m━━━━━━━━━━━━━━━━━━━━━━━━━━━━━━━━━━━━━━━━\u001b[0m \u001b[32m13.4/13.4 MB\u001b[0m \u001b[31m46.7 MB/s\u001b[0m eta \u001b[36m0:00:00\u001b[0m\r\n",
      "\u001b[?25hInstalling collected packages: scikit-learn\r\n",
      "  Attempting uninstall: scikit-learn\r\n",
      "    Found existing installation: scikit-learn 1.2.2\r\n",
      "    Uninstalling scikit-learn-1.2.2:\r\n",
      "      Successfully uninstalled scikit-learn-1.2.2\r\n",
      "\u001b[31mERROR: pip's dependency resolver does not currently take into account all the packages that are installed. This behaviour is the source of the following dependency conflicts.\r\n",
      "spaghetti 1.7.6 requires shapely>=2.0.1, but you have shapely 1.8.5.post1 which is incompatible.\r\n",
      "spopt 0.6.1 requires shapely>=2.0.1, but you have shapely 1.8.5.post1 which is incompatible.\u001b[0m\u001b[31m\r\n",
      "\u001b[0mSuccessfully installed scikit-learn-1.5.1\r\n"
     ]
    }
   ],
   "source": [
    "!pip install yellowbrick\n",
    "!pip install scikit-learn -U\n",
    "!pip install -q ucimlrepo"
   ]
  },
  {
   "cell_type": "code",
   "execution_count": 2,
   "id": "530d1657",
   "metadata": {
    "execution": {
     "iopub.execute_input": "2024-08-29T22:07:08.340830Z",
     "iopub.status.busy": "2024-08-29T22:07:08.339910Z",
     "iopub.status.idle": "2024-08-29T22:07:11.760062Z",
     "shell.execute_reply": "2024-08-29T22:07:11.758898Z"
    },
    "papermill": {
     "duration": 3.444995,
     "end_time": "2024-08-29T22:07:11.762667",
     "exception": false,
     "start_time": "2024-08-29T22:07:08.317672",
     "status": "completed"
    },
    "tags": []
   },
   "outputs": [],
   "source": [
    "\n",
    "import numpy as np\n",
    "import pandas as pd\n",
    "import matplotlib.pyplot as plt\n",
    "import seaborn as sns\n",
    "from sklearn.model_selection import train_test_split\n",
    "from sklearn.metrics import accuracy_score, classification_report\n",
    "from sklearn.tree import DecisionTreeClassifier\n",
    "from sklearn.neural_network import MLPClassifier,MLPRegressor\n",
    "from sklearn.ensemble import GradientBoostingClassifier\n",
    "from sklearn.svm import SVC\n",
    "from sklearn.neighbors import KNeighborsClassifier\n",
    "from sklearn.preprocessing import StandardScaler, OneHotEncoder\n",
    "from sklearn.compose import ColumnTransformer, make_column_transformer\n",
    "import json\n",
    "from sklearn.metrics import make_scorer, accuracy_score\n",
    "from sklearn.model_selection import LearningCurveDisplay, learning_curve\n",
    "from sklearn.model_selection import (\n",
    "    ParameterGrid,\n",
    "    ValidationCurveDisplay,\n",
    "    validation_curve,\n",
    ")\n",
    "from sklearn.metrics import confusion_matrix, ConfusionMatrixDisplay\n",
    "from yellowbrick.model_selection import FeatureImportances, LearningCurve, ValidationCurve\n",
    "from sklearn.cluster import KMeans\n",
    "from sklearn.datasets import make_blobs\n",
    "from ucimlrepo import fetch_ucirepo \n",
    "\n",
    "TEST = True"
   ]
  },
  {
   "cell_type": "markdown",
   "id": "d9661606",
   "metadata": {
    "papermill": {
     "duration": 0.017316,
     "end_time": "2024-08-29T22:07:11.797718",
     "exception": false,
     "start_time": "2024-08-29T22:07:11.780402",
     "status": "completed"
    },
    "tags": []
   },
   "source": [
    "# Load Data"
   ]
  },
  {
   "cell_type": "code",
   "execution_count": 3,
   "id": "84ee6122",
   "metadata": {
    "execution": {
     "iopub.execute_input": "2024-08-29T22:07:11.835223Z",
     "iopub.status.busy": "2024-08-29T22:07:11.834643Z",
     "iopub.status.idle": "2024-08-29T22:07:35.199845Z",
     "shell.execute_reply": "2024-08-29T22:07:35.198680Z"
    },
    "papermill": {
     "duration": 23.387622,
     "end_time": "2024-08-29T22:07:35.203152",
     "exception": false,
     "start_time": "2024-08-29T22:07:11.815530",
     "status": "completed"
    },
    "tags": []
   },
   "outputs": [],
   "source": [
    "dframex=pd.read_csv(\"/kaggle/input/playground-series-s4e8/train.csv\", index_col='id')\n",
    "testframe=pd.read_csv(\"/kaggle/input/playground-series-s4e8/test.csv\", index_col='id')\n",
    "original = fetch_ucirepo(id=848)['data']['original']"
   ]
  },
  {
   "cell_type": "code",
   "execution_count": 4,
   "id": "2061873c",
   "metadata": {
    "execution": {
     "iopub.execute_input": "2024-08-29T22:07:35.242891Z",
     "iopub.status.busy": "2024-08-29T22:07:35.242472Z",
     "iopub.status.idle": "2024-08-29T22:07:35.274331Z",
     "shell.execute_reply": "2024-08-29T22:07:35.273225Z"
    },
    "papermill": {
     "duration": 0.054045,
     "end_time": "2024-08-29T22:07:35.276813",
     "exception": false,
     "start_time": "2024-08-29T22:07:35.222768",
     "status": "completed"
    },
    "tags": []
   },
   "outputs": [
    {
     "data": {
      "text/html": [
       "<div>\n",
       "<style scoped>\n",
       "    .dataframe tbody tr th:only-of-type {\n",
       "        vertical-align: middle;\n",
       "    }\n",
       "\n",
       "    .dataframe tbody tr th {\n",
       "        vertical-align: top;\n",
       "    }\n",
       "\n",
       "    .dataframe thead th {\n",
       "        text-align: right;\n",
       "    }\n",
       "</style>\n",
       "<table border=\"1\" class=\"dataframe\">\n",
       "  <thead>\n",
       "    <tr style=\"text-align: right;\">\n",
       "      <th></th>\n",
       "      <th>cap-diameter</th>\n",
       "      <th>cap-shape</th>\n",
       "      <th>cap-surface</th>\n",
       "      <th>cap-color</th>\n",
       "      <th>does-bruise-or-bleed</th>\n",
       "      <th>gill-attachment</th>\n",
       "      <th>gill-spacing</th>\n",
       "      <th>gill-color</th>\n",
       "      <th>stem-height</th>\n",
       "      <th>stem-width</th>\n",
       "      <th>stem-root</th>\n",
       "      <th>stem-surface</th>\n",
       "      <th>stem-color</th>\n",
       "      <th>veil-type</th>\n",
       "      <th>veil-color</th>\n",
       "      <th>has-ring</th>\n",
       "      <th>ring-type</th>\n",
       "      <th>spore-print-color</th>\n",
       "      <th>habitat</th>\n",
       "      <th>season</th>\n",
       "    </tr>\n",
       "    <tr>\n",
       "      <th>id</th>\n",
       "      <th></th>\n",
       "      <th></th>\n",
       "      <th></th>\n",
       "      <th></th>\n",
       "      <th></th>\n",
       "      <th></th>\n",
       "      <th></th>\n",
       "      <th></th>\n",
       "      <th></th>\n",
       "      <th></th>\n",
       "      <th></th>\n",
       "      <th></th>\n",
       "      <th></th>\n",
       "      <th></th>\n",
       "      <th></th>\n",
       "      <th></th>\n",
       "      <th></th>\n",
       "      <th></th>\n",
       "      <th></th>\n",
       "      <th></th>\n",
       "    </tr>\n",
       "  </thead>\n",
       "  <tbody>\n",
       "    <tr>\n",
       "      <th>3116945</th>\n",
       "      <td>8.64</td>\n",
       "      <td>x</td>\n",
       "      <td>NaN</td>\n",
       "      <td>n</td>\n",
       "      <td>t</td>\n",
       "      <td>NaN</td>\n",
       "      <td>NaN</td>\n",
       "      <td>w</td>\n",
       "      <td>11.13</td>\n",
       "      <td>17.12</td>\n",
       "      <td>b</td>\n",
       "      <td>NaN</td>\n",
       "      <td>w</td>\n",
       "      <td>u</td>\n",
       "      <td>w</td>\n",
       "      <td>t</td>\n",
       "      <td>g</td>\n",
       "      <td>NaN</td>\n",
       "      <td>d</td>\n",
       "      <td>a</td>\n",
       "    </tr>\n",
       "    <tr>\n",
       "      <th>3116946</th>\n",
       "      <td>6.90</td>\n",
       "      <td>o</td>\n",
       "      <td>t</td>\n",
       "      <td>o</td>\n",
       "      <td>f</td>\n",
       "      <td>NaN</td>\n",
       "      <td>c</td>\n",
       "      <td>y</td>\n",
       "      <td>1.27</td>\n",
       "      <td>10.75</td>\n",
       "      <td>NaN</td>\n",
       "      <td>NaN</td>\n",
       "      <td>n</td>\n",
       "      <td>NaN</td>\n",
       "      <td>NaN</td>\n",
       "      <td>f</td>\n",
       "      <td>f</td>\n",
       "      <td>NaN</td>\n",
       "      <td>d</td>\n",
       "      <td>a</td>\n",
       "    </tr>\n",
       "    <tr>\n",
       "      <th>3116947</th>\n",
       "      <td>2.00</td>\n",
       "      <td>b</td>\n",
       "      <td>g</td>\n",
       "      <td>n</td>\n",
       "      <td>f</td>\n",
       "      <td>NaN</td>\n",
       "      <td>c</td>\n",
       "      <td>n</td>\n",
       "      <td>6.18</td>\n",
       "      <td>3.14</td>\n",
       "      <td>NaN</td>\n",
       "      <td>NaN</td>\n",
       "      <td>n</td>\n",
       "      <td>NaN</td>\n",
       "      <td>NaN</td>\n",
       "      <td>f</td>\n",
       "      <td>f</td>\n",
       "      <td>NaN</td>\n",
       "      <td>d</td>\n",
       "      <td>s</td>\n",
       "    </tr>\n",
       "    <tr>\n",
       "      <th>3116948</th>\n",
       "      <td>3.47</td>\n",
       "      <td>x</td>\n",
       "      <td>t</td>\n",
       "      <td>n</td>\n",
       "      <td>f</td>\n",
       "      <td>s</td>\n",
       "      <td>c</td>\n",
       "      <td>n</td>\n",
       "      <td>4.98</td>\n",
       "      <td>8.51</td>\n",
       "      <td>NaN</td>\n",
       "      <td>NaN</td>\n",
       "      <td>w</td>\n",
       "      <td>NaN</td>\n",
       "      <td>n</td>\n",
       "      <td>t</td>\n",
       "      <td>z</td>\n",
       "      <td>NaN</td>\n",
       "      <td>d</td>\n",
       "      <td>u</td>\n",
       "    </tr>\n",
       "    <tr>\n",
       "      <th>3116949</th>\n",
       "      <td>6.17</td>\n",
       "      <td>x</td>\n",
       "      <td>h</td>\n",
       "      <td>y</td>\n",
       "      <td>f</td>\n",
       "      <td>p</td>\n",
       "      <td>NaN</td>\n",
       "      <td>y</td>\n",
       "      <td>6.73</td>\n",
       "      <td>13.70</td>\n",
       "      <td>NaN</td>\n",
       "      <td>NaN</td>\n",
       "      <td>y</td>\n",
       "      <td>NaN</td>\n",
       "      <td>y</td>\n",
       "      <td>t</td>\n",
       "      <td>NaN</td>\n",
       "      <td>NaN</td>\n",
       "      <td>d</td>\n",
       "      <td>u</td>\n",
       "    </tr>\n",
       "  </tbody>\n",
       "</table>\n",
       "</div>"
      ],
      "text/plain": [
       "         cap-diameter cap-shape cap-surface cap-color does-bruise-or-bleed  \\\n",
       "id                                                                           \n",
       "3116945          8.64         x         NaN         n                    t   \n",
       "3116946          6.90         o           t         o                    f   \n",
       "3116947          2.00         b           g         n                    f   \n",
       "3116948          3.47         x           t         n                    f   \n",
       "3116949          6.17         x           h         y                    f   \n",
       "\n",
       "        gill-attachment gill-spacing gill-color  stem-height  stem-width  \\\n",
       "id                                                                         \n",
       "3116945             NaN          NaN          w        11.13       17.12   \n",
       "3116946             NaN            c          y         1.27       10.75   \n",
       "3116947             NaN            c          n         6.18        3.14   \n",
       "3116948               s            c          n         4.98        8.51   \n",
       "3116949               p          NaN          y         6.73       13.70   \n",
       "\n",
       "        stem-root stem-surface stem-color veil-type veil-color has-ring  \\\n",
       "id                                                                        \n",
       "3116945         b          NaN          w         u          w        t   \n",
       "3116946       NaN          NaN          n       NaN        NaN        f   \n",
       "3116947       NaN          NaN          n       NaN        NaN        f   \n",
       "3116948       NaN          NaN          w       NaN          n        t   \n",
       "3116949       NaN          NaN          y       NaN          y        t   \n",
       "\n",
       "        ring-type spore-print-color habitat season  \n",
       "id                                                  \n",
       "3116945         g               NaN       d      a  \n",
       "3116946         f               NaN       d      a  \n",
       "3116947         f               NaN       d      s  \n",
       "3116948         z               NaN       d      u  \n",
       "3116949       NaN               NaN       d      u  "
      ]
     },
     "execution_count": 4,
     "metadata": {},
     "output_type": "execute_result"
    }
   ],
   "source": [
    "testframe.head()"
   ]
  },
  {
   "cell_type": "markdown",
   "id": "436c4368",
   "metadata": {
    "papermill": {
     "duration": 0.01872,
     "end_time": "2024-08-29T22:07:35.313419",
     "exception": false,
     "start_time": "2024-08-29T22:07:35.294699",
     "status": "completed"
    },
    "tags": []
   },
   "source": [
    "# Clean Data"
   ]
  },
  {
   "cell_type": "code",
   "execution_count": 5,
   "id": "02119072",
   "metadata": {
    "execution": {
     "iopub.execute_input": "2024-08-29T22:07:35.352202Z",
     "iopub.status.busy": "2024-08-29T22:07:35.351754Z",
     "iopub.status.idle": "2024-08-29T22:07:35.358551Z",
     "shell.execute_reply": "2024-08-29T22:07:35.356911Z"
    },
    "papermill": {
     "duration": 0.029749,
     "end_time": "2024-08-29T22:07:35.361244",
     "exception": false,
     "start_time": "2024-08-29T22:07:35.331495",
     "status": "completed"
    },
    "tags": []
   },
   "outputs": [],
   "source": [
    "#Replace NaN in super dirty columns with \"Unknown\" label\n",
    "#for col in [\"spore-print-color\", \"veil-color\", \"veil-type\", \"stem-root\", \"stem-surface\"]:\n",
    "#    dframex[col] = dframex[col].fillna(\"Unknown\")\n",
    "#    testframe[col] = testframe[col].fillna(\"Unknown\")\n",
    "#dframex=dframex.head(5000)"
   ]
  },
  {
   "cell_type": "code",
   "execution_count": 6,
   "id": "63b57980",
   "metadata": {
    "execution": {
     "iopub.execute_input": "2024-08-29T22:07:35.401647Z",
     "iopub.status.busy": "2024-08-29T22:07:35.401262Z",
     "iopub.status.idle": "2024-08-29T22:07:35.407304Z",
     "shell.execute_reply": "2024-08-29T22:07:35.405919Z"
    },
    "papermill": {
     "duration": 0.030295,
     "end_time": "2024-08-29T22:07:35.409787",
     "exception": false,
     "start_time": "2024-08-29T22:07:35.379492",
     "status": "completed"
    },
    "tags": []
   },
   "outputs": [],
   "source": [
    "#dframex=dframex.drop([\"spore-print-color\",\"veil-color\",\"veil-type\",\"stem-root\",\"stem-surface\"],axis=1)\n",
    "#dframex=dframex.dropna()\n",
    "dframex=dframex.head(5000)"
   ]
  },
  {
   "cell_type": "code",
   "execution_count": 7,
   "id": "9db29693",
   "metadata": {
    "execution": {
     "iopub.execute_input": "2024-08-29T22:07:35.451466Z",
     "iopub.status.busy": "2024-08-29T22:07:35.451038Z",
     "iopub.status.idle": "2024-08-29T22:07:39.426503Z",
     "shell.execute_reply": "2024-08-29T22:07:39.425074Z"
    },
    "papermill": {
     "duration": 4.000018,
     "end_time": "2024-08-29T22:07:39.429486",
     "exception": false,
     "start_time": "2024-08-29T22:07:35.429468",
     "status": "completed"
    },
    "tags": []
   },
   "outputs": [],
   "source": [
    "y = dframex.pop('class')\n",
    "y = y.apply(lambda x: 0 if x == 'e' else 1)\n",
    "dframe=dframex\n",
    "\n",
    "float_features = ['cap-diameter', 'stem-height', 'stem-width']\n",
    "categorical_columns = []\n",
    "for col in dframe.columns.tolist():\n",
    "    if col not in float_features:\n",
    "        categorical_columns.append(col)\n",
    "        categories = sorted(list(set(original[col].dropna())))\n",
    "        dtype = pd.CategoricalDtype(categories=categories,\n",
    "                                   ordered=False)\n",
    "        dframe.loc[~dframe[col].isin(categories), col] = \"missing\"\n",
    "        if TEST:\n",
    "            testframe.loc[~testframe[col].isin(categories), col] = \"missing\"\n",
    "    else:\n",
    "        dtype = np.float32\n",
    "        dframe[col].fillna(dframe[col].mean())\n",
    "        if TEST:\n",
    "            testframe[col].fillna(testframe[col].mean())\n",
    "    dframe[col] = dframe[col].astype(dtype)\n",
    "    if TEST:\n",
    "        testframe[col] = testframe[col].astype(dtype)"
   ]
  },
  {
   "cell_type": "code",
   "execution_count": 8,
   "id": "f8174718",
   "metadata": {
    "execution": {
     "iopub.execute_input": "2024-08-29T22:07:39.469887Z",
     "iopub.status.busy": "2024-08-29T22:07:39.469467Z",
     "iopub.status.idle": "2024-08-29T22:07:39.518784Z",
     "shell.execute_reply": "2024-08-29T22:07:39.517314Z"
    },
    "papermill": {
     "duration": 0.072931,
     "end_time": "2024-08-29T22:07:39.521557",
     "exception": false,
     "start_time": "2024-08-29T22:07:39.448626",
     "status": "completed"
    },
    "tags": []
   },
   "outputs": [
    {
     "name": "stdout",
     "output_type": "stream",
     "text": [
      "cap-diameter               0\n",
      "cap-shape                  0\n",
      "cap-surface             1083\n",
      "cap-color                  0\n",
      "does-bruise-or-bleed       0\n",
      "gill-attachment          805\n",
      "gill-spacing            2054\n",
      "gill-color                 2\n",
      "stem-height                0\n",
      "stem-width                 0\n",
      "stem-root               4473\n",
      "stem-surface            3141\n",
      "stem-color                 1\n",
      "veil-type               4761\n",
      "veil-color              4410\n",
      "has-ring                   0\n",
      "ring-type                207\n",
      "spore-print-color       4563\n",
      "habitat                    2\n",
      "season                     0\n",
      "dtype: int64\n",
      "cap-diameter                  7\n",
      "cap-shape                   368\n",
      "cap-surface              447295\n",
      "cap-color                   281\n",
      "does-bruise-or-bleed         75\n",
      "gill-attachment          350143\n",
      "gill-spacing             839680\n",
      "gill-color                  328\n",
      "stem-height                   1\n",
      "stem-width                    0\n",
      "stem-root               1838125\n",
      "stem-surface            1321738\n",
      "stem-color                  208\n",
      "veil-type               1971591\n",
      "veil-color              1826228\n",
      "has-ring                    113\n",
      "ring-type                 86437\n",
      "spore-print-color       1899728\n",
      "habitat                     309\n",
      "season                        0\n",
      "dtype: int64\n"
     ]
    }
   ],
   "source": [
    "print(dframe.isnull().sum())\n",
    "print(testframe.isnull().sum())"
   ]
  },
  {
   "cell_type": "code",
   "execution_count": 9,
   "id": "4ce56357",
   "metadata": {
    "execution": {
     "iopub.execute_input": "2024-08-29T22:07:39.562940Z",
     "iopub.status.busy": "2024-08-29T22:07:39.562460Z",
     "iopub.status.idle": "2024-08-29T22:07:39.570676Z",
     "shell.execute_reply": "2024-08-29T22:07:39.569355Z"
    },
    "papermill": {
     "duration": 0.03168,
     "end_time": "2024-08-29T22:07:39.573115",
     "exception": false,
     "start_time": "2024-08-29T22:07:39.541435",
     "status": "completed"
    },
    "tags": []
   },
   "outputs": [
    {
     "data": {
      "text/plain": [
       "'\\n# Convert to categorical or float32\\nfloat_features = [\\'cap-diameter\\', \\'stem-height\\', \\'stem-width\\']\\ncat_features = [f for f in initial_features if f not in float_features]\\nfor feature in initial_features:\\n    if feature in cat_features:\\n        categories = sorted(list(set(original[feature].dropna())))\\n        dtype = pd.CategoricalDtype(categories=categories,\\n                                    ordered=False)\\n        print(f\"{feature:30} {len(dtype.categories)}\")\\n        train.loc[~train[feature].isin(categories), feature] = np.nan\\n        if TEST:\\n            test.loc[~test[feature].isin(categories), feature] = np.nan\\n    else:\\n        dtype = np.float32\\n    train[feature] = train[feature].astype(dtype)\\n    original[feature] = original[feature].astype(dtype)\\n    if COMPUTE_TEST_PRED:\\n        test[feature] = test[feature].astype(dtype)\\n'"
      ]
     },
     "execution_count": 9,
     "metadata": {},
     "output_type": "execute_result"
    }
   ],
   "source": [
    "\"\"\"\n",
    "# Convert to categorical or float32\n",
    "float_features = ['cap-diameter', 'stem-height', 'stem-width']\n",
    "cat_features = [f for f in initial_features if f not in float_features]\n",
    "for feature in initial_features:\n",
    "    if feature in cat_features:\n",
    "        categories = sorted(list(set(original[feature].dropna())))\n",
    "        dtype = pd.CategoricalDtype(categories=categories,\n",
    "                                    ordered=False)\n",
    "        print(f\"{feature:30} {len(dtype.categories)}\")\n",
    "        train.loc[~train[feature].isin(categories), feature] = np.nan\n",
    "        if TEST:\n",
    "            test.loc[~test[feature].isin(categories), feature] = np.nan\n",
    "    else:\n",
    "        dtype = np.float32\n",
    "    train[feature] = train[feature].astype(dtype)\n",
    "    original[feature] = original[feature].astype(dtype)\n",
    "    if COMPUTE_TEST_PRED:\n",
    "        test[feature] = test[feature].astype(dtype)\n",
    "\"\"\""
   ]
  },
  {
   "cell_type": "code",
   "execution_count": 10,
   "id": "5965bdee",
   "metadata": {
    "execution": {
     "iopub.execute_input": "2024-08-29T22:07:39.613100Z",
     "iopub.status.busy": "2024-08-29T22:07:39.612640Z",
     "iopub.status.idle": "2024-08-29T22:07:39.651593Z",
     "shell.execute_reply": "2024-08-29T22:07:39.650118Z"
    },
    "papermill": {
     "duration": 0.062006,
     "end_time": "2024-08-29T22:07:39.654324",
     "exception": false,
     "start_time": "2024-08-29T22:07:39.592318",
     "status": "completed"
    },
    "tags": []
   },
   "outputs": [
    {
     "name": "stdout",
     "output_type": "stream",
     "text": [
      "<class 'pandas.core.frame.DataFrame'>\n",
      "Index: 5000 entries, 0 to 4999\n",
      "Data columns (total 20 columns):\n",
      " #   Column                Non-Null Count  Dtype   \n",
      "---  ------                --------------  -----   \n",
      " 0   cap-diameter          5000 non-null   float32 \n",
      " 1   cap-shape             5000 non-null   category\n",
      " 2   cap-surface           3917 non-null   category\n",
      " 3   cap-color             5000 non-null   category\n",
      " 4   does-bruise-or-bleed  5000 non-null   category\n",
      " 5   gill-attachment       4195 non-null   category\n",
      " 6   gill-spacing          2946 non-null   category\n",
      " 7   gill-color            4998 non-null   category\n",
      " 8   stem-height           5000 non-null   float32 \n",
      " 9   stem-width            5000 non-null   float32 \n",
      " 10  stem-root             527 non-null    category\n",
      " 11  stem-surface          1859 non-null   category\n",
      " 12  stem-color            4999 non-null   category\n",
      " 13  veil-type             239 non-null    category\n",
      " 14  veil-color            590 non-null    category\n",
      " 15  has-ring              5000 non-null   category\n",
      " 16  ring-type             4793 non-null   category\n",
      " 17  spore-print-color     437 non-null    category\n",
      " 18  habitat               4998 non-null   category\n",
      " 19  season                5000 non-null   category\n",
      "dtypes: category(17), float32(3)\n",
      "memory usage: 185.7 KB\n",
      "None\n",
      "<class 'pandas.core.frame.DataFrame'>\n",
      "Index: 2077964 entries, 3116945 to 5194908\n",
      "Data columns (total 20 columns):\n",
      " #   Column                Dtype   \n",
      "---  ------                -----   \n",
      " 0   cap-diameter          float32 \n",
      " 1   cap-shape             category\n",
      " 2   cap-surface           category\n",
      " 3   cap-color             category\n",
      " 4   does-bruise-or-bleed  category\n",
      " 5   gill-attachment       category\n",
      " 6   gill-spacing          category\n",
      " 7   gill-color            category\n",
      " 8   stem-height           float32 \n",
      " 9   stem-width            float32 \n",
      " 10  stem-root             category\n",
      " 11  stem-surface          category\n",
      " 12  stem-color            category\n",
      " 13  veil-type             category\n",
      " 14  veil-color            category\n",
      " 15  has-ring              category\n",
      " 16  ring-type             category\n",
      " 17  spore-print-color     category\n",
      " 18  habitat               category\n",
      " 19  season                category\n",
      "dtypes: category(17), float32(3)\n",
      "memory usage: 73.3 MB\n",
      "None\n"
     ]
    }
   ],
   "source": [
    "print(dframe.info())\n",
    "print(testframe.info())"
   ]
  },
  {
   "cell_type": "code",
   "execution_count": null,
   "id": "e624e1c4",
   "metadata": {
    "execution": {
     "iopub.execute_input": "2024-08-29T22:07:39.694316Z",
     "iopub.status.busy": "2024-08-29T22:07:39.693933Z",
     "iopub.status.idle": "2024-08-29T22:07:58.048326Z",
     "shell.execute_reply": "2024-08-29T22:07:58.046903Z"
    },
    "papermill": {
     "duration": 18.378589,
     "end_time": "2024-08-29T22:07:58.051842",
     "exception": false,
     "start_time": "2024-08-29T22:07:39.673253",
     "status": "completed"
    },
    "tags": []
   },
   "outputs": [],
   "source": [
    "ct = make_column_transformer(\n",
    "    (OneHotEncoder(sparse_output=False, handle_unknown='ignore'), categorical_columns),\n",
    "    remainder='passthrough'\n",
    ")\n",
    "\n",
    "encoded_array = ct.fit_transform(dframe)\n",
    "if TEST:\n",
    "    test_array = ct.transform(testframe)\n",
    "\n",
    "feature_names = ct.get_feature_names_out()\n",
    "\n",
    "encoded_df = pd.DataFrame(encoded_array, columns=feature_names)\n",
    "if TEST:\n",
    "    test_df=pd.DataFrame(test_array,columns=feature_names, index = testframe.index)\n",
    "\n",
    "columns=encoded_df.columns.to_list()\n",
    "columns_map=[(columns[j],columns[j]) for j in range(0,len(columns)) if \"remainder\" not in columns[j]]\n",
    "columns_map.append((\"remainder__stem-width\",\"stem-width\"))\n",
    "columns_map.append((\"remainder__stem-height\",\"stem-height\"))\n",
    "columns_map.append((\"remainder__cap-diameter\",\"cap-diameter\"))\n",
    "columns_map.append((\"remainder__class\",\"class\"))\n",
    "columns_map.append((\"remainder__id\",\"id\"))\n",
    "mapping_dict=dict()\n",
    "for x in columns_map:\n",
    "    mapping_dict.update({x[0]:x[1]})\n",
    "#print(columns_map)\n",
    "encoded_df=encoded_df.rename(columns=mapping_dict)\n",
    "if TEST:\n",
    "    test_df=test_df.rename(columns=mapping_dict)\n",
    "dframe=encoded_df\n",
    "if TEST:\n",
    "    testframe=test_df\n",
    "#print(dframe.shape)\n",
    "#print(dframe.head())"
   ]
  },
  {
   "cell_type": "code",
   "execution_count": 12,
   "id": "3e1f3253",
   "metadata": {
    "execution": {
     "iopub.execute_input": "2024-08-29T22:07:58.094421Z",
     "iopub.status.busy": "2024-08-29T22:07:58.094033Z",
     "iopub.status.idle": "2024-08-29T22:07:58.113739Z",
     "shell.execute_reply": "2024-08-29T22:07:58.112370Z"
    },
    "papermill": {
     "duration": 0.045059,
     "end_time": "2024-08-29T22:07:58.116544",
     "exception": false,
     "start_time": "2024-08-29T22:07:58.071485",
     "status": "completed"
    },
    "tags": []
   },
   "outputs": [
    {
     "name": "stdout",
     "output_type": "stream",
     "text": [
      "         onehotencoder__cap-shape_b  onehotencoder__cap-shape_c  \\\n",
      "id                                                                \n",
      "3116945                         0.0                         0.0   \n",
      "3116946                         0.0                         0.0   \n",
      "3116947                         1.0                         0.0   \n",
      "3116948                         0.0                         0.0   \n",
      "3116949                         0.0                         0.0   \n",
      "\n",
      "         onehotencoder__cap-shape_f  onehotencoder__cap-shape_o  \\\n",
      "id                                                                \n",
      "3116945                         0.0                         0.0   \n",
      "3116946                         0.0                         1.0   \n",
      "3116947                         0.0                         0.0   \n",
      "3116948                         0.0                         0.0   \n",
      "3116949                         0.0                         0.0   \n",
      "\n",
      "         onehotencoder__cap-shape_p  onehotencoder__cap-shape_s  \\\n",
      "id                                                                \n",
      "3116945                         0.0                         0.0   \n",
      "3116946                         0.0                         0.0   \n",
      "3116947                         0.0                         0.0   \n",
      "3116948                         0.0                         0.0   \n",
      "3116949                         0.0                         0.0   \n",
      "\n",
      "         onehotencoder__cap-shape_x  onehotencoder__cap-surface_d  \\\n",
      "id                                                                  \n",
      "3116945                         1.0                           0.0   \n",
      "3116946                         0.0                           0.0   \n",
      "3116947                         0.0                           0.0   \n",
      "3116948                         1.0                           0.0   \n",
      "3116949                         1.0                           0.0   \n",
      "\n",
      "         onehotencoder__cap-surface_e  onehotencoder__cap-surface_g  ...  \\\n",
      "id                                                                   ...   \n",
      "3116945                           0.0                           0.0  ...   \n",
      "3116946                           0.0                           0.0  ...   \n",
      "3116947                           0.0                           1.0  ...   \n",
      "3116948                           0.0                           0.0  ...   \n",
      "3116949                           0.0                           0.0  ...   \n",
      "\n",
      "         onehotencoder__habitat_u  onehotencoder__habitat_w  \\\n",
      "id                                                            \n",
      "3116945                       0.0                       0.0   \n",
      "3116946                       0.0                       0.0   \n",
      "3116947                       0.0                       0.0   \n",
      "3116948                       0.0                       0.0   \n",
      "3116949                       0.0                       0.0   \n",
      "\n",
      "         onehotencoder__habitat_nan  onehotencoder__season_a  \\\n",
      "id                                                             \n",
      "3116945                         0.0                      1.0   \n",
      "3116946                         0.0                      1.0   \n",
      "3116947                         0.0                      0.0   \n",
      "3116948                         0.0                      0.0   \n",
      "3116949                         0.0                      0.0   \n",
      "\n",
      "         onehotencoder__season_s  onehotencoder__season_u  \\\n",
      "id                                                          \n",
      "3116945                      0.0                      0.0   \n",
      "3116946                      0.0                      0.0   \n",
      "3116947                      1.0                      0.0   \n",
      "3116948                      0.0                      1.0   \n",
      "3116949                      0.0                      1.0   \n",
      "\n",
      "         onehotencoder__season_w  cap-diameter  stem-height  stem-width  \n",
      "id                                                                       \n",
      "3116945                      0.0          8.64        11.13   17.120001  \n",
      "3116946                      0.0          6.90         1.27   10.750000  \n",
      "3116947                      0.0          2.00         6.18    3.140000  \n",
      "3116948                      0.0          3.47         4.98    8.510000  \n",
      "3116949                      0.0          6.17         6.73   13.700000  \n",
      "\n",
      "[5 rows x 131 columns]\n"
     ]
    }
   ],
   "source": [
    "print(testframe.head())"
   ]
  },
  {
   "cell_type": "markdown",
   "id": "eff77265",
   "metadata": {
    "papermill": {
     "duration": 0.019146,
     "end_time": "2024-08-29T22:07:58.154996",
     "exception": false,
     "start_time": "2024-08-29T22:07:58.135850",
     "status": "completed"
    },
    "tags": []
   },
   "source": [
    "# EDA\n"
   ]
  },
  {
   "cell_type": "code",
   "execution_count": 13,
   "id": "796e3957",
   "metadata": {
    "execution": {
     "iopub.execute_input": "2024-08-29T22:07:58.196426Z",
     "iopub.status.busy": "2024-08-29T22:07:58.196010Z",
     "iopub.status.idle": "2024-08-29T22:08:09.815555Z",
     "shell.execute_reply": "2024-08-29T22:08:09.814342Z"
    },
    "papermill": {
     "duration": 11.644787,
     "end_time": "2024-08-29T22:08:09.818265",
     "exception": false,
     "start_time": "2024-08-29T22:07:58.173478",
     "status": "completed"
    },
    "tags": []
   },
   "outputs": [
    {
     "name": "stdout",
     "output_type": "stream",
     "text": [
      "<class 'pandas.core.frame.DataFrame'>\n",
      "Index: 2077964 entries, 3116945 to 5194908\n",
      "Columns: 131 entries, onehotencoder__cap-shape_b to stem-width\n",
      "dtypes: float64(131)\n",
      "memory usage: 2.0 GB\n",
      "None\n",
      "\n",
      "Dataset shape: (5000, 131)\n",
      "       onehotencoder__cap-shape_b  onehotencoder__cap-shape_c  \\\n",
      "count                2.077964e+06                2.077964e+06   \n",
      "mean                 1.019647e-01                3.341540e-02   \n",
      "std                  3.026020e-01                1.797187e-01   \n",
      "min                  0.000000e+00                0.000000e+00   \n",
      "25%                  0.000000e+00                0.000000e+00   \n",
      "50%                  0.000000e+00                0.000000e+00   \n",
      "75%                  0.000000e+00                0.000000e+00   \n",
      "max                  1.000000e+00                1.000000e+00   \n",
      "\n",
      "       onehotencoder__cap-shape_f  onehotencoder__cap-shape_o  \\\n",
      "count                2.077964e+06                2.077964e+06   \n",
      "mean                 2.176939e-01                3.463583e-02   \n",
      "std                  4.126782e-01                1.828557e-01   \n",
      "min                  0.000000e+00                0.000000e+00   \n",
      "25%                  0.000000e+00                0.000000e+00   \n",
      "50%                  0.000000e+00                0.000000e+00   \n",
      "75%                  0.000000e+00                0.000000e+00   \n",
      "max                  1.000000e+00                1.000000e+00   \n",
      "\n",
      "       onehotencoder__cap-shape_p  onehotencoder__cap-shape_s  \\\n",
      "count                2.077964e+06                2.077964e+06   \n",
      "mean                 3.431340e-02                1.167961e-01   \n",
      "std                  1.820330e-01                3.211772e-01   \n",
      "min                  0.000000e+00                0.000000e+00   \n",
      "25%                  0.000000e+00                0.000000e+00   \n",
      "50%                  0.000000e+00                0.000000e+00   \n",
      "75%                  0.000000e+00                0.000000e+00   \n",
      "max                  1.000000e+00                1.000000e+00   \n",
      "\n",
      "       onehotencoder__cap-shape_x  onehotencoder__cap-surface_d  \\\n",
      "count                2.077964e+06                  2.077964e+06   \n",
      "mean                 4.610037e-01                  6.625476e-02   \n",
      "std                  4.984771e-01                  2.487269e-01   \n",
      "min                  0.000000e+00                  0.000000e+00   \n",
      "25%                  0.000000e+00                  0.000000e+00   \n",
      "50%                  0.000000e+00                  0.000000e+00   \n",
      "75%                  1.000000e+00                  0.000000e+00   \n",
      "max                  1.000000e+00                  1.000000e+00   \n",
      "\n",
      "       onehotencoder__cap-surface_e  onehotencoder__cap-surface_g  ...  \\\n",
      "count                  2.077964e+06                  2.077964e+06  ...   \n",
      "mean                   3.845976e-02                  8.476566e-02  ...   \n",
      "std                    1.923035e-01                  2.785327e-01  ...   \n",
      "min                    0.000000e+00                  0.000000e+00  ...   \n",
      "25%                    0.000000e+00                  0.000000e+00  ...   \n",
      "50%                    0.000000e+00                  0.000000e+00  ...   \n",
      "75%                    0.000000e+00                  0.000000e+00  ...   \n",
      "max                    1.000000e+00                  1.000000e+00  ...   \n",
      "\n",
      "       onehotencoder__habitat_u  onehotencoder__habitat_w  \\\n",
      "count              2.077964e+06              2.077964e+06   \n",
      "mean               1.652579e-03              5.930805e-03   \n",
      "std                4.061833e-02              7.678303e-02   \n",
      "min                0.000000e+00              0.000000e+00   \n",
      "25%                0.000000e+00              0.000000e+00   \n",
      "50%                0.000000e+00              0.000000e+00   \n",
      "75%                0.000000e+00              0.000000e+00   \n",
      "max                1.000000e+00              1.000000e+00   \n",
      "\n",
      "       onehotencoder__habitat_nan  onehotencoder__season_a  \\\n",
      "count                2.077964e+06             2.077964e+06   \n",
      "mean                 1.487032e-04             4.952372e-01   \n",
      "std                  1.219349e-02             4.999774e-01   \n",
      "min                  0.000000e+00             0.000000e+00   \n",
      "25%                  0.000000e+00             0.000000e+00   \n",
      "50%                  0.000000e+00             0.000000e+00   \n",
      "75%                  0.000000e+00             1.000000e+00   \n",
      "max                  1.000000e+00             1.000000e+00   \n",
      "\n",
      "       onehotencoder__season_s  onehotencoder__season_u  \\\n",
      "count             2.077964e+06             2.077964e+06   \n",
      "mean              4.554314e-02             3.697210e-01   \n",
      "std               2.084922e-01             4.827292e-01   \n",
      "min               0.000000e+00             0.000000e+00   \n",
      "25%               0.000000e+00             0.000000e+00   \n",
      "50%               0.000000e+00             0.000000e+00   \n",
      "75%               0.000000e+00             1.000000e+00   \n",
      "max               1.000000e+00             1.000000e+00   \n",
      "\n",
      "       onehotencoder__season_w  cap-diameter   stem-height    stem-width  \n",
      "count             2.077964e+06  2.077957e+06  2.077963e+06  2.077964e+06  \n",
      "mean              8.949866e-02  6.306192e+00  6.346509e+00  1.114837e+01  \n",
      "std               2.854622e-01  4.685462e+00  2.698978e+00  8.100181e+00  \n",
      "min               0.000000e+00  0.000000e+00  0.000000e+00  0.000000e+00  \n",
      "25%               0.000000e+00  3.310000e+00  4.670000e+00  4.970000e+00  \n",
      "50%               0.000000e+00  5.740000e+00  5.880000e+00  9.640000e+00  \n",
      "75%               0.000000e+00  8.230000e+00  7.410000e+00  1.562000e+01  \n",
      "max               1.000000e+00  6.070000e+02  5.729000e+01  1.029100e+02  \n",
      "\n",
      "[8 rows x 131 columns]\n",
      "onehotencoder__cap-shape_b    0\n",
      "onehotencoder__cap-shape_c    0\n",
      "onehotencoder__cap-shape_f    0\n",
      "onehotencoder__cap-shape_o    0\n",
      "onehotencoder__cap-shape_p    0\n",
      "                             ..\n",
      "onehotencoder__season_u       0\n",
      "onehotencoder__season_w       0\n",
      "cap-diameter                  7\n",
      "stem-height                   1\n",
      "stem-width                    0\n",
      "Length: 131, dtype: int64\n"
     ]
    }
   ],
   "source": [
    "print(testframe.info())\n",
    "print(\"\\nDataset shape:\", dframe.shape)\n",
    "print(testframe.describe())\n",
    "print(testframe.isnull().sum())\n",
    "\"\"\"\n",
    "for col in list(testframe.columns:\n",
    "    if testframe[col].isnull().sum()>0:\n",
    "        print(col)\n",
    "\"\"\"\n",
    "testframe = testframe.fillna(0)"
   ]
  },
  {
   "cell_type": "code",
   "execution_count": 14,
   "id": "f17753f6",
   "metadata": {
    "execution": {
     "iopub.execute_input": "2024-08-29T22:08:09.858755Z",
     "iopub.status.busy": "2024-08-29T22:08:09.858383Z",
     "iopub.status.idle": "2024-08-29T22:08:09.876905Z",
     "shell.execute_reply": "2024-08-29T22:08:09.875680Z"
    },
    "papermill": {
     "duration": 0.042641,
     "end_time": "2024-08-29T22:08:09.879842",
     "exception": false,
     "start_time": "2024-08-29T22:08:09.837201",
     "status": "completed"
    },
    "tags": []
   },
   "outputs": [
    {
     "name": "stdout",
     "output_type": "stream",
     "text": [
      "         onehotencoder__cap-shape_b  onehotencoder__cap-shape_c  \\\n",
      "id                                                                \n",
      "3116945                         0.0                         0.0   \n",
      "3116946                         0.0                         0.0   \n",
      "3116947                         1.0                         0.0   \n",
      "3116948                         0.0                         0.0   \n",
      "3116949                         0.0                         0.0   \n",
      "\n",
      "         onehotencoder__cap-shape_f  onehotencoder__cap-shape_o  \\\n",
      "id                                                                \n",
      "3116945                         0.0                         0.0   \n",
      "3116946                         0.0                         1.0   \n",
      "3116947                         0.0                         0.0   \n",
      "3116948                         0.0                         0.0   \n",
      "3116949                         0.0                         0.0   \n",
      "\n",
      "         onehotencoder__cap-shape_p  onehotencoder__cap-shape_s  \\\n",
      "id                                                                \n",
      "3116945                         0.0                         0.0   \n",
      "3116946                         0.0                         0.0   \n",
      "3116947                         0.0                         0.0   \n",
      "3116948                         0.0                         0.0   \n",
      "3116949                         0.0                         0.0   \n",
      "\n",
      "         onehotencoder__cap-shape_x  onehotencoder__cap-surface_d  \\\n",
      "id                                                                  \n",
      "3116945                         1.0                           0.0   \n",
      "3116946                         0.0                           0.0   \n",
      "3116947                         0.0                           0.0   \n",
      "3116948                         1.0                           0.0   \n",
      "3116949                         1.0                           0.0   \n",
      "\n",
      "         onehotencoder__cap-surface_e  onehotencoder__cap-surface_g  ...  \\\n",
      "id                                                                   ...   \n",
      "3116945                           0.0                           0.0  ...   \n",
      "3116946                           0.0                           0.0  ...   \n",
      "3116947                           0.0                           1.0  ...   \n",
      "3116948                           0.0                           0.0  ...   \n",
      "3116949                           0.0                           0.0  ...   \n",
      "\n",
      "         onehotencoder__habitat_u  onehotencoder__habitat_w  \\\n",
      "id                                                            \n",
      "3116945                       0.0                       0.0   \n",
      "3116946                       0.0                       0.0   \n",
      "3116947                       0.0                       0.0   \n",
      "3116948                       0.0                       0.0   \n",
      "3116949                       0.0                       0.0   \n",
      "\n",
      "         onehotencoder__habitat_nan  onehotencoder__season_a  \\\n",
      "id                                                             \n",
      "3116945                         0.0                      1.0   \n",
      "3116946                         0.0                      1.0   \n",
      "3116947                         0.0                      0.0   \n",
      "3116948                         0.0                      0.0   \n",
      "3116949                         0.0                      0.0   \n",
      "\n",
      "         onehotencoder__season_s  onehotencoder__season_u  \\\n",
      "id                                                          \n",
      "3116945                      0.0                      0.0   \n",
      "3116946                      0.0                      0.0   \n",
      "3116947                      1.0                      0.0   \n",
      "3116948                      0.0                      1.0   \n",
      "3116949                      0.0                      1.0   \n",
      "\n",
      "         onehotencoder__season_w  cap-diameter  stem-height  stem-width  \n",
      "id                                                                       \n",
      "3116945                      0.0          8.64        11.13   17.120001  \n",
      "3116946                      0.0          6.90         1.27   10.750000  \n",
      "3116947                      0.0          2.00         6.18    3.140000  \n",
      "3116948                      0.0          3.47         4.98    8.510000  \n",
      "3116949                      0.0          6.17         6.73   13.700000  \n",
      "\n",
      "[5 rows x 131 columns]\n"
     ]
    }
   ],
   "source": [
    "print(testframe.head())"
   ]
  },
  {
   "cell_type": "code",
   "execution_count": 15,
   "id": "c70a8630",
   "metadata": {
    "execution": {
     "iopub.execute_input": "2024-08-29T22:08:09.989486Z",
     "iopub.status.busy": "2024-08-29T22:08:09.989092Z",
     "iopub.status.idle": "2024-08-29T22:08:09.995864Z",
     "shell.execute_reply": "2024-08-29T22:08:09.994629Z"
    },
    "papermill": {
     "duration": 0.032093,
     "end_time": "2024-08-29T22:08:09.998640",
     "exception": false,
     "start_time": "2024-08-29T22:08:09.966547",
     "status": "completed"
    },
    "tags": []
   },
   "outputs": [
    {
     "data": {
      "text/plain": [
       "'\\nfor col in dframe.select_dtypes(include=[\\'object\\']).columns:\\n    print(f\"\\nUnique values in {col}:\")\\n    print(dframe[col].value_counts())\\n'"
      ]
     },
     "execution_count": 15,
     "metadata": {},
     "output_type": "execute_result"
    }
   ],
   "source": [
    "\"\"\"\n",
    "for col in dframe.select_dtypes(include=['object']).columns:\n",
    "    print(f\"\\nUnique values in {col}:\")\n",
    "    print(dframe[col].value_counts())\n",
    "\"\"\"    "
   ]
  },
  {
   "cell_type": "code",
   "execution_count": 16,
   "id": "575d726b",
   "metadata": {
    "execution": {
     "iopub.execute_input": "2024-08-29T22:08:10.039643Z",
     "iopub.status.busy": "2024-08-29T22:08:10.039271Z",
     "iopub.status.idle": "2024-08-29T22:08:10.043953Z",
     "shell.execute_reply": "2024-08-29T22:08:10.042845Z"
    },
    "papermill": {
     "duration": 0.028467,
     "end_time": "2024-08-29T22:08:10.046795",
     "exception": false,
     "start_time": "2024-08-29T22:08:10.018328",
     "status": "completed"
    },
    "tags": []
   },
   "outputs": [],
   "source": [
    "# correlation_matrix = dframe[numerical_cols].corr()\n",
    "# plt.figure(figsize=(12, 10))\n",
    "# sns.heatmap(correlation_matrix, annot=True, cmap='coolwarm')\n",
    "# plt.title('Correlation Matrix')\n",
    "# plt.show()"
   ]
  },
  {
   "cell_type": "code",
   "execution_count": null,
   "id": "2da42a3c",
   "metadata": {
    "execution": {
     "iopub.execute_input": "2024-08-29T22:08:10.089955Z",
     "iopub.status.busy": "2024-08-29T22:08:10.088715Z",
     "iopub.status.idle": "2024-08-29T22:08:10.095293Z",
     "shell.execute_reply": "2024-08-29T22:08:10.093239Z"
    },
    "papermill": {
     "duration": 0.03144,
     "end_time": "2024-08-29T22:08:10.098987",
     "exception": false,
     "start_time": "2024-08-29T22:08:10.067547",
     "status": "completed"
    },
    "tags": []
   },
   "outputs": [],
   "source": [
    "\n",
    "# target_counts = dframe['class'].value_counts()\n",
    "\n",
    "\n",
    "# plt.figure(figsize=(10, 8))\n",
    "# plt.pie(target_counts.values, labels=target_counts.index, autopct='%1.1f%%', startangle=90)\n",
    "# plt.title('Distribution of Target Classes')\n",
    "# plt.axis('equal')  # Equal aspect ratio ensures that pie is drawn as a circle\n",
    "# plt.show()"
   ]
  },
  {
   "cell_type": "markdown",
   "id": "6fa796ab",
   "metadata": {
    "papermill": {
     "duration": 0.019631,
     "end_time": "2024-08-29T22:08:10.139317",
     "exception": false,
     "start_time": "2024-08-29T22:08:10.119686",
     "status": "completed"
    },
    "tags": []
   },
   "source": [
    "# Boilerplate\n"
   ]
  },
  {
   "cell_type": "code",
   "execution_count": 18,
   "id": "2e76bef3",
   "metadata": {
    "execution": {
     "iopub.execute_input": "2024-08-29T22:08:10.180572Z",
     "iopub.status.busy": "2024-08-29T22:08:10.179908Z",
     "iopub.status.idle": "2024-08-29T22:08:10.218668Z",
     "shell.execute_reply": "2024-08-29T22:08:10.217430Z"
    },
    "papermill": {
     "duration": 0.063097,
     "end_time": "2024-08-29T22:08:10.222161",
     "exception": false,
     "start_time": "2024-08-29T22:08:10.159064",
     "status": "completed"
    },
    "tags": []
   },
   "outputs": [
    {
     "name": "stdout",
     "output_type": "stream",
     "text": [
      "      onehotencoder__cap-shape_b  onehotencoder__cap-shape_c  \\\n",
      "0                            0.0                         0.0   \n",
      "1                            0.0                         0.0   \n",
      "2                            0.0                         0.0   \n",
      "3                            0.0                         0.0   \n",
      "4                            0.0                         0.0   \n",
      "...                          ...                         ...   \n",
      "4995                         0.0                         0.0   \n",
      "4996                         0.0                         0.0   \n",
      "4997                         0.0                         0.0   \n",
      "4998                         0.0                         0.0   \n",
      "4999                         0.0                         0.0   \n",
      "\n",
      "      onehotencoder__cap-shape_f  onehotencoder__cap-shape_o  \\\n",
      "0                            1.0                         0.0   \n",
      "1                            0.0                         0.0   \n",
      "2                            1.0                         0.0   \n",
      "3                            1.0                         0.0   \n",
      "4                            0.0                         0.0   \n",
      "...                          ...                         ...   \n",
      "4995                         1.0                         0.0   \n",
      "4996                         0.0                         0.0   \n",
      "4997                         0.0                         0.0   \n",
      "4998                         0.0                         0.0   \n",
      "4999                         1.0                         0.0   \n",
      "\n",
      "      onehotencoder__cap-shape_p  onehotencoder__cap-shape_s  \\\n",
      "0                            0.0                         0.0   \n",
      "1                            0.0                         0.0   \n",
      "2                            0.0                         0.0   \n",
      "3                            0.0                         0.0   \n",
      "4                            0.0                         0.0   \n",
      "...                          ...                         ...   \n",
      "4995                         0.0                         0.0   \n",
      "4996                         0.0                         0.0   \n",
      "4997                         0.0                         0.0   \n",
      "4998                         0.0                         0.0   \n",
      "4999                         0.0                         0.0   \n",
      "\n",
      "      onehotencoder__cap-shape_x  onehotencoder__cap-surface_d  \\\n",
      "0                            0.0                           0.0   \n",
      "1                            1.0                           0.0   \n",
      "2                            0.0                           0.0   \n",
      "3                            0.0                           0.0   \n",
      "4                            1.0                           0.0   \n",
      "...                          ...                           ...   \n",
      "4995                         0.0                           1.0   \n",
      "4996                         1.0                           0.0   \n",
      "4997                         1.0                           0.0   \n",
      "4998                         1.0                           0.0   \n",
      "4999                         0.0                           0.0   \n",
      "\n",
      "      onehotencoder__cap-surface_e  onehotencoder__cap-surface_g  ...  \\\n",
      "0                              0.0                           0.0  ...   \n",
      "1                              0.0                           0.0  ...   \n",
      "2                              0.0                           0.0  ...   \n",
      "3                              0.0                           0.0  ...   \n",
      "4                              0.0                           0.0  ...   \n",
      "...                            ...                           ...  ...   \n",
      "4995                           0.0                           0.0  ...   \n",
      "4996                           0.0                           0.0  ...   \n",
      "4997                           0.0                           0.0  ...   \n",
      "4998                           0.0                           0.0  ...   \n",
      "4999                           0.0                           0.0  ...   \n",
      "\n",
      "      onehotencoder__habitat_u  onehotencoder__habitat_w  \\\n",
      "0                          0.0                       0.0   \n",
      "1                          0.0                       0.0   \n",
      "2                          0.0                       0.0   \n",
      "3                          0.0                       0.0   \n",
      "4                          0.0                       0.0   \n",
      "...                        ...                       ...   \n",
      "4995                       0.0                       0.0   \n",
      "4996                       0.0                       0.0   \n",
      "4997                       0.0                       0.0   \n",
      "4998                       0.0                       0.0   \n",
      "4999                       0.0                       0.0   \n",
      "\n",
      "      onehotencoder__habitat_nan  onehotencoder__season_a  \\\n",
      "0                            0.0                      1.0   \n",
      "1                            0.0                      0.0   \n",
      "2                            0.0                      0.0   \n",
      "3                            0.0                      0.0   \n",
      "4                            0.0                      1.0   \n",
      "...                          ...                      ...   \n",
      "4995                         0.0                      0.0   \n",
      "4996                         0.0                      1.0   \n",
      "4997                         0.0                      1.0   \n",
      "4998                         0.0                      0.0   \n",
      "4999                         0.0                      0.0   \n",
      "\n",
      "      onehotencoder__season_s  onehotencoder__season_u  \\\n",
      "0                         0.0                      0.0   \n",
      "1                         0.0                      0.0   \n",
      "2                         0.0                      0.0   \n",
      "3                         0.0                      1.0   \n",
      "4                         0.0                      0.0   \n",
      "...                       ...                      ...   \n",
      "4995                      0.0                      1.0   \n",
      "4996                      0.0                      0.0   \n",
      "4997                      0.0                      0.0   \n",
      "4998                      0.0                      1.0   \n",
      "4999                      0.0                      0.0   \n",
      "\n",
      "      onehotencoder__season_w  cap-diameter  stem-height  stem-width  \n",
      "0                         0.0          8.80         4.51   15.390000  \n",
      "1                         1.0          4.51         4.79    6.480000  \n",
      "2                         1.0          6.94         6.85    9.930000  \n",
      "3                         0.0          3.88         4.16    6.530000  \n",
      "4                         0.0          5.85         3.37    8.360000  \n",
      "...                       ...           ...          ...         ...  \n",
      "4995                      0.0          3.49         4.61    5.470000  \n",
      "4996                      0.0         14.27         9.78   16.879999  \n",
      "4997                      0.0          3.50         8.37    8.270000  \n",
      "4998                      0.0          1.62         5.17    2.490000  \n",
      "4999                      1.0          7.74         5.96   11.470000  \n",
      "\n",
      "[5000 rows x 131 columns]\n",
      "   onehotencoder__cap-shape_b  onehotencoder__cap-shape_c  \\\n",
      "0                         0.0                         0.0   \n",
      "1                         0.0                         0.0   \n",
      "2                         0.0                         0.0   \n",
      "3                         0.0                         0.0   \n",
      "4                         0.0                         0.0   \n",
      "5                         0.0                         0.0   \n",
      "6                         0.0                         0.0   \n",
      "7                         0.0                         0.0   \n",
      "8                         0.0                         0.0   \n",
      "9                         0.0                         0.0   \n",
      "\n",
      "   onehotencoder__cap-shape_f  onehotencoder__cap-shape_o  \\\n",
      "0                         1.0                         0.0   \n",
      "1                         0.0                         0.0   \n",
      "2                         1.0                         0.0   \n",
      "3                         1.0                         0.0   \n",
      "4                         0.0                         0.0   \n",
      "5                         0.0                         0.0   \n",
      "6                         0.0                         0.0   \n",
      "7                         0.0                         0.0   \n",
      "8                         1.0                         0.0   \n",
      "9                         0.0                         0.0   \n",
      "\n",
      "   onehotencoder__cap-shape_p  onehotencoder__cap-shape_s  \\\n",
      "0                         0.0                         0.0   \n",
      "1                         0.0                         0.0   \n",
      "2                         0.0                         0.0   \n",
      "3                         0.0                         0.0   \n",
      "4                         0.0                         0.0   \n",
      "5                         0.0                         0.0   \n",
      "6                         1.0                         0.0   \n",
      "7                         0.0                         0.0   \n",
      "8                         0.0                         0.0   \n",
      "9                         0.0                         0.0   \n",
      "\n",
      "   onehotencoder__cap-shape_x  onehotencoder__cap-surface_d  \\\n",
      "0                         0.0                           0.0   \n",
      "1                         1.0                           0.0   \n",
      "2                         0.0                           0.0   \n",
      "3                         0.0                           0.0   \n",
      "4                         1.0                           0.0   \n",
      "5                         1.0                           0.0   \n",
      "6                         0.0                           0.0   \n",
      "7                         1.0                           0.0   \n",
      "8                         0.0                           0.0   \n",
      "9                         1.0                           0.0   \n",
      "\n",
      "   onehotencoder__cap-surface_e  onehotencoder__cap-surface_g  ...  \\\n",
      "0                           0.0                           0.0  ...   \n",
      "1                           0.0                           0.0  ...   \n",
      "2                           0.0                           0.0  ...   \n",
      "3                           0.0                           0.0  ...   \n",
      "4                           0.0                           0.0  ...   \n",
      "5                           0.0                           0.0  ...   \n",
      "6                           0.0                           0.0  ...   \n",
      "7                           1.0                           0.0  ...   \n",
      "8                           0.0                           0.0  ...   \n",
      "9                           0.0                           0.0  ...   \n",
      "\n",
      "   onehotencoder__habitat_u  onehotencoder__habitat_w  \\\n",
      "0                       0.0                       0.0   \n",
      "1                       0.0                       0.0   \n",
      "2                       0.0                       0.0   \n",
      "3                       0.0                       0.0   \n",
      "4                       0.0                       0.0   \n",
      "5                       0.0                       0.0   \n",
      "6                       0.0                       0.0   \n",
      "7                       0.0                       0.0   \n",
      "8                       0.0                       0.0   \n",
      "9                       0.0                       0.0   \n",
      "\n",
      "   onehotencoder__habitat_nan  onehotencoder__season_a  \\\n",
      "0                         0.0                      1.0   \n",
      "1                         0.0                      0.0   \n",
      "2                         0.0                      0.0   \n",
      "3                         0.0                      0.0   \n",
      "4                         0.0                      1.0   \n",
      "5                         0.0                      1.0   \n",
      "6                         0.0                      0.0   \n",
      "7                         0.0                      1.0   \n",
      "8                         0.0                      1.0   \n",
      "9                         0.0                      1.0   \n",
      "\n",
      "   onehotencoder__season_s  onehotencoder__season_u  onehotencoder__season_w  \\\n",
      "0                      0.0                      0.0                      0.0   \n",
      "1                      0.0                      0.0                      1.0   \n",
      "2                      0.0                      0.0                      1.0   \n",
      "3                      0.0                      1.0                      0.0   \n",
      "4                      0.0                      0.0                      0.0   \n",
      "5                      0.0                      0.0                      0.0   \n",
      "6                      0.0                      0.0                      1.0   \n",
      "7                      0.0                      0.0                      0.0   \n",
      "8                      0.0                      0.0                      0.0   \n",
      "9                      0.0                      0.0                      0.0   \n",
      "\n",
      "   cap-diameter  stem-height  stem-width  \n",
      "0          8.80         4.51   15.390000  \n",
      "1          4.51         4.79    6.480000  \n",
      "2          6.94         6.85    9.930000  \n",
      "3          3.88         4.16    6.530000  \n",
      "4          5.85         3.37    8.360000  \n",
      "5          4.30         5.91    8.200000  \n",
      "6          9.65        19.07   12.690000  \n",
      "7          4.55         8.31    9.770000  \n",
      "8          7.36         5.77   17.129999  \n",
      "9          6.45         7.13   12.770000  \n",
      "\n",
      "[10 rows x 131 columns]\n"
     ]
    }
   ],
   "source": [
    "X=dframe\n",
    "scaler = StandardScaler()\n",
    "print(X)\n",
    "#X=X[numerical_cols]\n",
    "print(X.head(10))"
   ]
  },
  {
   "cell_type": "code",
   "execution_count": 19,
   "id": "e2112901",
   "metadata": {
    "execution": {
     "iopub.execute_input": "2024-08-29T22:08:10.266155Z",
     "iopub.status.busy": "2024-08-29T22:08:10.265719Z",
     "iopub.status.idle": "2024-08-29T22:08:11.907835Z",
     "shell.execute_reply": "2024-08-29T22:08:11.906526Z"
    },
    "papermill": {
     "duration": 1.668041,
     "end_time": "2024-08-29T22:08:11.910527",
     "exception": false,
     "start_time": "2024-08-29T22:08:10.242486",
     "status": "completed"
    },
    "tags": []
   },
   "outputs": [],
   "source": [
    "if not TEST:\n",
    "    X_train, X_test, y_train, y_test = train_test_split(X, y, test_size=0.2, random_state=42)\n",
    "    X_train_scaled = scaler.fit_transform(X_train)\n",
    "    X_test_scaled = scaler.transform(X_test)\n",
    "if TEST:\n",
    "    X_train = X\n",
    "    y_train = y\n",
    "    X_test = testframe\n",
    "    X_train_scaled = scaler.fit_transform(X_train)\n",
    "    X_test_scaled = scaler.transform(X_test)"
   ]
  },
  {
   "cell_type": "code",
   "execution_count": 20,
   "id": "9db39edd",
   "metadata": {
    "execution": {
     "iopub.execute_input": "2024-08-29T22:08:11.953863Z",
     "iopub.status.busy": "2024-08-29T22:08:11.953482Z",
     "iopub.status.idle": "2024-08-29T22:08:11.960432Z",
     "shell.execute_reply": "2024-08-29T22:08:11.958934Z"
    },
    "papermill": {
     "duration": 0.031324,
     "end_time": "2024-08-29T22:08:11.963020",
     "exception": false,
     "start_time": "2024-08-29T22:08:11.931696",
     "status": "completed"
    },
    "tags": []
   },
   "outputs": [],
   "source": [
    "def error_rate(y_true, y_pred):\n",
    "    return 1 - accuracy_score(y_true, y_pred)\n",
    "\n",
    "error_rate_scorer = make_scorer(error_rate)"
   ]
  },
  {
   "cell_type": "code",
   "execution_count": 21,
   "id": "7599fec7",
   "metadata": {
    "execution": {
     "iopub.execute_input": "2024-08-29T22:08:12.009090Z",
     "iopub.status.busy": "2024-08-29T22:08:12.008689Z",
     "iopub.status.idle": "2024-08-29T22:08:12.013905Z",
     "shell.execute_reply": "2024-08-29T22:08:12.012809Z"
    },
    "papermill": {
     "duration": 0.031238,
     "end_time": "2024-08-29T22:08:12.016515",
     "exception": false,
     "start_time": "2024-08-29T22:08:11.985277",
     "status": "completed"
    },
    "tags": []
   },
   "outputs": [],
   "source": [
    "test_preds=dict()"
   ]
  },
  {
   "cell_type": "markdown",
   "id": "85a6fa1c",
   "metadata": {
    "papermill": {
     "duration": 0.021995,
     "end_time": "2024-08-29T22:08:12.060009",
     "exception": false,
     "start_time": "2024-08-29T22:08:12.038014",
     "status": "completed"
    },
    "tags": []
   },
   "source": [
    "# Trying out Yellowbrick"
   ]
  },
  {
   "cell_type": "markdown",
   "id": "24783298",
   "metadata": {
    "papermill": {
     "duration": 0.020804,
     "end_time": "2024-08-29T22:08:12.102571",
     "exception": false,
     "start_time": "2024-08-29T22:08:12.081767",
     "status": "completed"
    },
    "tags": []
   },
   "source": [
    "### Feature Importance"
   ]
  },
  {
   "cell_type": "code",
   "execution_count": null,
   "id": "17f76285",
   "metadata": {
    "execution": {
     "iopub.execute_input": "2024-08-29T22:08:12.145050Z",
     "iopub.status.busy": "2024-08-29T22:08:12.144549Z",
     "iopub.status.idle": "2024-08-29T22:08:12.150442Z",
     "shell.execute_reply": "2024-08-29T22:08:12.149277Z"
    },
    "papermill": {
     "duration": 0.029412,
     "end_time": "2024-08-29T22:08:12.152668",
     "exception": false,
     "start_time": "2024-08-29T22:08:12.123256",
     "status": "completed"
    },
    "tags": []
   },
   "outputs": [],
   "source": [
    "if not TEST:\n",
    "    model = DecisionTreeClassifier()\n",
    "    model.fit(X_train_scaled, y_train)\n",
    "    viz = FeatureImportances(model)\n",
    "    viz.fit(X_train_scaled, y_train)\n",
    "    viz.show()"
   ]
  },
  {
   "cell_type": "markdown",
   "id": "d390927b",
   "metadata": {
    "papermill": {
     "duration": 0.022893,
     "end_time": "2024-08-29T22:08:12.195801",
     "exception": false,
     "start_time": "2024-08-29T22:08:12.172908",
     "status": "completed"
    },
    "tags": []
   },
   "source": [
    "### Learning Curve"
   ]
  },
  {
   "cell_type": "code",
   "execution_count": null,
   "id": "bc5ce0b1",
   "metadata": {
    "execution": {
     "iopub.execute_input": "2024-08-29T22:08:12.242894Z",
     "iopub.status.busy": "2024-08-29T22:08:12.242464Z",
     "iopub.status.idle": "2024-08-29T22:08:12.247852Z",
     "shell.execute_reply": "2024-08-29T22:08:12.246745Z"
    },
    "papermill": {
     "duration": 0.029613,
     "end_time": "2024-08-29T22:08:12.250250",
     "exception": false,
     "start_time": "2024-08-29T22:08:12.220637",
     "status": "completed"
    },
    "tags": []
   },
   "outputs": [],
   "source": [
    "if not TEST:\n",
    "    model = DecisionTreeClassifier()\n",
    "    viz = LearningCurve(model)\n",
    "    viz.fit(X_train_scaled, y_train)\n",
    "    viz.show()"
   ]
  },
  {
   "cell_type": "markdown",
   "id": "dd662377",
   "metadata": {
    "papermill": {
     "duration": 0.021858,
     "end_time": "2024-08-29T22:08:12.293656",
     "exception": false,
     "start_time": "2024-08-29T22:08:12.271798",
     "status": "completed"
    },
    "tags": []
   },
   "source": [
    "# Decision Trees"
   ]
  },
  {
   "cell_type": "code",
   "execution_count": 24,
   "id": "42c24708",
   "metadata": {
    "execution": {
     "iopub.execute_input": "2024-08-29T22:08:12.337562Z",
     "iopub.status.busy": "2024-08-29T22:08:12.337144Z",
     "iopub.status.idle": "2024-08-29T22:08:13.226891Z",
     "shell.execute_reply": "2024-08-29T22:08:13.225652Z"
    },
    "papermill": {
     "duration": 0.914118,
     "end_time": "2024-08-29T22:08:13.229588",
     "exception": false,
     "start_time": "2024-08-29T22:08:12.315470",
     "status": "completed"
    },
    "tags": []
   },
   "outputs": [],
   "source": [
    "dt = DecisionTreeClassifier(random_state=42, ccp_alpha=0.01)\n",
    "dt.fit(X_train, y_train)\n",
    "dt_pred = dt.predict(X_test)\n",
    "test_preds.update({\"dt\":dt_pred})\n",
    "if not TEST:\n",
    "    print(\"Decision Tree Accuracy:\", accuracy_score(y_test, dt_pred))"
   ]
  },
  {
   "cell_type": "code",
   "execution_count": 25,
   "id": "2195dc41",
   "metadata": {
    "execution": {
     "iopub.execute_input": "2024-08-29T22:08:13.272099Z",
     "iopub.status.busy": "2024-08-29T22:08:13.271688Z",
     "iopub.status.idle": "2024-08-29T22:08:13.278278Z",
     "shell.execute_reply": "2024-08-29T22:08:13.276966Z"
    },
    "papermill": {
     "duration": 0.030794,
     "end_time": "2024-08-29T22:08:13.280749",
     "exception": false,
     "start_time": "2024-08-29T22:08:13.249955",
     "status": "completed"
    },
    "tags": []
   },
   "outputs": [],
   "source": [
    "if not TEST:\n",
    "    dt=DecisionTreeClassifier(random_state=42, ccp_alpha=0.01)\n",
    "    train_sizes, train_scores, test_scores = learning_curve(dt, X_train, y_train, cv=5, scoring=error_rate_scorer)\n",
    "    display = LearningCurveDisplay(\n",
    "        train_sizes=train_sizes,\n",
    "        train_scores=train_scores, \n",
    "        test_scores=test_scores, \n",
    "        score_name=\"Loss\"\n",
    "    )\n",
    "    display.plot()\n",
    "    plt.show()"
   ]
  },
  {
   "cell_type": "markdown",
   "id": "b6e84dd2",
   "metadata": {
    "papermill": {
     "duration": 0.020184,
     "end_time": "2024-08-29T22:08:13.323966",
     "exception": false,
     "start_time": "2024-08-29T22:08:13.303782",
     "status": "completed"
    },
    "tags": []
   },
   "source": [
    "## Yellowbrick - Learning Curve"
   ]
  },
  {
   "cell_type": "code",
   "execution_count": 26,
   "id": "c45b3e99",
   "metadata": {
    "execution": {
     "iopub.execute_input": "2024-08-29T22:08:13.370598Z",
     "iopub.status.busy": "2024-08-29T22:08:13.369747Z",
     "iopub.status.idle": "2024-08-29T22:08:13.376004Z",
     "shell.execute_reply": "2024-08-29T22:08:13.374718Z"
    },
    "papermill": {
     "duration": 0.033415,
     "end_time": "2024-08-29T22:08:13.378407",
     "exception": false,
     "start_time": "2024-08-29T22:08:13.344992",
     "status": "completed"
    },
    "tags": []
   },
   "outputs": [],
   "source": [
    "if not TEST:\n",
    "    model = DecisionTreeClassifier()\n",
    "    viz = LearningCurve(model)\n",
    "    viz.fit(X_train_scaled, y_train)\n",
    "    viz.show()"
   ]
  },
  {
   "cell_type": "markdown",
   "id": "9efba04d",
   "metadata": {
    "papermill": {
     "duration": 0.019966,
     "end_time": "2024-08-29T22:08:13.419579",
     "exception": false,
     "start_time": "2024-08-29T22:08:13.399613",
     "status": "completed"
    },
    "tags": []
   },
   "source": [
    "# Gradient Boosting"
   ]
  },
  {
   "cell_type": "code",
   "execution_count": 27,
   "id": "fa80ba1c",
   "metadata": {
    "execution": {
     "iopub.execute_input": "2024-08-29T22:08:13.462467Z",
     "iopub.status.busy": "2024-08-29T22:08:13.462044Z",
     "iopub.status.idle": "2024-08-29T22:08:24.011361Z",
     "shell.execute_reply": "2024-08-29T22:08:24.009967Z"
    },
    "papermill": {
     "duration": 10.57336,
     "end_time": "2024-08-29T22:08:24.014036",
     "exception": false,
     "start_time": "2024-08-29T22:08:13.440676",
     "status": "completed"
    },
    "tags": []
   },
   "outputs": [
    {
     "name": "stderr",
     "output_type": "stream",
     "text": [
      "/opt/conda/lib/python3.10/site-packages/sklearn/base.py:486: UserWarning: X has feature names, but GradientBoostingClassifier was fitted without feature names\n",
      "  warnings.warn(\n"
     ]
    }
   ],
   "source": [
    "gb = GradientBoostingClassifier(n_estimators=100, learning_rate=0.1, max_depth=3, random_state=42)\n",
    "gb.fit(X_train_scaled, y_train)\n",
    "gb_pred = gb.predict(X_test)\n",
    "test_preds.update({\"gb\":gb_pred})\n",
    "if not TEST:\n",
    "    print(\"Gradient Boosting Accuracy:\", accuracy_score(y_test, gb_pred))"
   ]
  },
  {
   "cell_type": "code",
   "execution_count": 28,
   "id": "397c9607",
   "metadata": {
    "execution": {
     "iopub.execute_input": "2024-08-29T22:08:24.055592Z",
     "iopub.status.busy": "2024-08-29T22:08:24.055121Z",
     "iopub.status.idle": "2024-08-29T22:08:24.061992Z",
     "shell.execute_reply": "2024-08-29T22:08:24.060691Z"
    },
    "papermill": {
     "duration": 0.030406,
     "end_time": "2024-08-29T22:08:24.064431",
     "exception": false,
     "start_time": "2024-08-29T22:08:24.034025",
     "status": "completed"
    },
    "tags": []
   },
   "outputs": [],
   "source": [
    "if not TEST:\n",
    "    gb = GradientBoostingClassifier(n_estimators=100, learning_rate=0.1, max_depth=5, random_state=42)\n",
    "    train_sizes, train_scores, test_scores = learning_curve(gb, X_train_scaled, y_train, cv=5, scoring=error_rate_scorer)\n",
    "    display = LearningCurveDisplay(\n",
    "        train_sizes=train_sizes,\n",
    "        train_scores=train_scores, \n",
    "        test_scores=test_scores, \n",
    "        score_name=\"Loss\"\n",
    "    )\n",
    "    display.plot()\n",
    "    plt.show()"
   ]
  },
  {
   "cell_type": "markdown",
   "id": "2df6b818",
   "metadata": {
    "papermill": {
     "duration": 0.01985,
     "end_time": "2024-08-29T22:08:24.104845",
     "exception": false,
     "start_time": "2024-08-29T22:08:24.084995",
     "status": "completed"
    },
    "tags": []
   },
   "source": [
    "## Yellowbrick- Learning Curve"
   ]
  },
  {
   "cell_type": "code",
   "execution_count": 29,
   "id": "1fea5553",
   "metadata": {
    "execution": {
     "iopub.execute_input": "2024-08-29T22:08:24.149041Z",
     "iopub.status.busy": "2024-08-29T22:08:24.148617Z",
     "iopub.status.idle": "2024-08-29T22:08:24.154387Z",
     "shell.execute_reply": "2024-08-29T22:08:24.153281Z"
    },
    "papermill": {
     "duration": 0.030934,
     "end_time": "2024-08-29T22:08:24.156932",
     "exception": false,
     "start_time": "2024-08-29T22:08:24.125998",
     "status": "completed"
    },
    "tags": []
   },
   "outputs": [],
   "source": [
    "#TODO\n",
    "if not TEST:\n",
    "    model = GradientBoostingClassifier(n_estimators=100, learning_rate=0.1, max_depth=7, random_state=42)\n",
    "    viz = LearningCurve(model)\n",
    "    viz.fit(X_train_scaled, y_train)\n",
    "    viz.show()"
   ]
  },
  {
   "cell_type": "markdown",
   "id": "0bc6d390",
   "metadata": {
    "papermill": {
     "duration": 0.019771,
     "end_time": "2024-08-29T22:08:24.197129",
     "exception": false,
     "start_time": "2024-08-29T22:08:24.177358",
     "status": "completed"
    },
    "tags": []
   },
   "source": [
    "### Yellowbrick - Validation Curve"
   ]
  },
  {
   "cell_type": "code",
   "execution_count": 30,
   "id": "1386fd48",
   "metadata": {
    "execution": {
     "iopub.execute_input": "2024-08-29T22:08:24.239451Z",
     "iopub.status.busy": "2024-08-29T22:08:24.238257Z",
     "iopub.status.idle": "2024-08-29T22:08:24.244918Z",
     "shell.execute_reply": "2024-08-29T22:08:24.243744Z"
    },
    "papermill": {
     "duration": 0.030282,
     "end_time": "2024-08-29T22:08:24.247461",
     "exception": false,
     "start_time": "2024-08-29T22:08:24.217179",
     "status": "completed"
    },
    "tags": []
   },
   "outputs": [],
   "source": [
    "if not TEST:\n",
    "    model = GradientBoostingClassifier( learning_rate=0.1, max_depth=5, random_state=42)\n",
    "    viz = ValidationCurve(model, param_name=\"n_estimators\", param_range=np.arange(100,200,step=10))\n",
    "    viz.fit(X_train_scaled, y_train)\n",
    "    viz.show()"
   ]
  },
  {
   "cell_type": "markdown",
   "id": "f9727b12",
   "metadata": {
    "papermill": {
     "duration": 0.021322,
     "end_time": "2024-08-29T22:08:24.289497",
     "exception": false,
     "start_time": "2024-08-29T22:08:24.268175",
     "status": "completed"
    },
    "tags": []
   },
   "source": [
    "### Yellowbrick- Validation Curve"
   ]
  },
  {
   "cell_type": "code",
   "execution_count": 31,
   "id": "efe6c581",
   "metadata": {
    "execution": {
     "iopub.execute_input": "2024-08-29T22:08:24.334581Z",
     "iopub.status.busy": "2024-08-29T22:08:24.334219Z",
     "iopub.status.idle": "2024-08-29T22:08:24.341627Z",
     "shell.execute_reply": "2024-08-29T22:08:24.339295Z"
    },
    "papermill": {
     "duration": 0.032209,
     "end_time": "2024-08-29T22:08:24.344346",
     "exception": false,
     "start_time": "2024-08-29T22:08:24.312137",
     "status": "completed"
    },
    "tags": []
   },
   "outputs": [],
   "source": [
    "if not TEST:\n",
    "    model = GradientBoostingClassifier( n_estimators=100,learning_rate=0.1, random_state=42)\n",
    "    viz = ValidationCurve(model, param_name=\"max_depth\", param_range=np.arange(2,11))\n",
    "    viz.fit(X_train_scaled, y_train)\n",
    "    viz.show()"
   ]
  },
  {
   "cell_type": "markdown",
   "id": "0826274a",
   "metadata": {
    "papermill": {
     "duration": 0.02019,
     "end_time": "2024-08-29T22:08:24.385220",
     "exception": false,
     "start_time": "2024-08-29T22:08:24.365030",
     "status": "completed"
    },
    "tags": []
   },
   "source": [
    "# Support Vector Machines"
   ]
  },
  {
   "cell_type": "markdown",
   "id": "e28c835d",
   "metadata": {
    "papermill": {
     "duration": 0.019953,
     "end_time": "2024-08-29T22:08:24.424930",
     "exception": false,
     "start_time": "2024-08-29T22:08:24.404977",
     "status": "completed"
    },
    "tags": []
   },
   "source": [
    "## RBF Kernel"
   ]
  },
  {
   "cell_type": "code",
   "execution_count": 32,
   "id": "04d0baf2",
   "metadata": {
    "execution": {
     "iopub.execute_input": "2024-08-29T22:08:24.466210Z",
     "iopub.status.busy": "2024-08-29T22:08:24.465785Z",
     "iopub.status.idle": "2024-08-29T22:18:49.085375Z",
     "shell.execute_reply": "2024-08-29T22:18:49.083888Z"
    },
    "papermill": {
     "duration": 624.643988,
     "end_time": "2024-08-29T22:18:49.088570",
     "exception": false,
     "start_time": "2024-08-29T22:08:24.444582",
     "status": "completed"
    },
    "tags": []
   },
   "outputs": [],
   "source": [
    "svm_rbf = SVC(kernel='rbf', random_state=42)\n",
    "svm_rbf.fit(X_train_scaled, y_train)\n",
    "svm_rbf_pred = svm_rbf.predict(X_test_scaled)\n",
    "test_preds.update({\"svm_rbf\":svm_rbf_pred})\n",
    "if not TEST:\n",
    "    print(\"SVM (RBF Kernel) Accuracy:\", accuracy_score(y_test, svm_rbf_pred))"
   ]
  },
  {
   "cell_type": "code",
   "execution_count": 33,
   "id": "b029c851",
   "metadata": {
    "execution": {
     "iopub.execute_input": "2024-08-29T22:18:49.131212Z",
     "iopub.status.busy": "2024-08-29T22:18:49.130664Z",
     "iopub.status.idle": "2024-08-29T22:18:49.137343Z",
     "shell.execute_reply": "2024-08-29T22:18:49.136114Z"
    },
    "papermill": {
     "duration": 0.030976,
     "end_time": "2024-08-29T22:18:49.139676",
     "exception": false,
     "start_time": "2024-08-29T22:18:49.108700",
     "status": "completed"
    },
    "tags": []
   },
   "outputs": [],
   "source": [
    "if not TEST:\n",
    "    svc=SVC(kernel='rbf', random_state=42)\n",
    "    train_sizes, train_scores, test_scores = learning_curve(svc, X_train_scaled, y_train, cv=5, scoring=error_rate_scorer)\n",
    "    display = LearningCurveDisplay(\n",
    "        train_sizes=train_sizes,\n",
    "        train_scores=train_scores, \n",
    "        test_scores=test_scores, \n",
    "        score_name=\"Loss\"\n",
    "    )\n",
    "    display.plot()\n",
    "    plt.show()"
   ]
  },
  {
   "cell_type": "markdown",
   "id": "35cdadb2",
   "metadata": {
    "papermill": {
     "duration": 0.019783,
     "end_time": "2024-08-29T22:18:49.180086",
     "exception": false,
     "start_time": "2024-08-29T22:18:49.160303",
     "status": "completed"
    },
    "tags": []
   },
   "source": [
    "### Yellowbrick - Learning Curve"
   ]
  },
  {
   "cell_type": "code",
   "execution_count": 34,
   "id": "2a2f4355",
   "metadata": {
    "execution": {
     "iopub.execute_input": "2024-08-29T22:18:49.222399Z",
     "iopub.status.busy": "2024-08-29T22:18:49.221993Z",
     "iopub.status.idle": "2024-08-29T22:18:49.227473Z",
     "shell.execute_reply": "2024-08-29T22:18:49.226228Z"
    },
    "papermill": {
     "duration": 0.029408,
     "end_time": "2024-08-29T22:18:49.229922",
     "exception": false,
     "start_time": "2024-08-29T22:18:49.200514",
     "status": "completed"
    },
    "tags": []
   },
   "outputs": [],
   "source": [
    "if not TEST:\n",
    "    model = SVC(kernel='rbf', random_state=42)\n",
    "    viz = LearningCurve(model)\n",
    "    viz.fit(X_train_scaled, y_train)\n",
    "    viz.show()"
   ]
  },
  {
   "cell_type": "markdown",
   "id": "6b921ff9",
   "metadata": {
    "papermill": {
     "duration": 0.020638,
     "end_time": "2024-08-29T22:18:49.270670",
     "exception": false,
     "start_time": "2024-08-29T22:18:49.250032",
     "status": "completed"
    },
    "tags": []
   },
   "source": [
    "## Poly Kernel"
   ]
  },
  {
   "cell_type": "code",
   "execution_count": 35,
   "id": "eb8a8576",
   "metadata": {
    "execution": {
     "iopub.execute_input": "2024-08-29T22:18:49.312166Z",
     "iopub.status.busy": "2024-08-29T22:18:49.311764Z",
     "iopub.status.idle": "2024-08-29T22:22:55.086288Z",
     "shell.execute_reply": "2024-08-29T22:22:55.084625Z"
    },
    "papermill": {
     "duration": 245.801191,
     "end_time": "2024-08-29T22:22:55.091762",
     "exception": false,
     "start_time": "2024-08-29T22:18:49.290571",
     "status": "completed"
    },
    "tags": []
   },
   "outputs": [],
   "source": [
    "svm_poly = SVC(kernel='poly', random_state=42)\n",
    "svm_poly.fit(X_train_scaled, y_train)\n",
    "svm_poly_pred = svm_poly.predict(X_test_scaled)\n",
    "test_preds.update({\"svm_poly\":svm_poly_pred})\n",
    "if not TEST:\n",
    "    print(\"SVM (Poly Kernel) Accuracy:\", accuracy_score(y_test, svm_poly_pred))"
   ]
  },
  {
   "cell_type": "code",
   "execution_count": 36,
   "id": "a0eb0bca",
   "metadata": {
    "execution": {
     "iopub.execute_input": "2024-08-29T22:22:55.136675Z",
     "iopub.status.busy": "2024-08-29T22:22:55.136275Z",
     "iopub.status.idle": "2024-08-29T22:22:55.143208Z",
     "shell.execute_reply": "2024-08-29T22:22:55.141978Z"
    },
    "papermill": {
     "duration": 0.031584,
     "end_time": "2024-08-29T22:22:55.145808",
     "exception": false,
     "start_time": "2024-08-29T22:22:55.114224",
     "status": "completed"
    },
    "tags": []
   },
   "outputs": [],
   "source": [
    "if not TEST:\n",
    "    svm_poly = SVC(kernel='poly', random_state=42)\n",
    "    train_sizes, train_scores, test_scores = learning_curve(svm_poly, X_train_scaled, y_train, cv=5, scoring=error_rate_scorer)\n",
    "    display = LearningCurveDisplay(\n",
    "        train_sizes=train_sizes,\n",
    "        train_scores=train_scores, \n",
    "        test_scores=test_scores, \n",
    "        score_name=\"Loss\"\n",
    "    )\n",
    "    display.plot()\n",
    "    plt.show()"
   ]
  },
  {
   "cell_type": "markdown",
   "id": "cbbf4bba",
   "metadata": {
    "papermill": {
     "duration": 0.02318,
     "end_time": "2024-08-29T22:22:55.189699",
     "exception": false,
     "start_time": "2024-08-29T22:22:55.166519",
     "status": "completed"
    },
    "tags": []
   },
   "source": [
    "### Yellowbrick - Learning Curve"
   ]
  },
  {
   "cell_type": "code",
   "execution_count": 37,
   "id": "8bbf49b6",
   "metadata": {
    "execution": {
     "iopub.execute_input": "2024-08-29T22:22:55.233764Z",
     "iopub.status.busy": "2024-08-29T22:22:55.233340Z",
     "iopub.status.idle": "2024-08-29T22:22:55.239158Z",
     "shell.execute_reply": "2024-08-29T22:22:55.237956Z"
    },
    "papermill": {
     "duration": 0.030992,
     "end_time": "2024-08-29T22:22:55.241826",
     "exception": false,
     "start_time": "2024-08-29T22:22:55.210834",
     "status": "completed"
    },
    "tags": []
   },
   "outputs": [],
   "source": [
    "if not TEST:\n",
    "    model = SVC(kernel='poly', random_state=42)\n",
    "    viz = LearningCurve(model)\n",
    "    viz.fit(X_train_scaled, y_train)\n",
    "    viz.show()"
   ]
  },
  {
   "cell_type": "markdown",
   "id": "52704050",
   "metadata": {
    "papermill": {
     "duration": 0.02004,
     "end_time": "2024-08-29T22:22:55.282754",
     "exception": false,
     "start_time": "2024-08-29T22:22:55.262714",
     "status": "completed"
    },
    "tags": []
   },
   "source": [
    "# kNN"
   ]
  },
  {
   "cell_type": "markdown",
   "id": "0ef8c366",
   "metadata": {
    "papermill": {
     "duration": 0.019715,
     "end_time": "2024-08-29T22:22:55.323501",
     "exception": false,
     "start_time": "2024-08-29T22:22:55.303786",
     "status": "completed"
    },
    "tags": []
   },
   "source": [
    "# Learning Curve"
   ]
  },
  {
   "cell_type": "code",
   "execution_count": 38,
   "id": "0c5af747",
   "metadata": {
    "execution": {
     "iopub.execute_input": "2024-08-29T22:22:55.366684Z",
     "iopub.status.busy": "2024-08-29T22:22:55.366273Z",
     "iopub.status.idle": "2024-08-29T22:22:55.372939Z",
     "shell.execute_reply": "2024-08-29T22:22:55.371355Z"
    },
    "papermill": {
     "duration": 0.031519,
     "end_time": "2024-08-29T22:22:55.375460",
     "exception": false,
     "start_time": "2024-08-29T22:22:55.343941",
     "status": "completed"
    },
    "tags": []
   },
   "outputs": [],
   "source": [
    "if not TEST:\n",
    "    # Instantiate the clustering model and visualizer\n",
    "    model = KNeighborsClassifier()\n",
    "    visualizer = LearningCurve(model, random_state=42)\n",
    "    visualizer.fit(X_train_scaled, y_train)        # Fit the data to the visualizer\n",
    "    visualizer.show()           # Finalize and render the figure"
   ]
  },
  {
   "cell_type": "markdown",
   "id": "9047cc25",
   "metadata": {
    "papermill": {
     "duration": 0.022717,
     "end_time": "2024-08-29T22:22:55.419645",
     "exception": false,
     "start_time": "2024-08-29T22:22:55.396928",
     "status": "completed"
    },
    "tags": []
   },
   "source": [
    "## Validation Curve"
   ]
  },
  {
   "cell_type": "code",
   "execution_count": 39,
   "id": "97e3815a",
   "metadata": {
    "execution": {
     "iopub.execute_input": "2024-08-29T22:22:55.463993Z",
     "iopub.status.busy": "2024-08-29T22:22:55.462680Z",
     "iopub.status.idle": "2024-08-29T22:22:55.469534Z",
     "shell.execute_reply": "2024-08-29T22:22:55.468385Z"
    },
    "papermill": {
     "duration": 0.031196,
     "end_time": "2024-08-29T22:22:55.472261",
     "exception": false,
     "start_time": "2024-08-29T22:22:55.441065",
     "status": "completed"
    },
    "tags": []
   },
   "outputs": [],
   "source": [
    "if not TEST:\n",
    "    model = KNeighborsClassifier()\n",
    "    viz = ValidationCurve(model, param_name=\"n_neighbors\", param_range=np.arange(2,22))\n",
    "    viz.fit(X_train_scaled, y_train)\n",
    "    viz.show()"
   ]
  },
  {
   "cell_type": "markdown",
   "id": "971efbc0",
   "metadata": {
    "papermill": {
     "duration": 0.019964,
     "end_time": "2024-08-29T22:22:55.513047",
     "exception": false,
     "start_time": "2024-08-29T22:22:55.493083",
     "status": "completed"
    },
    "tags": []
   },
   "source": [
    "# Neural Networks"
   ]
  },
  {
   "cell_type": "markdown",
   "id": "b896fad5",
   "metadata": {
    "papermill": {
     "duration": 0.019838,
     "end_time": "2024-08-29T22:22:55.554106",
     "exception": false,
     "start_time": "2024-08-29T22:22:55.534268",
     "status": "completed"
    },
    "tags": []
   },
   "source": [
    "## MLP Classifier- Learning Curve"
   ]
  },
  {
   "cell_type": "code",
   "execution_count": null,
   "id": "14095df4",
   "metadata": {
    "execution": {
     "iopub.execute_input": "2024-08-29T22:22:55.600420Z",
     "iopub.status.busy": "2024-08-29T22:22:55.599970Z",
     "iopub.status.idle": "2024-08-29T22:24:03.406461Z",
     "shell.execute_reply": "2024-08-29T22:24:03.404161Z"
    },
    "papermill": {
     "duration": 67.8633,
     "end_time": "2024-08-29T22:24:03.438151",
     "exception": false,
     "start_time": "2024-08-29T22:22:55.574851",
     "status": "completed"
    },
    "tags": []
   },
   "outputs": [
    {
     "data": {
      "image/png": "[encoded data removed]",
      "text/plain": [
       "<Figure size 800x550 with 1 Axes>"
      ]
     },
     "metadata": {},
     "output_type": "display_data"
    },
    {
     "data": {
      "text/plain": [
       "<Axes: title={'center': 'Learning Curve for MLPClassifier'}, xlabel='Training Instances', ylabel='Score'>"
      ]
     },
     "execution_count": 40,
     "metadata": {},
     "output_type": "execute_result"
    }
   ],
   "source": [
    "# Make classifier and visualizer curve obj\n",
    "model = MLPClassifier(max_iter=1000,alpha=1e-5,\n",
    "                    hidden_layer_sizes=(5, 2), random_state=1)\n",
    "model.fit(X_train_scaled, y_train)\n",
    "viz = LearningCurve(model)\n",
    "viz.fit(X_train_scaled, y_train)\n",
    "viz.show()"
   ]
  },
  {
   "cell_type": "markdown",
   "id": "46d11d2b",
   "metadata": {
    "papermill": {
     "duration": 0.022933,
     "end_time": "2024-08-29T22:24:03.482915",
     "exception": false,
     "start_time": "2024-08-29T22:24:03.459982",
     "status": "completed"
    },
    "tags": []
   },
   "source": [
    "## MLP Classifier- Validation Curve"
   ]
  },
  {
   "cell_type": "code",
   "execution_count": 41,
   "id": "f27a5b86",
   "metadata": {
    "execution": {
     "iopub.execute_input": "2024-08-29T22:24:03.533183Z",
     "iopub.status.busy": "2024-08-29T22:24:03.532216Z",
     "iopub.status.idle": "2024-08-29T22:24:03.539287Z",
     "shell.execute_reply": "2024-08-29T22:24:03.538124Z"
    },
    "papermill": {
     "duration": 0.037397,
     "end_time": "2024-08-29T22:24:03.542384",
     "exception": false,
     "start_time": "2024-08-29T22:24:03.504987",
     "status": "completed"
    },
    "tags": []
   },
   "outputs": [],
   "source": [
    "if not TEST:\n",
    "    #model = MLPClassifier(max_iter=1000)\n",
    "    viz = ValidationCurve(model, param_name=\"alpha\", param_range=np.linspace(1e-5,1e-4,num=10))\n",
    "    viz.fit(X_train_scaled, y_train)\n",
    "    viz.show()"
   ]
  },
  {
   "cell_type": "markdown",
   "id": "f12de651",
   "metadata": {
    "papermill": {
     "duration": 0.021427,
     "end_time": "2024-08-29T22:24:03.585680",
     "exception": false,
     "start_time": "2024-08-29T22:24:03.564253",
     "status": "completed"
    },
    "tags": []
   },
   "source": [
    "## MLP Classifier - Val Curve"
   ]
  },
  {
   "cell_type": "code",
   "execution_count": 42,
   "id": "8fa10948",
   "metadata": {
    "execution": {
     "iopub.execute_input": "2024-08-29T22:24:03.631973Z",
     "iopub.status.busy": "2024-08-29T22:24:03.631421Z",
     "iopub.status.idle": "2024-08-29T22:24:03.637562Z",
     "shell.execute_reply": "2024-08-29T22:24:03.636287Z"
    },
    "papermill": {
     "duration": 0.032068,
     "end_time": "2024-08-29T22:24:03.640182",
     "exception": false,
     "start_time": "2024-08-29T22:24:03.608114",
     "status": "completed"
    },
    "tags": []
   },
   "outputs": [],
   "source": [
    "if not TEST:\n",
    "    #model = MLPClassifier(alpha=1e-5)\n",
    "    viz = ValidationCurve(model, param_name=\"max_iter\", param_range=np.arange(200,1000,step=100))\n",
    "    viz.fit(X_train_scaled, y_train)\n",
    "    viz.show()"
   ]
  },
  {
   "cell_type": "code",
   "execution_count": 43,
   "id": "0126b280",
   "metadata": {
    "execution": {
     "iopub.execute_input": "2024-08-29T22:24:03.687294Z",
     "iopub.status.busy": "2024-08-29T22:24:03.686844Z",
     "iopub.status.idle": "2024-08-29T22:24:04.784981Z",
     "shell.execute_reply": "2024-08-29T22:24:04.783552Z"
    },
    "papermill": {
     "duration": 1.128071,
     "end_time": "2024-08-29T22:24:04.790461",
     "exception": false,
     "start_time": "2024-08-29T22:24:03.662390",
     "status": "completed"
    },
    "tags": []
   },
   "outputs": [],
   "source": [
    "mlp_preds = model.predict(X_test_scaled)\n",
    "test_preds.update({\"mlp\": mlp_preds})"
   ]
  },
  {
   "cell_type": "markdown",
   "id": "6b350b01",
   "metadata": {
    "papermill": {
     "duration": 0.028913,
     "end_time": "2024-08-29T22:24:04.865120",
     "exception": false,
     "start_time": "2024-08-29T22:24:04.836207",
     "status": "completed"
    },
    "tags": []
   },
   "source": [
    "# BOILERPLATE 2 \n"
   ]
  },
  {
   "cell_type": "code",
   "execution_count": 44,
   "id": "bf188d83",
   "metadata": {
    "execution": {
     "iopub.execute_input": "2024-08-29T22:24:04.915702Z",
     "iopub.status.busy": "2024-08-29T22:24:04.915273Z",
     "iopub.status.idle": "2024-08-29T22:24:04.945584Z",
     "shell.execute_reply": "2024-08-29T22:24:04.944300Z"
    },
    "papermill": {
     "duration": 0.059613,
     "end_time": "2024-08-29T22:24:04.948515",
     "exception": false,
     "start_time": "2024-08-29T22:24:04.888902",
     "status": "completed"
    },
    "tags": []
   },
   "outputs": [],
   "source": [
    "def SelBest(arr:list, X:int)->list:\n",
    "    '''\n",
    "    returns the set of X configurations with shorter distance\n",
    "    '''\n",
    "    dx=np.argsort(arr)[:X]\n",
    "    return arr[dx]\n",
    "\n",
    "def load_data(ds):\n",
    "    df = pd.read_csv(\"data/\" + ds)\n",
    "    X, y = df.iloc[:, :-1], df.iloc[:, -1]\n",
    "    X, y = X.to_numpy(), y.to_numpy()\n",
    "    return X, y\n",
    "\n",
    "def load_data_df(ds):\n",
    "    df = pd.read_csv(\"data/\" + ds)\n",
    "    X, y = df.iloc[:, :-1], df.iloc[:, -1]\n",
    "    # X, y = X.to_numpy(), y.to_numpy()\n",
    "    return X, y\n",
    "    \n",
    "def gmm_js(gmm_p, gmm_q, n_samples=10**5):\n",
    "    # https://towardsdatascience.com/gaussian-mixture-model-clusterization-how-to-select-the-number-of-components-clusters-553bef45f6e4\n",
    "    \n",
    "    X = gmm_p.sample(n_samples)[0]\n",
    "    log_p_X = gmm_p.score_samples(X)\n",
    "    log_q_X = gmm_q.score_samples(X)\n",
    "    log_mix_X = np.logaddexp(log_p_X, log_q_X)\n",
    "\n",
    "    Y = gmm_q.sample(n_samples)[0]\n",
    "    log_p_Y = gmm_p.score_samples(Y)\n",
    "    log_q_Y = gmm_q.score_samples(Y)\n",
    "    log_mix_Y = np.logaddexp(log_p_Y, log_q_Y)\n",
    "\n",
    "    return np.sqrt((log_p_X.mean() - (log_mix_X.mean() - np.log(2))\n",
    "            + log_q_Y.mean() - (log_mix_Y.mean() - np.log(2))) / 2)\n",
    "\n",
    "def generate_kmeans_SV_ICD_plots(X, k):\n",
    "    plot_nums = len(k)\n",
    "    fig, axes = plt.subplots(plot_nums, 2, figsize=[25, 40])\n",
    "    col_ = 0\n",
    "    for i in k:\n",
    "        kmeans = KMeans(n_clusters=i, algorithm=\"full\")\n",
    "        visualizer = SilhouetteVisualizer(kmeans, colors='yellowbrick', ax=axes[col_][0])\n",
    "        visualizer.fit(X)\n",
    "        visualizer.finalize()\n",
    "        \n",
    "        kmeans = KMeans(n_clusters=i, algorithm=\"full\")\n",
    "        visualizer = InterclusterDistance(kmeans, ax=axes[col_][1])\n",
    "        visualizer.fit(X)\n",
    "        visualizer.finalize()\n",
    "        \n",
    "        col_+=1\n",
    "    plt.show()\n",
    "    \n",
    "def generate_silhoutte_score_plot(X, k, model):\n",
    "    n_clusters=np.arange(2, k)\n",
    "    sils=[]\n",
    "    sils_err=[]\n",
    "    iterations=k\n",
    "    for n in n_clusters:\n",
    "        tmp_sil=[]\n",
    "        for _ in range(iterations):\n",
    "            clf=model(n).fit(X) \n",
    "            labels=clf.predict(X)\n",
    "            sil=metrics.silhouette_score(X, labels, metric='euclidean')\n",
    "            tmp_sil.append(sil)\n",
    "        val=np.mean(SelBest(np.array(tmp_sil), int(iterations/5)))\n",
    "        err=np.std(tmp_sil)\n",
    "        sils.append(val)\n",
    "        sils_err.append(err)\n",
    "    plt.errorbar(n_clusters, sils, yerr=sils_err)\n",
    "    plt.title(\"Silhouette Scores\", fontsize=20)\n",
    "    plt.xticks(n_clusters)\n",
    "    plt.xlabel(\"N. of clusters ({})\".format(\"Test\"))\n",
    "    plt.ylabel(\"Score\")\n",
    "\n",
    "def generate_distance_bw_gmms_plots(X, n):\n",
    "    # https://towardsdatascience.com/gaussian-mixture-model-clusterization-how-to-select-the-number-of-components-clusters-553bef45f6e4\n",
    "    \n",
    "    n_clusters=np.arange(2, n)\n",
    "    iterations=n\n",
    "    results=[]\n",
    "    res_sigs=[]\n",
    "    for n in n_clusters:\n",
    "        dist=[]\n",
    "\n",
    "        for iteration in range(iterations):\n",
    "            train, test=train_test_split(X, test_size=0.5)\n",
    "\n",
    "            gmm_train=GaussianMixture(n, n_init=2).fit(train) \n",
    "            gmm_test=GaussianMixture(n, n_init=2).fit(test) \n",
    "            dist.append(gmm_js(gmm_train, gmm_test))\n",
    "        selec=SelBest(np.array(dist), int(iterations/5))\n",
    "        result=np.mean(selec)\n",
    "        res_sig=np.std(selec)\n",
    "        results.append(result)\n",
    "        res_sigs.append(res_sig)\n",
    "\n",
    "\n",
    "    plt.errorbar(n_clusters, results, yerr=res_sigs)\n",
    "    plt.title(\"Distance between Train and Test GMMs\", fontsize=20)\n",
    "    plt.xticks(n_clusters)\n",
    "    plt.xlabel(\"N. of components\")\n",
    "    plt.ylabel(\"Distance\")\n",
    "    plt.show()\n",
    "\n",
    "def generate_bic_plot(X, n):\n",
    "    n_clusters=np.arange(2, n)\n",
    "    bics=[]\n",
    "    bics_err=[]\n",
    "    iterations=n\n",
    "    for n in n_clusters:\n",
    "        tmp_bic=[]\n",
    "        for _ in range(iterations):\n",
    "            gmm=GaussianMixture(n, n_init=2).fit(X) \n",
    "\n",
    "            tmp_bic.append(gmm.bic(X))\n",
    "        val=np.mean(SelBest(np.array(tmp_bic), int(iterations/5)))\n",
    "        err=np.std(tmp_bic)\n",
    "        bics.append(val)\n",
    "        bics_err.append(err)\n",
    "\n",
    "    plt.errorbar(n_clusters,bics, yerr=bics_err, label='BIC')\n",
    "    plt.title(\"BIC Scores\", fontsize=20)\n",
    "    plt.xticks(n_clusters)\n",
    "    plt.xlabel(\"N. of components\")\n",
    "    plt.ylabel(\"Score\")\n",
    "    plt.legend()\n",
    "    plt.show()\n",
    "    plt.clf()\n",
    "    \n",
    "    plt.errorbar(n_clusters, np.gradient(bics), yerr=bics_err, label='BIC')\n",
    "    plt.title(\"Gradient of BIC Scores\", fontsize=20)\n",
    "    plt.xticks(n_clusters)\n",
    "    plt.xlabel(\"N. of components\")\n",
    "    plt.ylabel(\"grad(BIC)\")\n",
    "    plt.legend()\n",
    "    plt.show()\n",
    "    plt.clf()"
   ]
  },
  {
   "cell_type": "markdown",
   "id": "a0b07142",
   "metadata": {
    "papermill": {
     "duration": 0.028075,
     "end_time": "2024-08-29T22:24:05.003056",
     "exception": false,
     "start_time": "2024-08-29T22:24:04.974981",
     "status": "completed"
    },
    "tags": []
   },
   "source": [
    "# CLUSTERING"
   ]
  },
  {
   "cell_type": "code",
   "execution_count": 45,
   "id": "8f3d2926",
   "metadata": {
    "execution": {
     "iopub.execute_input": "2024-08-29T22:24:05.056089Z",
     "iopub.status.busy": "2024-08-29T22:24:05.055611Z",
     "iopub.status.idle": "2024-08-29T22:24:05.063353Z",
     "shell.execute_reply": "2024-08-29T22:24:05.061917Z"
    },
    "papermill": {
     "duration": 0.038151,
     "end_time": "2024-08-29T22:24:05.066275",
     "exception": false,
     "start_time": "2024-08-29T22:24:05.028124",
     "status": "completed"
    },
    "tags": []
   },
   "outputs": [],
   "source": [
    "import pandas as pd\n",
    "import numpy as np\n",
    "from sklearn.preprocessing import StandardScaler\n",
    "from sklearn.decomposition import PCA, FastICA\n",
    "from sklearn.cluster import KMeans\n",
    "import matplotlib.pyplot as plt\n",
    "from sklearn.metrics import silhouette_score"
   ]
  },
  {
   "cell_type": "markdown",
   "id": "59d0e579",
   "metadata": {
    "papermill": {
     "duration": 0.02917,
     "end_time": "2024-08-29T22:24:05.121417",
     "exception": false,
     "start_time": "2024-08-29T22:24:05.092247",
     "status": "completed"
    },
    "tags": []
   },
   "source": [
    "## PCA"
   ]
  },
  {
   "cell_type": "code",
   "execution_count": 46,
   "id": "fa4fceae",
   "metadata": {
    "execution": {
     "iopub.execute_input": "2024-08-29T22:24:05.172100Z",
     "iopub.status.busy": "2024-08-29T22:24:05.171693Z",
     "iopub.status.idle": "2024-08-29T22:24:05.178717Z",
     "shell.execute_reply": "2024-08-29T22:24:05.177209Z"
    },
    "papermill": {
     "duration": 0.035123,
     "end_time": "2024-08-29T22:24:05.181800",
     "exception": false,
     "start_time": "2024-08-29T22:24:05.146677",
     "status": "completed"
    },
    "tags": []
   },
   "outputs": [],
   "source": [
    "if not TEST:\n",
    "    pca = PCA(n_components=2)\n",
    "    X_pca = pca.fit_transform(X_train)"
   ]
  },
  {
   "cell_type": "markdown",
   "id": "07f0cbbd",
   "metadata": {
    "papermill": {
     "duration": 0.024517,
     "end_time": "2024-08-29T22:24:05.230664",
     "exception": false,
     "start_time": "2024-08-29T22:24:05.206147",
     "status": "completed"
    },
    "tags": []
   },
   "source": [
    "## ICA"
   ]
  },
  {
   "cell_type": "code",
   "execution_count": 47,
   "id": "844259cc",
   "metadata": {
    "execution": {
     "iopub.execute_input": "2024-08-29T22:24:05.279007Z",
     "iopub.status.busy": "2024-08-29T22:24:05.278579Z",
     "iopub.status.idle": "2024-08-29T22:24:05.284423Z",
     "shell.execute_reply": "2024-08-29T22:24:05.283224Z"
    },
    "papermill": {
     "duration": 0.033682,
     "end_time": "2024-08-29T22:24:05.287310",
     "exception": false,
     "start_time": "2024-08-29T22:24:05.253628",
     "status": "completed"
    },
    "tags": []
   },
   "outputs": [],
   "source": [
    "if not TEST:\n",
    "    ica = FastICA(n_components=2, random_state=42)\n",
    "    X_ica = ica.fit_transform(X_train)"
   ]
  },
  {
   "cell_type": "markdown",
   "id": "14a1d9df",
   "metadata": {
    "papermill": {
     "duration": 0.022118,
     "end_time": "2024-08-29T22:24:05.332507",
     "exception": false,
     "start_time": "2024-08-29T22:24:05.310389",
     "status": "completed"
    },
    "tags": []
   },
   "source": [
    "## Kmeans"
   ]
  },
  {
   "cell_type": "code",
   "execution_count": 48,
   "id": "2b75f613",
   "metadata": {
    "execution": {
     "iopub.execute_input": "2024-08-29T22:24:05.379080Z",
     "iopub.status.busy": "2024-08-29T22:24:05.378646Z",
     "iopub.status.idle": "2024-08-29T22:24:05.385706Z",
     "shell.execute_reply": "2024-08-29T22:24:05.384348Z"
    },
    "papermill": {
     "duration": 0.035793,
     "end_time": "2024-08-29T22:24:05.389478",
     "exception": false,
     "start_time": "2024-08-29T22:24:05.353685",
     "status": "completed"
    },
    "tags": []
   },
   "outputs": [],
   "source": [
    "if not TEST:\n",
    "    inertias = []\n",
    "    silhouette_scores = []\n",
    "    k_range = range(2, 11)\n",
    "\n",
    "    for k in k_range:\n",
    "        kmeans = KMeans(n_clusters=k, random_state=42)\n",
    "        kmeans.fit(X_train)\n",
    "        inertias.append(kmeans.inertia_)\n",
    "        silhouette_scores.append(silhouette_score(X_train, kmeans.labels_))"
   ]
  },
  {
   "cell_type": "code",
   "execution_count": 49,
   "id": "a453f6d0",
   "metadata": {
    "execution": {
     "iopub.execute_input": "2024-08-29T22:24:05.438415Z",
     "iopub.status.busy": "2024-08-29T22:24:05.438010Z",
     "iopub.status.idle": "2024-08-29T22:24:05.445252Z",
     "shell.execute_reply": "2024-08-29T22:24:05.443953Z"
    },
    "papermill": {
     "duration": 0.034654,
     "end_time": "2024-08-29T22:24:05.447709",
     "exception": false,
     "start_time": "2024-08-29T22:24:05.413055",
     "status": "completed"
    },
    "tags": []
   },
   "outputs": [],
   "source": [
    "if not TEST:\n",
    "    # Plot elbow curve\n",
    "    plt.figure(figsize=(10, 5))\n",
    "    plt.subplot(1, 2, 1)\n",
    "    plt.plot(k_range, inertias, 'bx-')\n",
    "    plt.xlabel('k')\n",
    "    plt.ylabel('Inertia')\n",
    "    plt.title('Elbow Method for Optimal k')\n",
    "\n",
    "    # Plot silhouette scores\n",
    "    plt.subplot(1, 2, 2)\n",
    "    plt.plot(k_range, silhouette_scores, 'rx-')\n",
    "    plt.xlabel('k')\n",
    "    plt.ylabel('Silhouette Score')\n",
    "    plt.title('Silhouette Score for Optimal k')\n",
    "    plt.tight_layout()\n",
    "    plt.show()\n"
   ]
  },
  {
   "cell_type": "code",
   "execution_count": null,
   "id": "9ef69562",
   "metadata": {
    "execution": {
     "iopub.execute_input": "2024-08-29T22:24:05.498123Z",
     "iopub.status.busy": "2024-08-29T22:24:05.497698Z",
     "iopub.status.idle": "2024-08-29T22:24:05.504615Z",
     "shell.execute_reply": "2024-08-29T22:24:05.503353Z"
    },
    "papermill": {
     "duration": 0.037966,
     "end_time": "2024-08-29T22:24:05.507475",
     "exception": false,
     "start_time": "2024-08-29T22:24:05.469509",
     "status": "completed"
    },
    "tags": []
   },
   "outputs": [],
   "source": [
    "if not TEST:\n",
    "    optimal_k = 7 \n",
    "\n",
    "    kmeans = KMeans(n_clusters=optimal_k, random_state=42)\n",
    "    cluster_labels = kmeans.fit_predict(X_train)"
   ]
  },
  {
   "cell_type": "code",
   "execution_count": null,
   "id": "53667956",
   "metadata": {
    "execution": {
     "iopub.execute_input": "2024-08-29T22:24:05.557455Z",
     "iopub.status.busy": "2024-08-29T22:24:05.556966Z",
     "iopub.status.idle": "2024-08-29T22:24:05.566853Z",
     "shell.execute_reply": "2024-08-29T22:24:05.565010Z"
    },
    "papermill": {
     "duration": 0.040637,
     "end_time": "2024-08-29T22:24:05.570053",
     "exception": false,
     "start_time": "2024-08-29T22:24:05.529416",
     "status": "completed"
    },
    "tags": []
   },
   "outputs": [],
   "source": [
    "if not TEST:\n",
    "    # Visualize everything\n",
    "    plt.figure(figsize=(15, 5))\n",
    "\n",
    "    # PCA\n",
    "    plt.subplot(1, 3, 1)\n",
    "    plt.scatter(X_pca[:, 0], X_pca[:, 1], c=cluster_labels, cmap='viridis')\n",
    "    plt.title('PCA')\n",
    "    plt.xlabel('First Principal Component')\n",
    "    plt.ylabel('Second Principal Component')\n",
    "\n",
    "    # ICA\n",
    "    plt.subplot(1, 3, 2)\n",
    "    plt.scatter(X_ica[:, 0], X_ica[:, 1], c=cluster_labels, cmap='viridis')\n",
    "    plt.title('ICA')\n",
    "    plt.xlabel('First Independent Component')\n",
    "    plt.ylabel('Second Independent Component')\n",
    "\n",
    "    # K-means\n",
    "    plt.subplot(1, 3, 3)\n",
    "    plt.scatter(X_train_scaled[:, 0], X_train_scaled[:, 1], c=cluster_labels, cmap='viridis')\n",
    "    plt.title('K-means Clustering')\n",
    "    plt.xlabel('Feature 1')\n",
    "    plt.ylabel('Feature 2')\n",
    "\n",
    "    plt.tight_layout()\n",
    "    plt.show()"
   ]
  },
  {
   "cell_type": "code",
   "execution_count": 52,
   "id": "d38c3d43",
   "metadata": {
    "execution": {
     "iopub.execute_input": "2024-08-29T22:24:05.617072Z",
     "iopub.status.busy": "2024-08-29T22:24:05.616659Z",
     "iopub.status.idle": "2024-08-29T22:24:05.623801Z",
     "shell.execute_reply": "2024-08-29T22:24:05.622540Z"
    },
    "papermill": {
     "duration": 0.033429,
     "end_time": "2024-08-29T22:24:05.626242",
     "exception": false,
     "start_time": "2024-08-29T22:24:05.592813",
     "status": "completed"
    },
    "tags": []
   },
   "outputs": [
    {
     "name": "stdout",
     "output_type": "stream",
     "text": [
      "dict_keys(['dt', 'gb', 'svm_rbf', 'svm_poly', 'mlp'])\n",
      "dict_values([array([0, 1, 1, ..., 1, 0, 0]), array([0, 1, 1, ..., 1, 1, 1]), array([0, 1, 1, ..., 1, 0, 0]), array([0, 1, 1, ..., 1, 0, 0]), array([0, 1, 0, ..., 1, 0, 0])])\n"
     ]
    }
   ],
   "source": [
    "print(test_preds.keys())\n",
    "print(test_preds.values())"
   ]
  },
  {
   "cell_type": "markdown",
   "id": "b484bec0",
   "metadata": {
    "papermill": {
     "duration": 0.022014,
     "end_time": "2024-08-29T22:24:05.669439",
     "exception": false,
     "start_time": "2024-08-29T22:24:05.647425",
     "status": "completed"
    },
    "tags": []
   },
   "source": [
    "# Ensemble Model Time:"
   ]
  },
  {
   "cell_type": "code",
   "execution_count": null,
   "id": "c32e877b",
   "metadata": {
    "papermill": {
     "duration": 0.023876,
     "end_time": "2024-08-29T22:24:05.717256",
     "exception": false,
     "start_time": "2024-08-29T22:24:05.693380",
     "status": "completed"
    },
    "tags": []
   },
   "outputs": [],
   "source": []
  },
  {
   "cell_type": "code",
   "execution_count": null,
   "id": "68a5d7f2",
   "metadata": {
    "execution": {
     "iopub.execute_input": "2024-08-29T22:24:05.766070Z",
     "iopub.status.busy": "2024-08-29T22:24:05.765604Z",
     "iopub.status.idle": "2024-08-29T22:24:05.775250Z",
     "shell.execute_reply": "2024-08-29T22:24:05.773564Z"
    },
    "papermill": {
     "duration": 0.038518,
     "end_time": "2024-08-29T22:24:05.778853",
     "exception": false,
     "start_time": "2024-08-29T22:24:05.740335",
     "status": "completed"
    },
    "tags": []
   },
   "outputs": [
    {
     "data": {
      "text/plain": [
       "'\\nX = np.column_stack([test_preds[label] for label in test_preds.keys()]).astype(np.float64).clip(1e-15, 1-1e-15)\\nmask = ~ np.isnan(X).any(axis=1)\\nif COMPUTE_TEST_PRED:\\n    X_te = np.column_stack([test_pred[label] for label in test_preds.keys() if \\'Ensemble\\' not in label]).astype(np.float64).clip(1e-15, 1-1e-15)\\nmodel = make_pipeline(FunctionTransformer(scipy.special.logit), LogisticRegression(max_iter=500))\\ntest_preds[\\'Ensemble (logistic)\\'] = np.full(len(X), np.nan)\\ntest_preds[\\'Ensemble (logistic)\\'][mask] = cross_val_predict(model,\\n                                               X[mask], targets_bool[mask],\\n                                               cv=crossval_kf, method=\\'predict_proba\\')[:,1]\\nprint(f\"{Fore.GREEN}# Stacking ensemble (logistic)\"\\n      f\" mcc={matthews_corrcoef(targets_bool[mask], test_preds[\\'Ensemble (logistic)\\'][mask] >= 0.5):.5f}\"\\n      f\" logloss={log_loss(targets_bool[mask], oof[\\'Ensemble (logistic)\\'][mask]):.5f}{Style.RESET_ALL}\")\\n\\nmodel.fit(X[mask], targets_bool[mask])\\nprint(pd.Series(model[-1].coef_.ravel(), index=[label for label in test_preds.keys() if \\'Ensemble\\' not in label], name=\\'weights\\'))\\n\\nif COMPUTE_TEST_PRED:\\n    test_pred[\\'Ensemble (logistic)\\'] = model.predict_proba(X_te)[:,1]\\n'"
      ]
     },
     "execution_count": 53,
     "metadata": {},
     "output_type": "execute_result"
    }
   ],
   "source": [
    "COMPUTE_TEST_PRED = True\n",
    "#NTS: Not an improvement\n",
    "\"\"\"\n",
    "X = np.column_stack([test_preds[label] for label in test_preds.keys()]).astype(np.float64).clip(1e-15, 1-1e-15)\n",
    "mask = ~ np.isnan(X).any(axis=1)\n",
    "if COMPUTE_TEST_PRED:\n",
    "    X_te = np.column_stack([test_pred[label] for label in test_preds.keys() if 'Ensemble' not in label]).astype(np.float64).clip(1e-15, 1-1e-15)\n",
    "model = make_pipeline(FunctionTransformer(scipy.special.logit), LogisticRegression(max_iter=500))\n",
    "test_preds['Ensemble (logistic)'] = np.full(len(X), np.nan)\n",
    "test_preds['Ensemble (logistic)'][mask] = cross_val_predict(model,\n",
    "                                               X[mask], targets_bool[mask],\n",
    "                                               cv=crossval_kf, method='predict_proba')[:,1]\n",
    "print(f\"{Fore.GREEN}# Stacking ensemble (logistic)\"\n",
    "      f\" mcc={matthews_corrcoef(targets_bool[mask], test_preds['Ensemble (logistic)'][mask] >= 0.5):.5f}\"\n",
    "      f\" logloss={log_loss(targets_bool[mask], oof['Ensemble (logistic)'][mask]):.5f}{Style.RESET_ALL}\")\n",
    "\n",
    "model.fit(X[mask], targets_bool[mask])\n",
    "print(pd.Series(model[-1].coef_.ravel(), index=[label for label in test_preds.keys() if 'Ensemble' not in label], name='weights'))\n",
    "\n",
    "if COMPUTE_TEST_PRED:\n",
    "    test_pred['Ensemble (logistic)'] = model.predict_proba(X_te)[:,1]\n",
    "\"\"\""
   ]
  },
  {
   "cell_type": "code",
   "execution_count": 54,
   "id": "966c44f1",
   "metadata": {
    "execution": {
     "iopub.execute_input": "2024-08-29T22:24:05.828416Z",
     "iopub.status.busy": "2024-08-29T22:24:05.826987Z",
     "iopub.status.idle": "2024-08-29T22:24:05.870326Z",
     "shell.execute_reply": "2024-08-29T22:24:05.868968Z"
    },
    "papermill": {
     "duration": 0.071352,
     "end_time": "2024-08-29T22:24:05.873244",
     "exception": false,
     "start_time": "2024-08-29T22:24:05.801892",
     "status": "completed"
    },
    "tags": []
   },
   "outputs": [],
   "source": [
    "if TEST:\n",
    "    model_num = float(len(list(test_preds.keys())))\n",
    "    pred_votes = np.zeros(testframe.shape[0])\n",
    "    for label in list(test_preds.keys()):\n",
    "        pred_votes = pred_votes + test_preds[label]\n",
    "    pred_votes = pred_votes / model_num"
   ]
  },
  {
   "cell_type": "markdown",
   "id": "0c5af152",
   "metadata": {
    "papermill": {
     "duration": 0.021689,
     "end_time": "2024-08-29T22:24:05.917118",
     "exception": false,
     "start_time": "2024-08-29T22:24:05.895429",
     "status": "completed"
    },
    "tags": []
   },
   "source": [
    "# Submission"
   ]
  },
  {
   "cell_type": "code",
   "execution_count": 55,
   "id": "417cb950",
   "metadata": {
    "execution": {
     "iopub.execute_input": "2024-08-29T22:24:05.962796Z",
     "iopub.status.busy": "2024-08-29T22:24:05.962407Z",
     "iopub.status.idle": "2024-08-29T22:24:08.823708Z",
     "shell.execute_reply": "2024-08-29T22:24:08.821897Z"
    },
    "papermill": {
     "duration": 2.887212,
     "end_time": "2024-08-29T22:24:08.826448",
     "exception": false,
     "start_time": "2024-08-29T22:24:05.939236",
     "status": "completed"
    },
    "tags": []
   },
   "outputs": [
    {
     "name": "stdout",
     "output_type": "stream",
     "text": [
      "id,class\r\n",
      "3116945,e\r\n",
      "3116946,p\r\n",
      "3116947,p\r\n",
      "3116948,p\r\n",
      "3116949,e\r\n",
      "3116950,e\r\n",
      "3116951,e\r\n",
      "3116952,p\r\n",
      "3116953,p\r\n",
      "id\n",
      "3116945    e\n",
      "3116946    p\n",
      "3116947    p\n",
      "3116948    p\n",
      "3116949    e\n",
      "Name: class, dtype: object\n"
     ]
    }
   ],
   "source": [
    "if TEST:\n",
    "    sub = pd.Series(np.where(pred_votes >= 0.5, 'p', 'e'),\n",
    "                    index=testframe.index,\n",
    "                    name='class')\n",
    "    sub.to_csv('submission.csv')\n",
    "    !head submission.csv\n",
    "    print(sub.head())"
   ]
  }
 ],
 "metadata": {
  "kaggle": {
   "accelerator": "none",
   "dataSources": [
    {
     "databundleVersionId": 9045607,
     "sourceId": 76727,
     "sourceType": "competition"
    }
   ],
   "dockerImageVersionId": 30746,
   "isGpuEnabled": false,
   "isInternetEnabled": true,
   "language": "python",
   "sourceType": "notebook"
  },
  "kernelspec": {
   "display_name": "Python 3",
   "language": "python",
   "name": "python3"
  },
  "language_info": {
   "codemirror_mode": {
    "name": "ipython",
    "version": 3
   },
   "file_extension": ".py",
   "mimetype": "text/x-python",
   "name": "python",
   "nbconvert_exporter": "python",
   "pygments_lexer": "ipython3",
   "version": "3.10.13"
  },
  "papermill": {
   "default_parameters": {},
   "duration": 1072.390535,
   "end_time": "2024-08-29T22:24:10.078675",
   "environment_variables": {},
   "exception": null,
   "input_path": "__notebook__.ipynb",
   "output_path": "__notebook__.ipynb",
   "parameters": {},
   "start_time": "2024-08-29T22:06:17.688140",
   "version": "2.5.0"
  }
 },
 "nbformat": 4,
 "nbformat_minor": 5
}
